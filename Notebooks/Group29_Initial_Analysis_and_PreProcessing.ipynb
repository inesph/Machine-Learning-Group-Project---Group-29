{
 "cells": [
  {
   "cell_type": "markdown",
   "id": "c5fcda83-44f5-48af-80a1-4ba380d3faec",
   "metadata": {},
   "source": [
    "# Students ID\n",
    "\n",
    "Student Name - Inês Honrado<br>\n",
    "Student id - 20240559<br>\n",
    "Contact e-mail - 20240559@novaims.unl.pt<br>\n",
    "\n",
    "Student Name - Jude Gbenimako<br>\n",
    "Student id - 20240700<br>\n",
    "Contact e-mail - 20240700@novaims.unl.pt<br>\n",
    "\n",
    "Student Name - Rúben Marques<br>\n",
    "Student id - 20240352<br>\n",
    "Contact e-mail - 20240352@novaims.unl.pt<br>\n",
    "\n",
    "Student Name - Susana Reis<br>\n",
    "Student id - 20240567<br>\n",
    "Contact e-mail - 20240567@novaims.unl.pt<br>\n",
    "\n",
    "Student Name - Tomás Carvalho<br>\n",
    "Student id - 20240938<br>\n",
    "Contact e-mail - 20240938@novaims.unl.pt<br>"
   ]
  },
  {
   "cell_type": "markdown",
   "id": "8963ba0c-1e30-47bb-9e13-ccceaf7857f6",
   "metadata": {},
   "source": [
    "# Import the Necessary Libraries"
   ]
  },
  {
   "cell_type": "code",
   "execution_count": 3,
   "id": "abcf0418-197d-401d-93d7-555859fec5e8",
   "metadata": {},
   "outputs": [],
   "source": [
    "import pandas as pd\n",
    "import numpy as np\n",
    "import matplotlib.pyplot as plt\n",
    "import seaborn as sns\n",
    "from sklearn.model_selection import train_test_split\n",
    "from scipy.stats import skew\n",
    "from sklearn.impute import SimpleImputer\n",
    "\n",
    "from sklearn.preprocessing import LabelEncoder\n",
    "import category_encoders as ce\n",
    "from sklearn.preprocessing import MinMaxScaler\n",
    "\n",
    "from scipy import stats\n",
    "from sklearn.feature_selection import mutual_info_classif\n",
    "from sklearn.linear_model import LassoCV\n",
    "\n",
    "import warnings\n",
    "warnings.filterwarnings('ignore')\n",
    "\n",
    "import joblib"
   ]
  },
  {
   "cell_type": "markdown",
   "id": "de8c5d71-f497-449c-88c6-ca986f6071ea",
   "metadata": {},
   "source": [
    "# Context"
   ]
  },
  {
   "cell_type": "markdown",
   "id": "0022058f-3abf-4b2f-ac59-9c5d2c131b63",
   "metadata": {},
   "source": [
    "Workers' compensation for workplace injuries in New York are administrated through the Workers' Compensation Board. Due to the fact that over 5 million claims have been processed since the year 2000, assessing claims manually is very time-consuming. The purpose of this project is to apply machine learning models, taking claims from 2020 to 2022, to conduct automated claim evaluations in order to seep up decision-making on new claims and increase WCB efficiency in handling compensation processes."
   ]
  },
  {
   "cell_type": "markdown",
   "id": "ce1eded7-bbb3-4e00-bdca-4c976c8b7632",
   "metadata": {},
   "source": [
    "# Metadata"
   ]
  },
  {
   "cell_type": "markdown",
   "id": "f93011da-2e12-42a4-9440-92c25c7989c1",
   "metadata": {},
   "source": [
    "- **Accident Date**: Injury date of the claim.\n",
    "- **Age at Injury**: Age of injured worker when the injury occurred.\n",
    "- **Alternative Dispute Resolution**: Adjudication processes external to the Board.\n",
    "- **Assembly Date**: The date the claim was first assembled.\n",
    "- **Attorney/Representative**: Whether the claim is being represented by an attorney.\n",
    "- **Average Weekly Wage**: The wage used to calculate workers’ compensation, disability, or paid leave wage replacement benefits.\n",
    "- **Birth Year**: The reported year of birth of the injured worker.\n",
    "- **C-2 Date**: Date of receipt of the Employer's Report of Work-Related Injury/Illness or equivalent (formerly Form C-2).\n",
    "- **C-3 Date**: Date Form C-3 (Employee Claim Form) was received.\n",
    "- **Carrier Name**: Name of the primary insurance provider responsible for providing workers’ compensation coverage to the injured worker’s employer.\n",
    "- **Carrier Type**: Type of primary insurance provider responsible for providing workers’ compensation coverage.\n",
    "- **Claim Identifier**: Unique identifier for each claim, assigned by WCB.\n",
    "- **County of Injury**: Name of the New York County where the injury occurred.\n",
    "- **COVID-19 Indicator**: Indicates if the claim may be associated with COVID-19.\n",
    "- **District Name**: Name of the WCB district office that oversees claims for that region or area of the state.\n",
    "- **First Hearing Date**: Date the first hearing was held on a claim at a WCB hearing location. A blank date means the claim has not yet had a hearing.\n",
    "- **Gender**: The reported gender of the injured worker.\n",
    "- **IME-4 Count**: Number of IME-4 forms received per claim. The IME-4 form is the \"Independent Examiner's Report of Independent Medical Examination.\"\n",
    "- **Industry Code**: NAICS code and descriptions are available at [NAICS Search](https://www.naics.com/search-naics-codes-by-industry/).\n",
    "- **Industry Code Description**: 2-digit NAICS industry code description used to classify businesses according to their economic activity.\n",
    "- **Medical Fee Region**: Approximate region where the injured worker would receive medical services.\n",
    "- **OIICS Nature of Injury Description**: The OIICS nature of injury codes & descriptions are available at [BLS OIICS Manual](https://www.bls.gov/iif/oiics_manual_2007.pdf).\n",
    "- **WCIO Cause of Injury Code**: The WCIO cause of injury codes & descriptions are available at [WCIO Cause Table](https://www.wcio.org/Active%20PNC/WCIO_Cause_Table.pdf).\n",
    "- **WCIO Cause of Injury Description**: See description of field above.\n",
    "- **WCIO Nature of Injury Code**: The WCIO nature of injury codes & descriptions are available at [WCIO Nature Table](https://www.wcio.org/Active%20PNC/WCIO_Nature_Table.pdf).\n",
    "- **WCIO Nature of Injury Description**: See description of field above.\n",
    "- **WCIO Part of Body Code**: The WCIO part of body codes & descriptions are available at [WCIO Part Table](https://www.wcio.org/Active%20PNC/WCIO_Part_Table.pdf).\n",
    "- **WCIO Part of Body Description**: See description of field above.\n",
    "- **Zip Code**: The reported ZIP code of the injured worker’s home address.\n",
    "- **Agreement Reached**: Binary variable: Yes if there is an agreement without the involvement of the WCB (unknown at the start of a claim).\n",
    "- **WCB Decision**: Multiclass variable: Decision of the WCB relative to the claim: \"Accident\" means that the claim refers to a workplace accident; \"Occupational Disease\" means illness from the workplace; requires WCB deliberation, so it is unknown at the start of a claim.\n",
    "- **Claim Injury Type**: Main target variable: Deliberation of the WCB relative to benefits awarded to the claim. Numbering indicates severity."
   ]
  },
  {
   "cell_type": "markdown",
   "id": "76ec0d27-323f-4c77-b49e-14311197e35c",
   "metadata": {},
   "source": [
    "# Import the data"
   ]
  },
  {
   "cell_type": "code",
   "execution_count": 9,
   "id": "450be317-ad91-454f-8b2e-f99a6d6b9357",
   "metadata": {},
   "outputs": [],
   "source": [
    "df_train = pd.read_csv('train_data.csv')\n",
    "df_test = pd.read_csv('test_data.csv')"
   ]
  },
  {
   "cell_type": "markdown",
   "id": "20e13900-c38d-4981-bd5d-66f94b2b8c98",
   "metadata": {},
   "source": [
    "# Initial Analysis"
   ]
  },
  {
   "cell_type": "code",
   "execution_count": 11,
   "id": "44f7f220-9190-4763-ab89-1e6be31471ef",
   "metadata": {},
   "outputs": [
    {
     "data": {
      "text/plain": [
       "(593471, 33)"
      ]
     },
     "execution_count": 11,
     "metadata": {},
     "output_type": "execute_result"
    }
   ],
   "source": [
    "df_train.shape"
   ]
  },
  {
   "cell_type": "markdown",
   "id": "00fb330c-3736-4670-b595-41c8de2ec76e",
   "metadata": {},
   "source": [
    "We have 33 variables and 593471 observations."
   ]
  },
  {
   "cell_type": "code",
   "execution_count": 13,
   "id": "bada46e8-8473-4c55-983e-feb6eff63bc1",
   "metadata": {},
   "outputs": [
    {
     "name": "stdout",
     "output_type": "stream",
     "text": [
      "<class 'pandas.core.frame.DataFrame'>\n",
      "RangeIndex: 593471 entries, 0 to 593470\n",
      "Data columns (total 33 columns):\n",
      " #   Column                              Non-Null Count   Dtype  \n",
      "---  ------                              --------------   -----  \n",
      " 0   Accident Date                       570337 non-null  object \n",
      " 1   Age at Injury                       574026 non-null  float64\n",
      " 2   Alternative Dispute Resolution      574026 non-null  object \n",
      " 3   Assembly Date                       593471 non-null  object \n",
      " 4   Attorney/Representative             574026 non-null  object \n",
      " 5   Average Weekly Wage                 545375 non-null  float64\n",
      " 6   Birth Year                          544948 non-null  float64\n",
      " 7   C-2 Date                            559466 non-null  object \n",
      " 8   C-3 Date                            187245 non-null  object \n",
      " 9   Carrier Name                        574026 non-null  object \n",
      " 10  Carrier Type                        574026 non-null  object \n",
      " 11  Claim Identifier                    593471 non-null  int64  \n",
      " 12  Claim Injury Type                   574026 non-null  object \n",
      " 13  County of Injury                    574026 non-null  object \n",
      " 14  COVID-19 Indicator                  574026 non-null  object \n",
      " 15  District Name                       574026 non-null  object \n",
      " 16  First Hearing Date                  150798 non-null  object \n",
      " 17  Gender                              574026 non-null  object \n",
      " 18  IME-4 Count                         132803 non-null  float64\n",
      " 19  Industry Code                       564068 non-null  float64\n",
      " 20  Industry Code Description           564068 non-null  object \n",
      " 21  Medical Fee Region                  574026 non-null  object \n",
      " 22  OIICS Nature of Injury Description  0 non-null       float64\n",
      " 23  WCIO Cause of Injury Code           558386 non-null  float64\n",
      " 24  WCIO Cause of Injury Description    558386 non-null  object \n",
      " 25  WCIO Nature of Injury Code          558369 non-null  float64\n",
      " 26  WCIO Nature of Injury Description   558369 non-null  object \n",
      " 27  WCIO Part Of Body Code              556944 non-null  float64\n",
      " 28  WCIO Part Of Body Description       556944 non-null  object \n",
      " 29  Zip Code                            545389 non-null  object \n",
      " 30  Agreement Reached                   574026 non-null  float64\n",
      " 31  WCB Decision                        574026 non-null  object \n",
      " 32  Number of Dependents                574026 non-null  float64\n",
      "dtypes: float64(11), int64(1), object(21)\n",
      "memory usage: 149.4+ MB\n"
     ]
    }
   ],
   "source": [
    "df_train.info()"
   ]
  },
  {
   "cell_type": "markdown",
   "id": "8a3a3350-3d98-481f-8822-fc02201676e3",
   "metadata": {},
   "source": [
    "The variable 'Claim Identifier' works has an ID, and is the perfect one to set as index."
   ]
  },
  {
   "cell_type": "code",
   "execution_count": 15,
   "id": "aea5e8ba-0735-4737-8d2f-8e8f9e331945",
   "metadata": {},
   "outputs": [],
   "source": [
    "keep_identifier = df_test['Claim Identifier'].copy()"
   ]
  },
  {
   "cell_type": "code",
   "execution_count": 16,
   "id": "2e4020d2-9efc-46a3-a847-1d636bc2a863",
   "metadata": {},
   "outputs": [],
   "source": [
    "df_train.set_index('Claim Identifier', inplace=True)\n",
    "df_test.set_index('Claim Identifier', inplace=True)"
   ]
  },
  {
   "cell_type": "markdown",
   "id": "4555c654-8537-4adb-ac8d-8cad4b9e4850",
   "metadata": {},
   "source": [
    "**Checking duplicates:**"
   ]
  },
  {
   "cell_type": "code",
   "execution_count": 18,
   "id": "d932b538-ebf4-4d41-b8af-759c5d143a85",
   "metadata": {},
   "outputs": [
    {
     "name": "stdout",
     "output_type": "stream",
     "text": [
      "Number of duplicate rows: 18350\n"
     ]
    }
   ],
   "source": [
    "duplicates = df_train.duplicated().sum()\n",
    "print(f\"Number of duplicate rows: {duplicates}\")"
   ]
  },
  {
   "cell_type": "code",
   "execution_count": 19,
   "id": "9d13b848-6dd6-4cb3-bf58-372971dcdc25",
   "metadata": {},
   "outputs": [],
   "source": [
    "df_train = df_train.drop_duplicates()"
   ]
  },
  {
   "cell_type": "code",
   "execution_count": 20,
   "id": "3b1797f3-9089-4ef8-8a24-791a7f297fc7",
   "metadata": {},
   "outputs": [
    {
     "name": "stdout",
     "output_type": "stream",
     "text": [
      "Number of duplicate rows: 0\n"
     ]
    }
   ],
   "source": [
    "duplicates = df_train.duplicated().sum()\n",
    "print(f\"Number of duplicate rows: {duplicates}\")"
   ]
  },
  {
   "cell_type": "markdown",
   "id": "39af5ffa-f503-4d39-a9a5-4163a7eaef19",
   "metadata": {},
   "source": [
    "**Checking statistics:**"
   ]
  },
  {
   "cell_type": "code",
   "execution_count": 22,
   "id": "6c4780f4-d535-4bb0-a2b4-6f9b159ef08b",
   "metadata": {},
   "outputs": [
    {
     "data": {
      "text/html": [
       "<div>\n",
       "<style scoped>\n",
       "    .dataframe tbody tr th:only-of-type {\n",
       "        vertical-align: middle;\n",
       "    }\n",
       "\n",
       "    .dataframe tbody tr th {\n",
       "        vertical-align: top;\n",
       "    }\n",
       "\n",
       "    .dataframe thead th {\n",
       "        text-align: right;\n",
       "    }\n",
       "</style>\n",
       "<table border=\"1\" class=\"dataframe\">\n",
       "  <thead>\n",
       "    <tr style=\"text-align: right;\">\n",
       "      <th></th>\n",
       "      <th>Age at Injury</th>\n",
       "      <th>Average Weekly Wage</th>\n",
       "      <th>Birth Year</th>\n",
       "      <th>IME-4 Count</th>\n",
       "      <th>Industry Code</th>\n",
       "      <th>OIICS Nature of Injury Description</th>\n",
       "      <th>WCIO Cause of Injury Code</th>\n",
       "      <th>WCIO Nature of Injury Code</th>\n",
       "      <th>WCIO Part Of Body Code</th>\n",
       "      <th>Agreement Reached</th>\n",
       "      <th>Number of Dependents</th>\n",
       "    </tr>\n",
       "  </thead>\n",
       "  <tbody>\n",
       "    <tr>\n",
       "      <th>count</th>\n",
       "      <td>574025.000000</td>\n",
       "      <td>5.453740e+05</td>\n",
       "      <td>544947.000000</td>\n",
       "      <td>132803.000000</td>\n",
       "      <td>564068.000000</td>\n",
       "      <td>0.0</td>\n",
       "      <td>558386.000000</td>\n",
       "      <td>558369.000000</td>\n",
       "      <td>556944.000000</td>\n",
       "      <td>574025.000000</td>\n",
       "      <td>574025.000000</td>\n",
       "    </tr>\n",
       "    <tr>\n",
       "      <th>mean</th>\n",
       "      <td>42.114343</td>\n",
       "      <td>4.910892e+02</td>\n",
       "      <td>1886.767454</td>\n",
       "      <td>3.207337</td>\n",
       "      <td>58.645305</td>\n",
       "      <td>NaN</td>\n",
       "      <td>54.381143</td>\n",
       "      <td>41.013839</td>\n",
       "      <td>39.738146</td>\n",
       "      <td>0.046665</td>\n",
       "      <td>3.006564</td>\n",
       "    </tr>\n",
       "    <tr>\n",
       "      <th>std</th>\n",
       "      <td>14.256336</td>\n",
       "      <td>6.092924e+03</td>\n",
       "      <td>414.644789</td>\n",
       "      <td>2.832303</td>\n",
       "      <td>19.644175</td>\n",
       "      <td>NaN</td>\n",
       "      <td>25.874281</td>\n",
       "      <td>22.207521</td>\n",
       "      <td>22.365940</td>\n",
       "      <td>0.210921</td>\n",
       "      <td>2.000799</td>\n",
       "    </tr>\n",
       "    <tr>\n",
       "      <th>min</th>\n",
       "      <td>0.000000</td>\n",
       "      <td>0.000000e+00</td>\n",
       "      <td>0.000000</td>\n",
       "      <td>1.000000</td>\n",
       "      <td>11.000000</td>\n",
       "      <td>NaN</td>\n",
       "      <td>1.000000</td>\n",
       "      <td>1.000000</td>\n",
       "      <td>-9.000000</td>\n",
       "      <td>0.000000</td>\n",
       "      <td>0.000000</td>\n",
       "    </tr>\n",
       "    <tr>\n",
       "      <th>25%</th>\n",
       "      <td>31.000000</td>\n",
       "      <td>0.000000e+00</td>\n",
       "      <td>1965.000000</td>\n",
       "      <td>1.000000</td>\n",
       "      <td>45.000000</td>\n",
       "      <td>NaN</td>\n",
       "      <td>31.000000</td>\n",
       "      <td>16.000000</td>\n",
       "      <td>33.000000</td>\n",
       "      <td>0.000000</td>\n",
       "      <td>1.000000</td>\n",
       "    </tr>\n",
       "    <tr>\n",
       "      <th>50%</th>\n",
       "      <td>42.000000</td>\n",
       "      <td>0.000000e+00</td>\n",
       "      <td>1977.000000</td>\n",
       "      <td>2.000000</td>\n",
       "      <td>61.000000</td>\n",
       "      <td>NaN</td>\n",
       "      <td>56.000000</td>\n",
       "      <td>49.000000</td>\n",
       "      <td>38.000000</td>\n",
       "      <td>0.000000</td>\n",
       "      <td>3.000000</td>\n",
       "    </tr>\n",
       "    <tr>\n",
       "      <th>75%</th>\n",
       "      <td>54.000000</td>\n",
       "      <td>8.410000e+02</td>\n",
       "      <td>1989.000000</td>\n",
       "      <td>4.000000</td>\n",
       "      <td>71.000000</td>\n",
       "      <td>NaN</td>\n",
       "      <td>75.000000</td>\n",
       "      <td>52.000000</td>\n",
       "      <td>53.000000</td>\n",
       "      <td>0.000000</td>\n",
       "      <td>5.000000</td>\n",
       "    </tr>\n",
       "    <tr>\n",
       "      <th>max</th>\n",
       "      <td>117.000000</td>\n",
       "      <td>2.828079e+06</td>\n",
       "      <td>2018.000000</td>\n",
       "      <td>73.000000</td>\n",
       "      <td>92.000000</td>\n",
       "      <td>NaN</td>\n",
       "      <td>99.000000</td>\n",
       "      <td>91.000000</td>\n",
       "      <td>99.000000</td>\n",
       "      <td>1.000000</td>\n",
       "      <td>6.000000</td>\n",
       "    </tr>\n",
       "  </tbody>\n",
       "</table>\n",
       "</div>"
      ],
      "text/plain": [
       "       Age at Injury  Average Weekly Wage     Birth Year    IME-4 Count  \\\n",
       "count  574025.000000         5.453740e+05  544947.000000  132803.000000   \n",
       "mean       42.114343         4.910892e+02    1886.767454       3.207337   \n",
       "std        14.256336         6.092924e+03     414.644789       2.832303   \n",
       "min         0.000000         0.000000e+00       0.000000       1.000000   \n",
       "25%        31.000000         0.000000e+00    1965.000000       1.000000   \n",
       "50%        42.000000         0.000000e+00    1977.000000       2.000000   \n",
       "75%        54.000000         8.410000e+02    1989.000000       4.000000   \n",
       "max       117.000000         2.828079e+06    2018.000000      73.000000   \n",
       "\n",
       "       Industry Code  OIICS Nature of Injury Description  \\\n",
       "count  564068.000000                                 0.0   \n",
       "mean       58.645305                                 NaN   \n",
       "std        19.644175                                 NaN   \n",
       "min        11.000000                                 NaN   \n",
       "25%        45.000000                                 NaN   \n",
       "50%        61.000000                                 NaN   \n",
       "75%        71.000000                                 NaN   \n",
       "max        92.000000                                 NaN   \n",
       "\n",
       "       WCIO Cause of Injury Code  WCIO Nature of Injury Code  \\\n",
       "count              558386.000000               558369.000000   \n",
       "mean                   54.381143                   41.013839   \n",
       "std                    25.874281                   22.207521   \n",
       "min                     1.000000                    1.000000   \n",
       "25%                    31.000000                   16.000000   \n",
       "50%                    56.000000                   49.000000   \n",
       "75%                    75.000000                   52.000000   \n",
       "max                    99.000000                   91.000000   \n",
       "\n",
       "       WCIO Part Of Body Code  Agreement Reached  Number of Dependents  \n",
       "count           556944.000000      574025.000000         574025.000000  \n",
       "mean                39.738146           0.046665              3.006564  \n",
       "std                 22.365940           0.210921              2.000799  \n",
       "min                 -9.000000           0.000000              0.000000  \n",
       "25%                 33.000000           0.000000              1.000000  \n",
       "50%                 38.000000           0.000000              3.000000  \n",
       "75%                 53.000000           0.000000              5.000000  \n",
       "max                 99.000000           1.000000              6.000000  "
      ]
     },
     "execution_count": 22,
     "metadata": {},
     "output_type": "execute_result"
    }
   ],
   "source": [
    "df_train.describe()"
   ]
  },
  {
   "cell_type": "markdown",
   "id": "deea80b6-7b99-4199-847d-ffb5a786ae29",
   "metadata": {},
   "source": [
    "**What we can observe:**\n",
    "  - Values like 0 or 117 in 'Age at Injury', which indicate data errors.\n",
    "  - There are a lot of 0 values in Average Weekly Wage.\n",
    "  - The mean birth year is approximately 1886, which might be skewed by invalid entries such as 0.\n",
    "  - The column 'OIICS Nature of Injury Description' is entirely missing, which might justify excluding it.\n",
    "  - Given that most values in 'Agreement Reached' are zero, a large portion of claims may not have reached an agreement."
   ]
  },
  {
   "cell_type": "code",
   "execution_count": 24,
   "id": "5ee4da2b-eab9-4483-8744-86c3138c432b",
   "metadata": {},
   "outputs": [
    {
     "data": {
      "text/html": [
       "<div>\n",
       "<style scoped>\n",
       "    .dataframe tbody tr th:only-of-type {\n",
       "        vertical-align: middle;\n",
       "    }\n",
       "\n",
       "    .dataframe tbody tr th {\n",
       "        vertical-align: top;\n",
       "    }\n",
       "\n",
       "    .dataframe thead th {\n",
       "        text-align: right;\n",
       "    }\n",
       "</style>\n",
       "<table border=\"1\" class=\"dataframe\">\n",
       "  <thead>\n",
       "    <tr style=\"text-align: right;\">\n",
       "      <th></th>\n",
       "      <th>Accident Date</th>\n",
       "      <th>Alternative Dispute Resolution</th>\n",
       "      <th>Assembly Date</th>\n",
       "      <th>Attorney/Representative</th>\n",
       "      <th>C-2 Date</th>\n",
       "      <th>C-3 Date</th>\n",
       "      <th>Carrier Name</th>\n",
       "      <th>Carrier Type</th>\n",
       "      <th>Claim Injury Type</th>\n",
       "      <th>County of Injury</th>\n",
       "      <th>...</th>\n",
       "      <th>District Name</th>\n",
       "      <th>First Hearing Date</th>\n",
       "      <th>Gender</th>\n",
       "      <th>Industry Code Description</th>\n",
       "      <th>Medical Fee Region</th>\n",
       "      <th>WCIO Cause of Injury Description</th>\n",
       "      <th>WCIO Nature of Injury Description</th>\n",
       "      <th>WCIO Part Of Body Description</th>\n",
       "      <th>Zip Code</th>\n",
       "      <th>WCB Decision</th>\n",
       "    </tr>\n",
       "  </thead>\n",
       "  <tbody>\n",
       "    <tr>\n",
       "      <th>count</th>\n",
       "      <td>570337</td>\n",
       "      <td>574025</td>\n",
       "      <td>575121</td>\n",
       "      <td>574025</td>\n",
       "      <td>559466</td>\n",
       "      <td>187244</td>\n",
       "      <td>574025</td>\n",
       "      <td>574025</td>\n",
       "      <td>574025</td>\n",
       "      <td>574025</td>\n",
       "      <td>...</td>\n",
       "      <td>574025</td>\n",
       "      <td>150797</td>\n",
       "      <td>574025</td>\n",
       "      <td>564068</td>\n",
       "      <td>574025</td>\n",
       "      <td>558386</td>\n",
       "      <td>558369</td>\n",
       "      <td>556944</td>\n",
       "      <td>545388</td>\n",
       "      <td>574025</td>\n",
       "    </tr>\n",
       "    <tr>\n",
       "      <th>unique</th>\n",
       "      <td>5539</td>\n",
       "      <td>3</td>\n",
       "      <td>1096</td>\n",
       "      <td>2</td>\n",
       "      <td>2475</td>\n",
       "      <td>1648</td>\n",
       "      <td>2046</td>\n",
       "      <td>8</td>\n",
       "      <td>8</td>\n",
       "      <td>63</td>\n",
       "      <td>...</td>\n",
       "      <td>8</td>\n",
       "      <td>1094</td>\n",
       "      <td>4</td>\n",
       "      <td>20</td>\n",
       "      <td>5</td>\n",
       "      <td>74</td>\n",
       "      <td>56</td>\n",
       "      <td>54</td>\n",
       "      <td>10060</td>\n",
       "      <td>1</td>\n",
       "    </tr>\n",
       "    <tr>\n",
       "      <th>top</th>\n",
       "      <td>2020-03-01</td>\n",
       "      <td>N</td>\n",
       "      <td>2020-03-06</td>\n",
       "      <td>N</td>\n",
       "      <td>2021-05-11</td>\n",
       "      <td>2021-04-21</td>\n",
       "      <td>STATE INSURANCE FUND</td>\n",
       "      <td>1A. PRIVATE</td>\n",
       "      <td>2. NON-COMP</td>\n",
       "      <td>SUFFOLK</td>\n",
       "      <td>...</td>\n",
       "      <td>NYC</td>\n",
       "      <td>2022-04-15</td>\n",
       "      <td>M</td>\n",
       "      <td>HEALTH CARE AND SOCIAL ASSISTANCE</td>\n",
       "      <td>IV</td>\n",
       "      <td>LIFTING</td>\n",
       "      <td>STRAIN OR TEAR</td>\n",
       "      <td>LOWER BACK AREA</td>\n",
       "      <td>11236</td>\n",
       "      <td>Not Work Related</td>\n",
       "    </tr>\n",
       "    <tr>\n",
       "      <th>freq</th>\n",
       "      <td>1245</td>\n",
       "      <td>571411</td>\n",
       "      <td>1414</td>\n",
       "      <td>392291</td>\n",
       "      <td>1847</td>\n",
       "      <td>350</td>\n",
       "      <td>111144</td>\n",
       "      <td>285367</td>\n",
       "      <td>291078</td>\n",
       "      <td>60430</td>\n",
       "      <td>...</td>\n",
       "      <td>270778</td>\n",
       "      <td>440</td>\n",
       "      <td>335217</td>\n",
       "      <td>114339</td>\n",
       "      <td>265981</td>\n",
       "      <td>46610</td>\n",
       "      <td>153373</td>\n",
       "      <td>51862</td>\n",
       "      <td>3302</td>\n",
       "      <td>574025</td>\n",
       "    </tr>\n",
       "  </tbody>\n",
       "</table>\n",
       "<p>4 rows × 21 columns</p>\n",
       "</div>"
      ],
      "text/plain": [
       "       Accident Date Alternative Dispute Resolution Assembly Date  \\\n",
       "count         570337                         574025        575121   \n",
       "unique          5539                              3          1096   \n",
       "top       2020-03-01                              N    2020-03-06   \n",
       "freq            1245                         571411          1414   \n",
       "\n",
       "       Attorney/Representative    C-2 Date    C-3 Date          Carrier Name  \\\n",
       "count                   574025      559466      187244                574025   \n",
       "unique                       2        2475        1648                  2046   \n",
       "top                          N  2021-05-11  2021-04-21  STATE INSURANCE FUND   \n",
       "freq                    392291        1847         350                111144   \n",
       "\n",
       "       Carrier Type Claim Injury Type County of Injury  ... District Name  \\\n",
       "count        574025            574025           574025  ...        574025   \n",
       "unique            8                 8               63  ...             8   \n",
       "top     1A. PRIVATE       2. NON-COMP          SUFFOLK  ...           NYC   \n",
       "freq         285367            291078            60430  ...        270778   \n",
       "\n",
       "       First Hearing Date  Gender          Industry Code Description  \\\n",
       "count              150797  574025                             564068   \n",
       "unique               1094       4                                 20   \n",
       "top            2022-04-15       M  HEALTH CARE AND SOCIAL ASSISTANCE   \n",
       "freq                  440  335217                             114339   \n",
       "\n",
       "       Medical Fee Region WCIO Cause of Injury Description  \\\n",
       "count              574025                           558386   \n",
       "unique                  5                               74   \n",
       "top                    IV                          LIFTING   \n",
       "freq               265981                            46610   \n",
       "\n",
       "       WCIO Nature of Injury Description WCIO Part Of Body Description  \\\n",
       "count                             558369                        556944   \n",
       "unique                                56                            54   \n",
       "top                       STRAIN OR TEAR               LOWER BACK AREA   \n",
       "freq                              153373                         51862   \n",
       "\n",
       "       Zip Code      WCB Decision  \n",
       "count    545388            574025  \n",
       "unique    10060                 1  \n",
       "top       11236  Not Work Related  \n",
       "freq       3302            574025  \n",
       "\n",
       "[4 rows x 21 columns]"
      ]
     },
     "execution_count": 24,
     "metadata": {},
     "output_type": "execute_result"
    }
   ],
   "source": [
    "df_train.describe(include='object')"
   ]
  },
  {
   "cell_type": "markdown",
   "id": "75f756b5-711f-4e25-9f80-9ae157b26d3e",
   "metadata": {},
   "source": [
    "**Correlations:**"
   ]
  },
  {
   "cell_type": "code",
   "execution_count": 26,
   "id": "0b89c19d-1773-4a11-8218-e3e3f0c0d80a",
   "metadata": {},
   "outputs": [
    {
     "data": {
      "image/png": "[encoded data removed]",
      "text/plain": [
       "<Figure size 1200x600 with 2 Axes>"
      ]
     },
     "metadata": {},
     "output_type": "display_data"
    }
   ],
   "source": [
    "numerical_col = df_train.select_dtypes(include=['float64', 'int64']).columns\n",
    "\n",
    "figure = plt.figure(figsize=(12, 6))\n",
    "sns.heatmap(df_train[numerical_col].drop(columns = 'OIICS Nature of Injury Description').corr(method='spearman'), annot=True)\n",
    "\n",
    "plt.xlabel('Corr')\n",
    "plt.show()"
   ]
  },
  {
   "cell_type": "markdown",
   "id": "331ea22f-a8d0-4b74-99b0-eec912077b98",
   "metadata": {},
   "source": [
    "There is a strong negative correlation between Age at Injury and Birth Year in the correlation heat map. This was expected since Birth Year and Age at Injury are intrinsically connected with one another -for each claim, Birth Year will be related to, and therefore determine, the Age at Injury.\n",
    "\n",
    "In feature selection, based on this dependency, we would be better off removing one of these variables to avoid duplication and, consequently, any multicollinearity issues that might arise. "
   ]
  },
  {
   "cell_type": "markdown",
   "id": "faa80044-b7ef-4bff-9405-aefff10dbdc2",
   "metadata": {},
   "source": [
    "# Clean and Pre-Process the Data"
   ]
  },
  {
   "cell_type": "markdown",
   "id": "9d6b006f-b9ca-45dc-9695-6f059e60be06",
   "metadata": {},
   "source": [
    "## Transform dates into datetime"
   ]
  },
  {
   "cell_type": "code",
   "execution_count": 30,
   "id": "d11f2e90-92c8-4884-bc41-fd8968c1c6ec",
   "metadata": {},
   "outputs": [],
   "source": [
    "date_columns = ['Accident Date', 'Assembly Date', 'C-2 Date', 'C-3 Date', 'First Hearing Date']\n",
    "\n",
    "for col in date_columns:\n",
    "        df_train[col] = pd.to_datetime(df_train[col], errors='coerce')\n",
    "\n",
    "for col in date_columns:\n",
    "        df_test[col] = pd.to_datetime(df_test[col], errors='coerce')"
   ]
  },
  {
   "cell_type": "markdown",
   "id": "5df59528-eb05-407e-828c-f675be20be10",
   "metadata": {},
   "source": [
    "## Drop null targets"
   ]
  },
  {
   "cell_type": "code",
   "execution_count": 32,
   "id": "358fcfee-d85d-428f-96ea-6da68e18a2cb",
   "metadata": {},
   "outputs": [
    {
     "data": {
      "text/plain": [
       "1096"
      ]
     },
     "execution_count": 32,
     "metadata": {},
     "output_type": "execute_result"
    }
   ],
   "source": [
    "df_train['Claim Injury Type'].isnull().sum()"
   ]
  },
  {
   "cell_type": "code",
   "execution_count": 33,
   "id": "1a4e3a19-cee8-4292-baad-8d540aae01aa",
   "metadata": {},
   "outputs": [],
   "source": [
    "df_train.dropna(subset=['Claim Injury Type'], inplace=True)"
   ]
  },
  {
   "cell_type": "markdown",
   "id": "3f1aed7c-3683-43c7-b7f1-b7b9cf2f4fd4",
   "metadata": {},
   "source": [
    "## Split df_train"
   ]
  },
  {
   "cell_type": "markdown",
   "id": "b3e3db63-71a8-4641-82d9-38a304b4c7f2",
   "metadata": {},
   "source": [
    "We split the dataset into training and validation sets using the **holdout method**. This will allow us to train the model on one portion of the data (the training set) and evaluate its performance on another (validation set).\n",
    "\n",
    "- **test_size=0.2**: 20% of the data is used for validation, while 80% is used for training.\n",
    "- **random_state=42**: This ensures reproducibility of the split across different runs.\n",
    "- **stratify=y**: The split is done while preserving the distribution of the target variable (`y`) in both the training and validation sets.\n",
    "- **shuffle=True**: The data is shuffled before splitting, preventing any potential bias from the ordering of the data."
   ]
  },
  {
   "cell_type": "code",
   "execution_count": 36,
   "id": "c54b1e0a-f3ad-407b-add4-f4cc3b375be1",
   "metadata": {},
   "outputs": [],
   "source": [
    "target = 'Claim Injury Type'\n",
    "X = df_train.drop(columns=[target])\n",
    "y = df_train[target]"
   ]
  },
  {
   "cell_type": "code",
   "execution_count": 37,
   "id": "47b3cca4-8836-46c0-ad35-569fa03a4f08",
   "metadata": {},
   "outputs": [],
   "source": [
    "X_train, X_val, y_train, y_val = train_test_split(\n",
    "    X, y, \n",
    "    test_size=0.2, \n",
    "    random_state=42, \n",
    "    stratify=y, \n",
    "    shuffle=True)"
   ]
  },
  {
   "cell_type": "code",
   "execution_count": 38,
   "id": "3f8cdd02-84c0-421d-9ade-4da2f2cdc291",
   "metadata": {},
   "outputs": [
    {
     "data": {
      "text/plain": [
       "Claim Injury Type\n",
       "2. NON-COMP        232862\n",
       "4. TEMPORARY       118806\n",
       "3. MED ONLY         55125\n",
       "5. PPD SCH LOSS     38624\n",
       "1. CANCELLED         9981\n",
       "6. PPD NSL           3369\n",
       "8. DEATH              376\n",
       "7. PTD                 77\n",
       "Name: count, dtype: int64"
      ]
     },
     "execution_count": 38,
     "metadata": {},
     "output_type": "execute_result"
    }
   ],
   "source": [
    "y_train.value_counts()"
   ]
  },
  {
   "cell_type": "markdown",
   "id": "3437b629-c98c-49cb-8bbc-5ed2b0aafa47",
   "metadata": {},
   "source": [
    "We have an imbalaced train data."
   ]
  },
  {
   "cell_type": "markdown",
   "id": "e3008f6c-9fae-43f2-b532-8704c9c25267",
   "metadata": {},
   "source": [
    "## Outliers"
   ]
  },
  {
   "cell_type": "markdown",
   "id": "5d4db673-48e2-4355-b698-404a8c68d44d",
   "metadata": {},
   "source": [
    "### Age at Injury"
   ]
  },
  {
   "cell_type": "code",
   "execution_count": 42,
   "id": "fc445079-68f9-4480-a737-11637a00a51c",
   "metadata": {},
   "outputs": [
    {
     "data": {
      "image/png": "[encoded data removed]",
      "text/plain": [
       "<Figure size 640x480 with 1 Axes>"
      ]
     },
     "metadata": {},
     "output_type": "display_data"
    }
   ],
   "source": [
    "plt.boxplot(X_train['Age at Injury'])\n",
    "plt.title('Box Plot of Age at Injury')\n",
    "plt.ylabel('Ages')\n",
    "plt.show()"
   ]
  },
  {
   "cell_type": "code",
   "execution_count": 43,
   "id": "e8922aa3-ea88-42f9-8963-cb73c735ac81",
   "metadata": {},
   "outputs": [
    {
     "name": "stdout",
     "output_type": "stream",
     "text": [
      "count    459220.000000\n",
      "mean         42.111306\n",
      "std          14.264959\n",
      "min           0.000000\n",
      "25%          31.000000\n",
      "50%          42.000000\n",
      "75%          54.000000\n",
      "max         117.000000\n",
      "Name: Age at Injury, dtype: float64\n",
      "Lower Bound: -3.5, Upper Bound: 88.5\n",
      "Number of Outliers: 165\n"
     ]
    }
   ],
   "source": [
    "print(X_train['Age at Injury'].describe())\n",
    "\n",
    "Q1 = X_train['Age at Injury'].quantile(0.25)\n",
    "Q3 = X_train['Age at Injury'].quantile(0.75)\n",
    "IQR = Q3 - Q1\n",
    "\n",
    "lower_bound = Q1 - 1.5 * IQR\n",
    "upper_bound = Q3 + 1.5 * IQR\n",
    "print(f'Lower Bound: {lower_bound}, Upper Bound: {upper_bound}')\n",
    "\n",
    "outliers = X_train[(X_train['Age at Injury'] < lower_bound) | (X_train['Age at Injury'] > upper_bound)]\n",
    "print(f'Number of Outliers: {outliers.shape[0]}')"
   ]
  },
  {
   "cell_type": "markdown",
   "id": "ddec9352-6d35-4450-8ce0-54b40feebda5",
   "metadata": {},
   "source": [
    "In the context of workplace, we should treat values below 16 and above 85 as outliers or invalid."
   ]
  },
  {
   "cell_type": "code",
   "execution_count": 45,
   "id": "f555cbd6-93f8-40ee-b9e7-9e1d8678b298",
   "metadata": {},
   "outputs": [],
   "source": [
    "def clean_age_column(df, age_col='Age at Injury', min_age=16, max_age=85):\n",
    "\n",
    "    df[age_col] = df[age_col].apply(lambda x: x if min_age <= x <= max_age else np.nan)\n",
    "    df[age_col] = df[age_col].astype('Int64')\n",
    "    \n",
    "    return df"
   ]
  },
  {
   "cell_type": "code",
   "execution_count": 46,
   "id": "85702e91-ae40-46ef-b6d0-3202071676cd",
   "metadata": {},
   "outputs": [],
   "source": [
    "X_train = clean_age_column(X_train, age_col='Age at Injury', min_age=16, max_age=85)\n",
    "X_val = clean_age_column(X_val, age_col='Age at Injury', min_age=16, max_age=85)\n",
    "\n",
    "df_test = clean_age_column(df_test, age_col='Age at Injury', min_age=16, max_age=85)"
   ]
  },
  {
   "cell_type": "code",
   "execution_count": 47,
   "id": "76663d9b-dc40-47fc-a558-1c45a98bb36e",
   "metadata": {},
   "outputs": [
    {
     "data": {
      "image/png": "[encoded data removed]",
      "text/plain": [
       "<Figure size 640x480 with 1 Axes>"
      ]
     },
     "metadata": {},
     "output_type": "display_data"
    }
   ],
   "source": [
    "age_cleaned = X_train['Age at Injury'].dropna()\n",
    "plt.boxplot(age_cleaned)\n",
    "plt.title('Box Plot of Age at Injury (Cleaned)')\n",
    "plt.ylabel('Ages')\n",
    "plt.show()"
   ]
  },
  {
   "cell_type": "markdown",
   "id": "a82450ba-c088-486e-8d01-272456fc4242",
   "metadata": {},
   "source": [
    "### Average Weekly Wage"
   ]
  },
  {
   "cell_type": "code",
   "execution_count": 49,
   "id": "23ae2a15-4818-459d-af6b-c4835d8768ae",
   "metadata": {},
   "outputs": [
    {
     "data": {
      "image/png": "[encoded data removed]",
      "text/plain": [
       "<Figure size 640x480 with 1 Axes>"
      ]
     },
     "metadata": {},
     "output_type": "display_data"
    }
   ],
   "source": [
    "aww_cleaned = X_train['Average Weekly Wage'].dropna()\n",
    "plt.boxplot(aww_cleaned)\n",
    "plt.title('Box Plot of Average Weekly Wage')\n",
    "plt.ylabel('Wages')\n",
    "plt.show()"
   ]
  },
  {
   "cell_type": "code",
   "execution_count": 50,
   "id": "d21480f9-9b7b-4052-a8a1-372c63da0d7f",
   "metadata": {},
   "outputs": [
    {
     "name": "stdout",
     "output_type": "stream",
     "text": [
      "count    4.362520e+05\n",
      "mean     4.953600e+02\n",
      "std      6.777520e+03\n",
      "min      0.000000e+00\n",
      "25%      0.000000e+00\n",
      "50%      0.000000e+00\n",
      "75%      8.433400e+02\n",
      "max      2.828079e+06\n",
      "Name: Average Weekly Wage, dtype: float64\n",
      "Lower Bound: -1265.01, Upper Bound: 2108.35\n",
      "Number of Outliers: 17711\n"
     ]
    }
   ],
   "source": [
    "print(X_train['Average Weekly Wage'].describe())\n",
    "\n",
    "Q1 = X_train['Average Weekly Wage'].quantile(0.25)\n",
    "Q3 = X_train['Average Weekly Wage'].quantile(0.75)\n",
    "IQR = Q3 - Q1\n",
    "\n",
    "lower_bound = Q1 - 1.5 * IQR\n",
    "upper_bound = Q3 + 1.5 * IQR\n",
    "print(f'Lower Bound: {lower_bound}, Upper Bound: {upper_bound}')\n",
    "\n",
    "outliers = X_train[(X_train['Average Weekly Wage'] < lower_bound) | (X_train['Average Weekly Wage'] > upper_bound)]\n",
    "print(f'Number of Outliers: {outliers.shape[0]}')"
   ]
  },
  {
   "cell_type": "code",
   "execution_count": 51,
   "id": "d00e10c6-3ea8-4b75-b849-0a2f8be838bc",
   "metadata": {},
   "outputs": [
    {
     "name": "stdout",
     "output_type": "stream",
     "text": [
      "count    4.362520e+05\n",
      "mean     4.953600e+02\n",
      "std      6.777520e+03\n",
      "min      0.000000e+00\n",
      "25%      0.000000e+00\n",
      "50%      0.000000e+00\n",
      "75%      8.433400e+02\n",
      "max      2.828079e+06\n",
      "Name: Average Weekly Wage, dtype: float64\n",
      "Lower Bound (2nd percentile): 0.0, Upper Bound (98th percentile): 2288.6793999999995\n",
      "Number of Outliers: 13088\n"
     ]
    }
   ],
   "source": [
    "print(X_train['Average Weekly Wage'].describe())\n",
    "\n",
    "lower_percentile = X_train['Average Weekly Wage'].quantile(0.03)\n",
    "upper_percentile = X_train['Average Weekly Wage'].quantile(0.97)\n",
    "\n",
    "print(f'Lower Bound (2nd percentile): {lower_percentile}, Upper Bound (98th percentile): {upper_percentile}')\n",
    "\n",
    "outliers = X_train[(X_train['Average Weekly Wage'] < lower_percentile) | (X_train['Average Weekly Wage'] > upper_percentile)]\n",
    "print(f'Number of Outliers: {outliers.shape[0]}')"
   ]
  },
  {
   "cell_type": "markdown",
   "id": "e3dff068-83b7-4399-87b7-8490e6e950f6",
   "metadata": {},
   "source": [
    "The 3rd and 97th percentile approach seems more resonable, and the bounds it sets make much more sense."
   ]
  },
  {
   "cell_type": "code",
   "execution_count": 53,
   "id": "cd04fbff-5c7f-4481-9bf7-6a32e1be3497",
   "metadata": {},
   "outputs": [],
   "source": [
    "def clean_aww_column(df, aww_col='Average Weekly Wage', min_aww=0, max_aww=2288): \n",
    "    \n",
    "    df[aww_col] = df[aww_col].apply(lambda x: x if min_aww < x <= max_aww else np.nan)\n",
    "    \n",
    "    return df"
   ]
  },
  {
   "cell_type": "code",
   "execution_count": 54,
   "id": "1a980623-1a65-4430-862d-10724ad51145",
   "metadata": {},
   "outputs": [],
   "source": [
    "X_train = clean_aww_column(X_train, aww_col='Average Weekly Wage', min_aww=0, max_aww=2288)\n",
    "X_val = clean_aww_column(X_val, aww_col='Average Weekly Wage', min_aww=0, max_aww=2288)\n",
    "df_test = clean_aww_column(df_test, aww_col='Average Weekly Wage', min_aww=0, max_aww=2288)"
   ]
  },
  {
   "cell_type": "code",
   "execution_count": 55,
   "id": "639ed841-2183-498c-a04c-3aa448ce2287",
   "metadata": {},
   "outputs": [
    {
     "name": "stdout",
     "output_type": "stream",
     "text": [
      "count    154999.000000\n",
      "mean       1073.110295\n",
      "std         508.399167\n",
      "min          13.940000\n",
      "25%         675.550000\n",
      "50%        1002.120000\n",
      "75%        1438.590000\n",
      "max        2288.000000\n",
      "Name: Average Weekly Wage, dtype: float64\n"
     ]
    }
   ],
   "source": [
    "print(X_train['Average Weekly Wage'].describe())"
   ]
  },
  {
   "cell_type": "code",
   "execution_count": 56,
   "id": "fae90d4b-f194-48ea-be69-70c9543f66ca",
   "metadata": {},
   "outputs": [
    {
     "data": {
      "image/png": "[encoded data removed]",
      "text/plain": [
       "<Figure size 640x480 with 1 Axes>"
      ]
     },
     "metadata": {},
     "output_type": "display_data"
    }
   ],
   "source": [
    "aww_cleaned = X_train['Average Weekly Wage'].dropna()\n",
    "plt.boxplot(aww_cleaned)\n",
    "plt.title('Box Plot of Average Weekly Wage')\n",
    "plt.ylabel('Wages')\n",
    "plt.show()"
   ]
  },
  {
   "cell_type": "markdown",
   "id": "de7d4e43-a456-4104-98e6-ad3c91a9af7b",
   "metadata": {},
   "source": [
    "### Birth Year"
   ]
  },
  {
   "cell_type": "code",
   "execution_count": 58,
   "id": "9292d90b-415f-4ba5-99ca-68b189f9aba5",
   "metadata": {},
   "outputs": [
    {
     "data": {
      "image/png": "[encoded data removed]",
      "text/plain": [
       "<Figure size 640x480 with 1 Axes>"
      ]
     },
     "metadata": {},
     "output_type": "display_data"
    }
   ],
   "source": [
    "birth_year_cleaned = X_train['Birth Year'].dropna()\n",
    "\n",
    "plt.boxplot(birth_year_cleaned)\n",
    "plt.title('Box Plot of Birth Year')\n",
    "plt.ylabel('Birth Year')\n",
    "plt.show()"
   ]
  },
  {
   "cell_type": "code",
   "execution_count": 59,
   "id": "af5927ba-60f2-4a78-8ac1-a6f3d9be554d",
   "metadata": {},
   "outputs": [
    {
     "name": "stdout",
     "output_type": "stream",
     "text": [
      "count    436016.000000\n",
      "mean       1886.537765\n",
      "std         415.151658\n",
      "min           0.000000\n",
      "25%        1965.000000\n",
      "50%        1977.000000\n",
      "75%        1989.000000\n",
      "max        2018.000000\n",
      "Name: Birth Year, dtype: float64\n",
      "Lower Bound: 1929.0, Upper Bound: 2025.0\n",
      "Number of Outliers: 20319\n"
     ]
    }
   ],
   "source": [
    "print(X_train['Birth Year'].describe())\n",
    "\n",
    "Q1 = X_train['Birth Year'].quantile(0.25)\n",
    "Q3 = X_train['Birth Year'].quantile(0.75)\n",
    "IQR = Q3 - Q1\n",
    "\n",
    "lower_bound = Q1 - 1.5 * IQR\n",
    "upper_bound = Q3 + 1.5 * IQR\n",
    "print(f'Lower Bound: {lower_bound}, Upper Bound: {upper_bound}')\n",
    "\n",
    "outliers = X_train[(X_train['Birth Year'] < lower_bound) | (X_train['Birth Year'] > upper_bound)]\n",
    "print(f'Number of Outliers: {outliers.shape[0]}')"
   ]
  },
  {
   "cell_type": "markdown",
   "id": "d84cd52d-3903-459d-aa51-172eb3b6034d",
   "metadata": {},
   "source": [
    "In the context of workplace, we should treat ages below 16 and above 85 as outliers or invalid. So, birth years below 1939 (2024-85) or above 2008 (2024-16) should be considered outliers/invalid. "
   ]
  },
  {
   "cell_type": "code",
   "execution_count": 61,
   "id": "5e263757-3ed3-4982-946e-f7be41fbc1aa",
   "metadata": {},
   "outputs": [],
   "source": [
    "def clean_birth_year_column(df, birth_year_col='Birth Year', min_year=1939, max_year=2008):\n",
    "\n",
    "    df[birth_year_col] = df[birth_year_col].apply(lambda x: x if (pd.notna(x) and min_year <= x <= max_year) else np.nan)\n",
    "    \n",
    "    return df "
   ]
  },
  {
   "cell_type": "code",
   "execution_count": 62,
   "id": "f01f4109-906b-4ea4-9f56-27891d4547f7",
   "metadata": {},
   "outputs": [],
   "source": [
    "X_train = clean_birth_year_column(X_train, birth_year_col='Birth Year', min_year=1939, max_year=2008)\n",
    "X_val = clean_birth_year_column(X_val, birth_year_col='Birth Year', min_year=1939, max_year=2008)\n",
    "df_test = clean_birth_year_column(df_test, birth_year_col='Birth Year', min_year=1939, max_year=2008)"
   ]
  },
  {
   "cell_type": "code",
   "execution_count": 63,
   "id": "fb9cecbc-714d-4e12-9130-a0d5deb54bb9",
   "metadata": {},
   "outputs": [
    {
     "data": {
      "image/png": "[encoded data removed]",
      "text/plain": [
       "<Figure size 640x480 with 1 Axes>"
      ]
     },
     "metadata": {},
     "output_type": "display_data"
    }
   ],
   "source": [
    "birth_year_cleaned = X_train['Birth Year'].dropna()\n",
    "\n",
    "plt.boxplot(birth_year_cleaned)\n",
    "plt.title('Box Plot of Birth Year')\n",
    "plt.ylabel('Birth Year')\n",
    "plt.show()"
   ]
  },
  {
   "cell_type": "markdown",
   "id": "1f2d712b-9879-4f98-a0d0-d3e636b47a97",
   "metadata": {},
   "source": [
    "### IME-4 Count"
   ]
  },
  {
   "cell_type": "code",
   "execution_count": 65,
   "id": "4e760924-10c4-49ad-b417-5d872c433fae",
   "metadata": {},
   "outputs": [
    {
     "data": {
      "image/png": "[encoded data removed]",
      "text/plain": [
       "<Figure size 640x480 with 1 Axes>"
      ]
     },
     "metadata": {},
     "output_type": "display_data"
    }
   ],
   "source": [
    "ime4_count_cleaned = X_train['IME-4 Count'].dropna()\n",
    "\n",
    "plt.boxplot(ime4_count_cleaned)\n",
    "plt.title('Box Plot of IME-4 Count')\n",
    "plt.ylabel('IME-4 Count')\n",
    "plt.show()"
   ]
  },
  {
   "cell_type": "code",
   "execution_count": 66,
   "id": "966350fb-a6ea-4e47-b62d-e960544ffe6f",
   "metadata": {},
   "outputs": [
    {
     "name": "stdout",
     "output_type": "stream",
     "text": [
      "count    106210.000000\n",
      "mean          3.208954\n",
      "std           2.847020\n",
      "min           1.000000\n",
      "25%           1.000000\n",
      "50%           2.000000\n",
      "75%           4.000000\n",
      "max          73.000000\n",
      "Name: IME-4 Count, dtype: float64\n",
      "Lower Bound: -3.5, Upper Bound: 8.5\n",
      "Number of Outliers: 5756\n"
     ]
    }
   ],
   "source": [
    "print(X_train['IME-4 Count'].describe())\n",
    "\n",
    "Q1 = X_train['IME-4 Count'].quantile(0.25)\n",
    "Q3 = X_train['IME-4 Count'].quantile(0.75)\n",
    "IQR = Q3 - Q1\n",
    "\n",
    "lower_bound = Q1 - 1.5 * IQR\n",
    "upper_bound = Q3 + 1.5 * IQR\n",
    "print(f'Lower Bound: {lower_bound}, Upper Bound: {upper_bound}')\n",
    "\n",
    "outliers = X_train[(X_train['IME-4 Count'] < lower_bound) | (X_train['IME-4 Count'] > upper_bound)]\n",
    "print(f'Number of Outliers: {outliers.shape[0]}')"
   ]
  },
  {
   "cell_type": "code",
   "execution_count": 67,
   "id": "4032757a-482b-4b0c-9f8d-09bfbda42ad7",
   "metadata": {},
   "outputs": [
    {
     "name": "stdout",
     "output_type": "stream",
     "text": [
      "count    106210.000000\n",
      "mean          3.208954\n",
      "std           2.847020\n",
      "min           1.000000\n",
      "25%           1.000000\n",
      "50%           2.000000\n",
      "75%           4.000000\n",
      "max          73.000000\n",
      "Name: IME-4 Count, dtype: float64\n",
      "Lower Bound (3rd percentile): 1.0, Upper Bound (97th percentile): 10.0\n",
      "Number of Outliers: 3053\n"
     ]
    }
   ],
   "source": [
    "print(X_train['IME-4 Count'].describe())\n",
    "\n",
    "lower_percentile = X_train['IME-4 Count'].quantile(0.03)\n",
    "upper_percentile = X_train['IME-4 Count'].quantile(0.97)\n",
    "\n",
    "print(f'Lower Bound (3rd percentile): {lower_percentile}, Upper Bound (97th percentile): {upper_percentile}')\n",
    "\n",
    "outliers = X_train[(X_train['IME-4 Count'] < lower_percentile) | (X_train['IME-4 Count'] > upper_percentile)]\n",
    "\n",
    "print(f'Number of Outliers: {outliers.shape[0]}')"
   ]
  },
  {
   "cell_type": "markdown",
   "id": "3eac60e9-381a-47c9-a6dd-9395d6cffa7f",
   "metadata": {},
   "source": [
    "Again, the 3rd and 97th percentile approach seems more resonable, and the bounds it sets make much more sense."
   ]
  },
  {
   "cell_type": "code",
   "execution_count": 69,
   "id": "cdb32664-e654-43f2-bdb3-74f4b63796a4",
   "metadata": {},
   "outputs": [],
   "source": [
    "def clean_ime4_count_column(df, ime4_count_col='IME-4 Count', min_value=1, max_value=10):\n",
    "\n",
    "    df[ime4_count_col] = df[ime4_count_col].apply(lambda x: x if (pd.notna(x) and min_value <= x <= max_value) else np.nan)\n",
    "    \n",
    "    return df"
   ]
  },
  {
   "cell_type": "code",
   "execution_count": 70,
   "id": "beb4e1db-812c-4395-8305-3c975424bfa6",
   "metadata": {},
   "outputs": [],
   "source": [
    "X_train = clean_ime4_count_column(X_train, ime4_count_col='IME-4 Count')\n",
    "X_val = clean_ime4_count_column(X_val, ime4_count_col='IME-4 Count')\n",
    "df_test = clean_ime4_count_column(df_test, ime4_count_col='IME-4 Count')"
   ]
  },
  {
   "cell_type": "code",
   "execution_count": 71,
   "id": "3ebd77b5-6491-43bb-a1d9-f2b8e7d515dd",
   "metadata": {},
   "outputs": [
    {
     "data": {
      "image/png": "[encoded data removed]",
      "text/plain": [
       "<Figure size 640x480 with 1 Axes>"
      ]
     },
     "metadata": {},
     "output_type": "display_data"
    }
   ],
   "source": [
    "ime4_count_cleaned = X_train['IME-4 Count'].dropna()\n",
    "\n",
    "plt.boxplot(ime4_count_cleaned)\n",
    "plt.title('Box Plot of IME-4 Count')\n",
    "plt.ylabel('IME-4 Count')\n",
    "plt.show()"
   ]
  },
  {
   "cell_type": "markdown",
   "id": "9fd730b1-9373-469f-af41-278fd94040e5",
   "metadata": {},
   "source": [
    "### Number of Dependents"
   ]
  },
  {
   "cell_type": "code",
   "execution_count": 73,
   "id": "6653b6a4-82ef-4187-a182-d9644236a61b",
   "metadata": {},
   "outputs": [
    {
     "data": {
      "image/png": "[encoded data removed]",
      "text/plain": [
       "<Figure size 640x480 with 1 Axes>"
      ]
     },
     "metadata": {},
     "output_type": "display_data"
    }
   ],
   "source": [
    "dependents_cleaned = X_train['Number of Dependents'].dropna()\n",
    "\n",
    "plt.boxplot(dependents_cleaned)\n",
    "plt.title('Box Plot of Number of Dependents')\n",
    "plt.ylabel('Number of Dependents')\n",
    "plt.show()"
   ]
  },
  {
   "cell_type": "code",
   "execution_count": 74,
   "id": "baf9b1bc-4118-4f3b-95ab-a7b13786459c",
   "metadata": {},
   "outputs": [
    {
     "name": "stdout",
     "output_type": "stream",
     "text": [
      "count    459220.000000\n",
      "mean          3.003952\n",
      "std           2.000465\n",
      "min           0.000000\n",
      "25%           1.000000\n",
      "50%           3.000000\n",
      "75%           5.000000\n",
      "max           6.000000\n",
      "Name: Number of Dependents, dtype: float64\n",
      "Lower Bound: -5.0, Upper Bound: 11.0\n",
      "Number of Outliers: 0\n"
     ]
    }
   ],
   "source": [
    "print(X_train['Number of Dependents'].describe())\n",
    "\n",
    "Q1 = X_train['Number of Dependents'].quantile(0.25)\n",
    "Q3 = X_train['Number of Dependents'].quantile(0.75)\n",
    "IQR = Q3 - Q1\n",
    "\n",
    "lower_bound = Q1 - 1.5 * IQR\n",
    "upper_bound = Q3 + 1.5 * IQR\n",
    "print(f'Lower Bound: {lower_bound}, Upper Bound: {upper_bound}')\n",
    "\n",
    "outliers = X_train[(X_train['Number of Dependents'] < lower_bound) | (X_train['Number of Dependents'] > upper_bound)]\n",
    "print(f'Number of Outliers: {outliers.shape[0]}')"
   ]
  },
  {
   "cell_type": "code",
   "execution_count": 75,
   "id": "c70bd8c4-fa77-4706-bfb2-5aab8fb769b2",
   "metadata": {},
   "outputs": [
    {
     "name": "stdout",
     "output_type": "stream",
     "text": [
      "count    459220.000000\n",
      "mean          3.003952\n",
      "std           2.000465\n",
      "min           0.000000\n",
      "25%           1.000000\n",
      "50%           3.000000\n",
      "75%           5.000000\n",
      "max           6.000000\n",
      "Name: Number of Dependents, dtype: float64\n",
      "Lower Bound (3rd percentile): 0.0, Upper Bound (97th percentile): 6.0\n",
      "Number of Outliers: 0\n"
     ]
    }
   ],
   "source": [
    "print(X_train['Number of Dependents'].describe())\n",
    "\n",
    "lower_percentile = X_train['Number of Dependents'].quantile(0.03)\n",
    "upper_percentile = X_train['Number of Dependents'].quantile(0.97)\n",
    "\n",
    "print(f'Lower Bound (3rd percentile): {lower_percentile}, Upper Bound (97th percentile): {upper_percentile}')\n",
    "\n",
    "outliers = X_train[(X_train['Number of Dependents'] < lower_percentile) | (X_train['Number of Dependents'] > upper_percentile)]\n",
    "\n",
    "print(f'Number of Outliers: {outliers.shape[0]}')"
   ]
  },
  {
   "cell_type": "markdown",
   "id": "156e4e39-5ec0-4ae8-a5b1-a1cdec1c4808",
   "metadata": {},
   "source": [
    "There are no outliers."
   ]
  },
  {
   "cell_type": "markdown",
   "id": "9ebc45cc-13b0-4502-a94a-9f02bf0eda1e",
   "metadata": {},
   "source": [
    "### Accident Date"
   ]
  },
  {
   "cell_type": "code",
   "execution_count": 78,
   "id": "a26d6246-5299-4030-8be1-0bd3a4283d59",
   "metadata": {},
   "outputs": [
    {
     "data": {
      "image/png": "[encoded data removed]",
      "text/plain": [
       "<Figure size 1400x600 with 1 Axes>"
      ]
     },
     "metadata": {},
     "output_type": "display_data"
    }
   ],
   "source": [
    "plt.figure(figsize=(14, 6))\n",
    "plt.hist(X_train['Accident Date'], bins=100, color='skyblue', edgecolor='black')\n",
    "plt.title('Histogram of Accident Dates', fontsize=14)\n",
    "plt.xlabel('Date', fontsize=12)\n",
    "plt.ylabel('Frequency', fontsize=12)\n",
    "plt.xticks(rotation=45) \n",
    "plt.grid(alpha=0.3)\n",
    "plt.show()"
   ]
  },
  {
   "cell_type": "code",
   "execution_count": 79,
   "id": "f934c42e-f4d3-4964-9fc2-b3b140d2dc6a",
   "metadata": {},
   "outputs": [
    {
     "name": "stdout",
     "output_type": "stream",
     "text": [
      "count                           456261\n",
      "mean     2021-04-28 22:38:50.660740608\n",
      "min                1961-09-06 00:00:00\n",
      "25%                2020-09-14 00:00:00\n",
      "50%                2021-06-27 00:00:00\n",
      "75%                2022-03-22 00:00:00\n",
      "max                2023-09-11 00:00:00\n",
      "Name: Accident Date, dtype: object\n",
      "Lower Bound: 2018-06-06 00:00:00, Upper Bound: 2024-06-30 00:00:00\n",
      "Number of Outliers: 4546\n"
     ]
    }
   ],
   "source": [
    "print(X_train['Accident Date'].describe())\n",
    "\n",
    "Q1 = X_train['Accident Date'].quantile(0.25)\n",
    "Q3 = X_train['Accident Date'].quantile(0.75)\n",
    "IQR = Q3 - Q1\n",
    "\n",
    "lower_bound = Q1 - 1.5 * IQR\n",
    "upper_bound = Q3 + 1.5 * IQR\n",
    "print(f'Lower Bound: {lower_bound}, Upper Bound: {upper_bound}')\n",
    "\n",
    "outliers = X_train[(X_train['Accident Date'] < lower_bound) | (X_train['Accident Date'] > upper_bound)]\n",
    "print(f'Number of Outliers: {outliers.shape[0]}')"
   ]
  },
  {
   "cell_type": "code",
   "execution_count": 80,
   "id": "e7aab5ed-87ec-469a-a6ad-de276e35597c",
   "metadata": {},
   "outputs": [
    {
     "name": "stdout",
     "output_type": "stream",
     "text": [
      "count                           456261\n",
      "mean     2021-04-28 22:38:50.660740608\n",
      "min                1961-09-06 00:00:00\n",
      "25%                2020-09-14 00:00:00\n",
      "50%                2021-06-27 00:00:00\n",
      "75%                2022-03-22 00:00:00\n",
      "max                2023-09-11 00:00:00\n",
      "Name: Accident Date, dtype: object\n",
      "Lower Bound (1st percentile): 2018-06-11 14:24:00, Upper Bound (99th percentile): 2022-12-07 00:00:00\n",
      "Number of Outliers: 9082\n"
     ]
    }
   ],
   "source": [
    "print(X_train['Accident Date'].describe())\n",
    "\n",
    "lower_percentile = X_train['Accident Date'].quantile(0.01)\n",
    "upper_percentile = X_train['Accident Date'].quantile(0.99)\n",
    "\n",
    "print(f'Lower Bound (1st percentile): {lower_percentile}, Upper Bound (99th percentile): {upper_percentile}')\n",
    "\n",
    "outliers = X_train[(X_train['Accident Date'] < lower_percentile) | (X_train['Accident Date'] > upper_percentile)]\n",
    "\n",
    "print(f'Number of Outliers: {outliers.shape[0]}')"
   ]
  },
  {
   "cell_type": "code",
   "execution_count": 81,
   "id": "d2c437dc-4198-487d-8d0a-efe4d838afc8",
   "metadata": {},
   "outputs": [],
   "source": [
    "def clean_accident_date_column(df, lower_percentile, upper_percentile, accident_date_col='Accident Date'):\n",
    "\n",
    "    df[accident_date_col] = df[accident_date_col].apply(lambda x: x if (pd.notna(x) and lower_percentile <= x <= upper_percentile) else np.nan)\n",
    "    \n",
    "    return df"
   ]
  },
  {
   "cell_type": "code",
   "execution_count": 82,
   "id": "88ef2cc0-b6f0-48e2-88e3-09b1ec13f11e",
   "metadata": {},
   "outputs": [],
   "source": [
    "X_train = clean_accident_date_column(X_train, lower_percentile, upper_percentile, accident_date_col='Accident Date')\n",
    "X_val = clean_accident_date_column(X_val, lower_percentile, upper_percentile, accident_date_col='Accident Date')"
   ]
  },
  {
   "cell_type": "code",
   "execution_count": 83,
   "id": "df2e6735-a232-4d80-9f83-274965184ecc",
   "metadata": {},
   "outputs": [
    {
     "data": {
      "text/plain": [
       "count                           447179\n",
       "mean     2021-06-13 02:51:52.648849920\n",
       "min                2018-06-12 00:00:00\n",
       "25%                2020-09-20 00:00:00\n",
       "50%                2021-06-27 00:00:00\n",
       "75%                2022-03-16 00:00:00\n",
       "max                2022-12-07 00:00:00\n",
       "Name: Accident Date, dtype: object"
      ]
     },
     "execution_count": 83,
     "metadata": {},
     "output_type": "execute_result"
    }
   ],
   "source": [
    "X_train['Accident Date'].describe()"
   ]
  },
  {
   "cell_type": "markdown",
   "id": "8a1bfe7c-6ab6-47de-9b0d-90763208ea41",
   "metadata": {},
   "source": [
    "### Assembly Date"
   ]
  },
  {
   "cell_type": "code",
   "execution_count": 85,
   "id": "2b9f7471-7b08-4201-b191-499256a4d248",
   "metadata": {},
   "outputs": [
    {
     "data": {
      "image/png": "[encoded data removed]",
      "text/plain": [
       "<Figure size 1400x600 with 1 Axes>"
      ]
     },
     "metadata": {},
     "output_type": "display_data"
    }
   ],
   "source": [
    "plt.figure(figsize=(14, 6))\n",
    "plt.hist(X_train['Assembly Date'], bins=100, color='skyblue', edgecolor='black')\n",
    "plt.title('Histogram of Assembly Dates', fontsize=14)\n",
    "plt.xlabel('Date', fontsize=12)\n",
    "plt.ylabel('Frequency', fontsize=12)\n",
    "plt.xticks(rotation=45) \n",
    "plt.grid(alpha=0.3)\n",
    "plt.show()"
   ]
  },
  {
   "cell_type": "code",
   "execution_count": 86,
   "id": "fe25a364-f936-4d4d-8c63-cfe295583669",
   "metadata": {},
   "outputs": [
    {
     "name": "stdout",
     "output_type": "stream",
     "text": [
      "count                           459220\n",
      "mean     2021-07-19 18:46:13.823439616\n",
      "min                2020-01-01 00:00:00\n",
      "25%                2020-10-27 00:00:00\n",
      "50%                2021-07-30 00:00:00\n",
      "75%                2022-04-20 00:00:00\n",
      "max                2022-12-31 00:00:00\n",
      "Name: Assembly Date, dtype: object\n",
      "Lower Bound: 2018-08-09 00:00:00, Upper Bound: 2024-07-08 00:00:00\n",
      "Number of Outliers: 0\n"
     ]
    }
   ],
   "source": [
    "print(X_train['Assembly Date'].describe())\n",
    "\n",
    "Q1 = X_train['Assembly Date'].quantile(0.25)\n",
    "Q3 = X_train['Assembly Date'].quantile(0.75)\n",
    "IQR = Q3 - Q1\n",
    "\n",
    "lower_bound = Q1 - 1.5 * IQR\n",
    "upper_bound = Q3 + 1.5 * IQR\n",
    "print(f'Lower Bound: {lower_bound}, Upper Bound: {upper_bound}')\n",
    "\n",
    "outliers = X_train[(X_train['Assembly Date'] < lower_bound) | (X_train['Assembly Date'] > upper_bound)]\n",
    "print(f'Number of Outliers: {outliers.shape[0]}')"
   ]
  },
  {
   "cell_type": "code",
   "execution_count": 87,
   "id": "98bad0cf-c101-4eb7-b99f-f64ce91f29f1",
   "metadata": {},
   "outputs": [
    {
     "name": "stdout",
     "output_type": "stream",
     "text": [
      "count                           459220\n",
      "mean     2021-07-19 18:46:13.823439616\n",
      "min                2020-01-01 00:00:00\n",
      "25%                2020-10-27 00:00:00\n",
      "50%                2021-07-30 00:00:00\n",
      "75%                2022-04-20 00:00:00\n",
      "max                2022-12-31 00:00:00\n",
      "Name: Assembly Date, dtype: object\n",
      "Lower Bound (1st percentile): 2020-01-10 00:00:00, Upper Bound (99th percentile): 2022-12-19 00:00:00\n",
      "Number of Outliers: 8414\n"
     ]
    }
   ],
   "source": [
    "print(X_train['Assembly Date'].describe())\n",
    "\n",
    "lower_percentile = X_train['Assembly Date'].quantile(0.01)\n",
    "upper_percentile = X_train['Assembly Date'].quantile(0.99)\n",
    "\n",
    "print(f'Lower Bound (1st percentile): {lower_percentile}, Upper Bound (99th percentile): {upper_percentile}')\n",
    "\n",
    "outliers = X_train[(X_train['Assembly Date'] < lower_percentile) | (X_train['Assembly Date'] > upper_percentile)]\n",
    "\n",
    "print(f'Number of Outliers: {outliers.shape[0]}')"
   ]
  },
  {
   "cell_type": "code",
   "execution_count": 88,
   "id": "2c9482e0-a900-4238-9027-e728af5537b2",
   "metadata": {},
   "outputs": [],
   "source": [
    "def clean_assembly_date_column(df, lower_percentile, upper_percentile, assembly_date_col='Assembly Date'):\n",
    "\n",
    "    df[assembly_date_col] = df[assembly_date_col].apply(lambda x: x if (pd.notna(x) and lower_percentile <= x <= upper_percentile) else np.nan)\n",
    "    \n",
    "    return df"
   ]
  },
  {
   "cell_type": "code",
   "execution_count": 89,
   "id": "8548c0ff-9fa2-4abf-9663-0655ac95d927",
   "metadata": {},
   "outputs": [],
   "source": [
    "X_train = clean_assembly_date_column(X_train, lower_percentile, upper_percentile, assembly_date_col='Assembly Date')\n",
    "X_val = clean_assembly_date_column(X_val, lower_percentile, upper_percentile, assembly_date_col='Assembly Date')"
   ]
  },
  {
   "cell_type": "code",
   "execution_count": 90,
   "id": "ef9b9be4-3b91-4414-9af4-2c6a2d11817f",
   "metadata": {},
   "outputs": [
    {
     "data": {
      "text/plain": [
       "count                           450806\n",
       "mean     2021-07-19 08:53:15.364746752\n",
       "min                2020-01-10 00:00:00\n",
       "25%                2020-10-31 00:00:00\n",
       "50%                2021-07-30 00:00:00\n",
       "75%                2022-04-13 00:00:00\n",
       "max                2022-12-19 00:00:00\n",
       "Name: Assembly Date, dtype: object"
      ]
     },
     "execution_count": 90,
     "metadata": {},
     "output_type": "execute_result"
    }
   ],
   "source": [
    "X_train['Assembly Date'].describe()"
   ]
  },
  {
   "cell_type": "markdown",
   "id": "1c6257f6-b04d-418c-a3eb-2d61b9658246",
   "metadata": {},
   "source": [
    "### C-2 Date"
   ]
  },
  {
   "cell_type": "code",
   "execution_count": 92,
   "id": "1528b16e-32ff-41ee-901f-f5813f6aedfd",
   "metadata": {},
   "outputs": [
    {
     "data": {
      "image/png": "[encoded data removed]",
      "text/plain": [
       "<Figure size 1400x600 with 1 Axes>"
      ]
     },
     "metadata": {},
     "output_type": "display_data"
    }
   ],
   "source": [
    "plt.figure(figsize=(14, 6))\n",
    "plt.hist(X_train['C-2 Date'], bins=100, color='skyblue', edgecolor='black')\n",
    "plt.title('Histogram of C-2 Dates', fontsize=14)\n",
    "plt.xlabel('Date', fontsize=12)\n",
    "plt.ylabel('Frequency', fontsize=12)\n",
    "plt.xticks(rotation=45) \n",
    "plt.grid(alpha=0.3)\n",
    "plt.show()"
   ]
  },
  {
   "cell_type": "code",
   "execution_count": 93,
   "id": "50113adf-9b7f-478e-80b9-190a73738457",
   "metadata": {},
   "outputs": [
    {
     "name": "stdout",
     "output_type": "stream",
     "text": [
      "count                           447630\n",
      "mean     2021-07-16 20:01:08.713893376\n",
      "min                1996-01-12 00:00:00\n",
      "25%                2020-11-06 00:00:00\n",
      "50%                2021-08-09 00:00:00\n",
      "75%                2022-04-27 00:00:00\n",
      "max                2024-05-31 00:00:00\n",
      "Name: C-2 Date, dtype: object\n",
      "Lower Bound: 2018-08-23 12:00:00, Upper Bound: 2024-07-10 12:00:00\n",
      "Number of Outliers: 984\n"
     ]
    }
   ],
   "source": [
    "print(X_train['C-2 Date'].describe())\n",
    "\n",
    "Q1 = X_train['C-2 Date'].quantile(0.25)\n",
    "Q3 = X_train['C-2 Date'].quantile(0.75)\n",
    "IQR = Q3 - Q1\n",
    "\n",
    "lower_bound = Q1 - 1.5 * IQR\n",
    "upper_bound = Q3 + 1.5 * IQR\n",
    "print(f'Lower Bound: {lower_bound}, Upper Bound: {upper_bound}')\n",
    "\n",
    "outliers = X_train[(X_train['C-2 Date'] < lower_bound) | (X_train['C-2 Date'] > upper_bound)]\n",
    "print(f'Number of Outliers: {outliers.shape[0]}')"
   ]
  },
  {
   "cell_type": "code",
   "execution_count": 94,
   "id": "f15feac4-47f4-4923-8580-461981dea298",
   "metadata": {},
   "outputs": [
    {
     "name": "stdout",
     "output_type": "stream",
     "text": [
      "count                           447630\n",
      "mean     2021-07-16 20:01:08.713893376\n",
      "min                1996-01-12 00:00:00\n",
      "25%                2020-11-06 00:00:00\n",
      "50%                2021-08-09 00:00:00\n",
      "75%                2022-04-27 00:00:00\n",
      "max                2024-05-31 00:00:00\n",
      "Name: C-2 Date, dtype: object\n",
      "Lower Bound (1st percentile): 2020-01-09 00:00:00, Upper Bound (99th percentile): 2022-12-22 00:00:00\n",
      "Number of Outliers: 8338\n"
     ]
    }
   ],
   "source": [
    "print(X_train['C-2 Date'].describe())\n",
    "\n",
    "lower_percentile = X_train['C-2 Date'].quantile(0.01)\n",
    "upper_percentile = X_train['C-2 Date'].quantile(0.99)\n",
    "\n",
    "print(f'Lower Bound (1st percentile): {lower_percentile}, Upper Bound (99th percentile): {upper_percentile}')\n",
    "\n",
    "outliers = X_train[(X_train['C-2 Date'] < lower_percentile) | (X_train['C-2 Date'] > upper_percentile)]\n",
    "\n",
    "print(f'Number of Outliers: {outliers.shape[0]}')"
   ]
  },
  {
   "cell_type": "code",
   "execution_count": 95,
   "id": "eee2dc8d-0f90-457f-9004-1b497f681173",
   "metadata": {},
   "outputs": [],
   "source": [
    "def clean_c2_date_column(df, lower_percentile, upper_percentile, c2_date_col='C-2 Date'):\n",
    "    \n",
    "    df[c2_date_col] = df[c2_date_col].apply(lambda x: x if (pd.notna(x) and lower_percentile <= x <= upper_percentile) else np.nan)\n",
    "    \n",
    "    return df"
   ]
  },
  {
   "cell_type": "code",
   "execution_count": 96,
   "id": "f6489147-8b32-451d-888f-1a90a95ec48a",
   "metadata": {},
   "outputs": [],
   "source": [
    "X_train = clean_c2_date_column(X_train, lower_percentile, upper_percentile, c2_date_col='C-2 Date')\n",
    "X_val = clean_c2_date_column(X_val, lower_percentile, upper_percentile, c2_date_col='C-2 Date')"
   ]
  },
  {
   "cell_type": "code",
   "execution_count": 97,
   "id": "5ad4ec9a-b223-483a-9c87-3db86edff4f1",
   "metadata": {},
   "outputs": [
    {
     "data": {
      "text/plain": [
       "count                           439292\n",
       "mean     2021-07-26 09:24:02.746965248\n",
       "min                2020-01-09 00:00:00\n",
       "25%                2020-11-11 00:00:00\n",
       "50%                2021-08-06 00:00:00\n",
       "75%                2022-04-21 00:00:00\n",
       "max                2022-12-22 00:00:00\n",
       "Name: C-2 Date, dtype: object"
      ]
     },
     "execution_count": 97,
     "metadata": {},
     "output_type": "execute_result"
    }
   ],
   "source": [
    "X_train['C-2 Date'].describe()"
   ]
  },
  {
   "cell_type": "markdown",
   "id": "e5a33f99-de6e-4643-a02c-2454050e9076",
   "metadata": {},
   "source": [
    "### C-3 Date"
   ]
  },
  {
   "cell_type": "code",
   "execution_count": 99,
   "id": "a91cf15e-38ba-42f1-bf88-61139079373a",
   "metadata": {},
   "outputs": [
    {
     "data": {
      "image/png": "[encoded data removed]",
      "text/plain": [
       "<Figure size 1400x600 with 1 Axes>"
      ]
     },
     "metadata": {},
     "output_type": "display_data"
    }
   ],
   "source": [
    "plt.figure(figsize=(14, 6))\n",
    "plt.hist(X_train['C-3 Date'], bins=100, color='skyblue', edgecolor='black')\n",
    "plt.title('Histogram of C-3 Dates', fontsize=14)\n",
    "plt.xlabel('Date', fontsize=12)\n",
    "plt.ylabel('Frequency', fontsize=12)\n",
    "plt.xticks(rotation=45) \n",
    "plt.grid(alpha=0.3)\n",
    "plt.show()"
   ]
  },
  {
   "cell_type": "code",
   "execution_count": 100,
   "id": "ca1cce9c-2528-4d88-a110-dd3af907cae6",
   "metadata": {},
   "outputs": [
    {
     "name": "stdout",
     "output_type": "stream",
     "text": [
      "count                           149629\n",
      "mean     2021-07-26 22:13:27.292704256\n",
      "min                1992-11-13 00:00:00\n",
      "25%                2020-10-27 00:00:00\n",
      "50%                2021-07-21 00:00:00\n",
      "75%                2022-04-20 00:00:00\n",
      "max                2024-05-31 00:00:00\n",
      "Name: C-3 Date, dtype: object\n",
      "Lower Bound: 2018-08-09 00:00:00, Upper Bound: 2024-07-08 00:00:00\n",
      "Number of Outliers: 28\n"
     ]
    }
   ],
   "source": [
    "print(X_train['C-3 Date'].describe())\n",
    "\n",
    "Q1 = X_train['C-3 Date'].quantile(0.25)\n",
    "Q3 = X_train['C-3 Date'].quantile(0.75)\n",
    "IQR = Q3 - Q1\n",
    "\n",
    "lower_bound = Q1 - 1.5 * IQR\n",
    "upper_bound = Q3 + 1.5 * IQR\n",
    "print(f'Lower Bound: {lower_bound}, Upper Bound: {upper_bound}')\n",
    "\n",
    "outliers = X_train[(X_train['C-3 Date'] < lower_bound) | (X_train['C-3 Date'] > upper_bound)]\n",
    "print(f'Number of Outliers: {outliers.shape[0]}')"
   ]
  },
  {
   "cell_type": "code",
   "execution_count": 101,
   "id": "e7d3f4f7-556c-4bee-be9e-fa91b6fc83c8",
   "metadata": {},
   "outputs": [
    {
     "name": "stdout",
     "output_type": "stream",
     "text": [
      "count                           149629\n",
      "mean     2021-07-26 22:13:27.292704256\n",
      "min                1992-11-13 00:00:00\n",
      "25%                2020-10-27 00:00:00\n",
      "50%                2021-07-21 00:00:00\n",
      "75%                2022-04-20 00:00:00\n",
      "max                2024-05-31 00:00:00\n",
      "Name: C-3 Date, dtype: object\n",
      "Lower Bound (0.5th percentile): 2020-01-06 00:00:00, Upper Bound (99.5th percentile): 2023-10-09 00:00:00\n",
      "Number of Outliers: 1456\n"
     ]
    }
   ],
   "source": [
    "print(X_train['C-3 Date'].describe())\n",
    "\n",
    "lower_percentile = X_train['C-3 Date'].quantile(0.005)\n",
    "upper_percentile = X_train['C-3 Date'].quantile(0.995)\n",
    "\n",
    "print(f'Lower Bound (0.5th percentile): {lower_percentile}, Upper Bound (99.5th percentile): {upper_percentile}')\n",
    "\n",
    "outliers = X_train[(X_train['C-3 Date'] < lower_percentile) | (X_train['C-3 Date'] > upper_percentile)]\n",
    "\n",
    "print(f'Number of Outliers: {outliers.shape[0]}')"
   ]
  },
  {
   "cell_type": "code",
   "execution_count": 102,
   "id": "1920c738-b80d-4910-8c2f-d52289eae272",
   "metadata": {},
   "outputs": [],
   "source": [
    "def clean_c3_date_column(df, lower_percentile, upper_percentile, c3_date_col='C-3 Date'):\n",
    "\n",
    "    df[c3_date_col] = df[c3_date_col].apply(lambda x: x if (pd.notna(x) and lower_percentile <= x <= upper_percentile) else np.nan)\n",
    "    \n",
    "    return df"
   ]
  },
  {
   "cell_type": "code",
   "execution_count": 103,
   "id": "e142ea78-d0f6-4b70-b993-b439c374512f",
   "metadata": {},
   "outputs": [],
   "source": [
    "X_train = clean_c3_date_column(X_train, lower_percentile, upper_percentile, c3_date_col='C-3 Date')\n",
    "X_val = clean_c3_date_column(X_val, lower_percentile, upper_percentile, c3_date_col='C-3 Date')"
   ]
  },
  {
   "cell_type": "code",
   "execution_count": 104,
   "id": "f4513416-a911-4740-b4cd-182672711d44",
   "metadata": {},
   "outputs": [
    {
     "data": {
      "text/plain": [
       "count                           148173\n",
       "mean     2021-07-25 12:19:47.487598592\n",
       "min                2020-01-06 00:00:00\n",
       "25%                2020-10-29 00:00:00\n",
       "50%                2021-07-21 00:00:00\n",
       "75%                2022-04-18 00:00:00\n",
       "max                2023-10-09 00:00:00\n",
       "Name: C-3 Date, dtype: object"
      ]
     },
     "execution_count": 104,
     "metadata": {},
     "output_type": "execute_result"
    }
   ],
   "source": [
    "X_train['C-3 Date'].describe()"
   ]
  },
  {
   "cell_type": "markdown",
   "id": "74bd1df7-8f83-49a7-9aa6-eea009ebfc90",
   "metadata": {},
   "source": [
    "### First Hearing Date"
   ]
  },
  {
   "cell_type": "code",
   "execution_count": 106,
   "id": "72d062ac-ad19-48ed-a9ff-f6044ea2a8ae",
   "metadata": {},
   "outputs": [
    {
     "data": {
      "image/png": "[encoded data removed]",
      "text/plain": [
       "<Figure size 1400x600 with 1 Axes>"
      ]
     },
     "metadata": {},
     "output_type": "display_data"
    }
   ],
   "source": [
    "plt.figure(figsize=(14, 6))\n",
    "plt.hist(X_train['First Hearing Date'], bins=100, color='skyblue', edgecolor='black')\n",
    "plt.title('Histogram of First Hearing Date', fontsize=14)\n",
    "plt.xlabel('Date', fontsize=12)\n",
    "plt.ylabel('Frequency', fontsize=12)\n",
    "plt.xticks(rotation=45) \n",
    "plt.grid(alpha=0.3)\n",
    "plt.show()"
   ]
  },
  {
   "cell_type": "code",
   "execution_count": 107,
   "id": "f39b8c62-cc72-437d-b854-d7ded6a27c55",
   "metadata": {},
   "outputs": [
    {
     "name": "stdout",
     "output_type": "stream",
     "text": [
      "count                           120571\n",
      "mean     2022-03-19 06:45:03.157474816\n",
      "min                2020-01-30 00:00:00\n",
      "25%                2021-06-01 00:00:00\n",
      "50%                2022-03-09 00:00:00\n",
      "75%                2023-01-11 00:00:00\n",
      "max                2024-06-07 00:00:00\n",
      "Name: First Hearing Date, dtype: object\n",
      "Lower Bound: 2018-12-30 12:00:00, Upper Bound: 2025-06-12 12:00:00\n",
      "Number of Outliers: 0\n"
     ]
    }
   ],
   "source": [
    "print(X_train['First Hearing Date'].describe())\n",
    "\n",
    "Q1 = X_train['First Hearing Date'].quantile(0.25)\n",
    "Q3 = X_train['First Hearing Date'].quantile(0.75)\n",
    "IQR = Q3 - Q1\n",
    "\n",
    "lower_bound = Q1 - 1.5 * IQR\n",
    "upper_bound = Q3 + 1.5 * IQR\n",
    "print(f'Lower Bound: {lower_bound}, Upper Bound: {upper_bound}')\n",
    "\n",
    "outliers = X_train[(X_train['First Hearing Date'] < lower_bound) | (X_train['First Hearing Date'] > upper_bound)]\n",
    "print(f'Number of Outliers: {outliers.shape[0]}')"
   ]
  },
  {
   "cell_type": "code",
   "execution_count": 108,
   "id": "d416fdb2-34f5-4c29-800e-e6564b2edec2",
   "metadata": {},
   "outputs": [
    {
     "name": "stdout",
     "output_type": "stream",
     "text": [
      "count                           120571\n",
      "mean     2022-03-19 06:45:03.157474816\n",
      "min                2020-01-30 00:00:00\n",
      "25%                2021-06-01 00:00:00\n",
      "50%                2022-03-09 00:00:00\n",
      "75%                2023-01-11 00:00:00\n",
      "max                2024-06-07 00:00:00\n",
      "Name: First Hearing Date, dtype: object\n",
      "Lower Bound (1st percentile): 2020-04-27 00:00:00, Upper Bound (99th percentile): 2024-04-15 00:00:00\n",
      "Number of Outliers: 2364\n"
     ]
    }
   ],
   "source": [
    "print(X_train['First Hearing Date'].describe())\n",
    "\n",
    "lower_percentile = X_train['First Hearing Date'].quantile(0.01)\n",
    "upper_percentile = X_train['First Hearing Date'].quantile(0.99)\n",
    "\n",
    "print(f'Lower Bound (1st percentile): {lower_percentile}, Upper Bound (99th percentile): {upper_percentile}')\n",
    "\n",
    "outliers = X_train[(X_train['First Hearing Date'] < lower_percentile) | (X_train['First Hearing Date'] > upper_percentile)]\n",
    "\n",
    "print(f'Number of Outliers: {outliers.shape[0]}')"
   ]
  },
  {
   "cell_type": "code",
   "execution_count": 109,
   "id": "3a66da61-6d7a-41c8-9ff7-e13102672a9e",
   "metadata": {},
   "outputs": [],
   "source": [
    "def clean_first_hearing_date_column(df, lower_percentile, upper_percentile, hearing_date_col='First Hearing Date'):\n",
    "    df[hearing_date_col] = df[hearing_date_col].apply(\n",
    "        lambda x: x if (pd.notna(x) and lower_percentile <= x <= upper_percentile) else np.nan\n",
    "    )\n",
    "    return df"
   ]
  },
  {
   "cell_type": "code",
   "execution_count": 110,
   "id": "f5fd2c99-7177-4602-a17b-adddea6f2b27",
   "metadata": {},
   "outputs": [],
   "source": [
    "X_train = clean_first_hearing_date_column(X_train, lower_percentile, upper_percentile, hearing_date_col='First Hearing Date')\n",
    "X_val = clean_first_hearing_date_column(X_val, lower_percentile, upper_percentile, hearing_date_col='First Hearing Date')"
   ]
  },
  {
   "cell_type": "code",
   "execution_count": 111,
   "id": "4b032149-7aa9-42d9-a12c-a8d392c0d514",
   "metadata": {},
   "outputs": [
    {
     "data": {
      "text/plain": [
       "count                           118207\n",
       "mean     2022-03-18 11:40:39.662626304\n",
       "min                2020-04-27 00:00:00\n",
       "25%                2021-06-07 00:00:00\n",
       "50%                2022-03-09 00:00:00\n",
       "75%                2023-01-05 00:00:00\n",
       "max                2024-04-15 00:00:00\n",
       "Name: First Hearing Date, dtype: object"
      ]
     },
     "execution_count": 111,
     "metadata": {},
     "output_type": "execute_result"
    }
   ],
   "source": [
    "X_train['First Hearing Date'].describe()"
   ]
  },
  {
   "cell_type": "markdown",
   "id": "e6f2dadf-9d57-4a12-a5e3-9063fcb39573",
   "metadata": {},
   "source": [
    "## Dropping 'Description' Variables"
   ]
  },
  {
   "cell_type": "markdown",
   "id": "4e47a7e8-14b8-4102-aa52-beacd6d2b1fc",
   "metadata": {},
   "source": [
    "There are several variables in the dataset that contain both a 'code' and a 'description' representing the same information. To facilitate our analysis and reduce redundancy, we will store the descriptions in dictionaries, mapping each code to its corresponding description. Afterward, we will drop the description variables from the dataset to simplify the data structure and focus on the essential information for our analysis."
   ]
  },
  {
   "cell_type": "code",
   "execution_count": 114,
   "id": "74eaf86f-880c-4413-83df-6754211012f1",
   "metadata": {},
   "outputs": [
    {
     "data": {
      "text/plain": [
       "{11.0: 'AGRICULTURE, FORESTRY, FISHING AND HUNTING',\n",
       " 21.0: 'MINING',\n",
       " 22.0: 'UTILITIES',\n",
       " 23.0: 'CONSTRUCTION',\n",
       " 31.0: 'MANUFACTURING',\n",
       " 32.0: 'MANUFACTURING',\n",
       " 33.0: 'MANUFACTURING',\n",
       " 42.0: 'WHOLESALE TRADE',\n",
       " 44.0: 'RETAIL TRADE',\n",
       " 45.0: 'RETAIL TRADE',\n",
       " 48.0: 'TRANSPORTATION AND WAREHOUSING',\n",
       " 49.0: 'TRANSPORTATION AND WAREHOUSING',\n",
       " 51.0: 'INFORMATION',\n",
       " 52.0: 'FINANCE AND INSURANCE',\n",
       " 53.0: 'REAL ESTATE AND RENTAL AND LEASING',\n",
       " 54.0: 'PROFESSIONAL, SCIENTIFIC, AND TECHNICAL SERVICES',\n",
       " 55.0: 'MANAGEMENT OF COMPANIES AND ENTERPRISES',\n",
       " 56.0: 'ADMINISTRATIVE AND SUPPORT AND WASTE MANAGEMENT AND REMEDIAT',\n",
       " 61.0: 'EDUCATIONAL SERVICES',\n",
       " 62.0: 'HEALTH CARE AND SOCIAL ASSISTANCE',\n",
       " 71.0: 'ARTS, ENTERTAINMENT, AND RECREATION',\n",
       " 72.0: 'ACCOMMODATION AND FOOD SERVICES',\n",
       " 81.0: 'OTHER SERVICES (EXCEPT PUBLIC ADMINISTRATION)',\n",
       " 92.0: 'PUBLIC ADMINISTRATION'}"
      ]
     },
     "execution_count": 114,
     "metadata": {},
     "output_type": "execute_result"
    }
   ],
   "source": [
    "industry_Code_train = X_train[['Industry Code', 'Industry Code Description']]\n",
    "industry_Code_train = industry_Code_train.sort_values('Industry Code')\n",
    "industry_Code_dict_train = industry_Code_train.set_index('Industry Code')['Industry Code Description'].dropna().to_dict()\n",
    "\n",
    "industry_Code_dict_train"
   ]
  },
  {
   "cell_type": "code",
   "execution_count": 115,
   "id": "52f04d54-e7d6-43f6-b71d-6301c128c1d7",
   "metadata": {},
   "outputs": [
    {
     "data": {
      "text/plain": [
       "{1.0: 'CHEMICALS',\n",
       " 2.0: 'HOT OBJECTS OR SUBSTANCES',\n",
       " 3.0: 'TEMPERATURE EXTREMES',\n",
       " 4.0: 'FIRE OR FLAME',\n",
       " 5.0: 'STEAM OR HOT FLUIDS',\n",
       " 6.0: 'DUST, GASES, FUMES OR VAPORS',\n",
       " 7.0: 'WELDING OPERATION',\n",
       " 8.0: 'RADIATION',\n",
       " 9.0: 'CONTACT WITH, NOC',\n",
       " 10.0: 'MACHINE OR MACHINERY',\n",
       " 11.0: 'COLD OBJECTS OR SUBSTANCES',\n",
       " 12.0: 'OBJECT HANDLED',\n",
       " 13.0: 'CAUGHT IN, UNDER OR BETWEEN, NOC',\n",
       " 14.0: 'ABNORMAL AIR PRESSURE',\n",
       " 15.0: 'BROKEN GLASS',\n",
       " 16.0: 'HAND TOOL, UTENSIL; NOT POWERED',\n",
       " 17.0: 'OBJECT BEING LIFTED OR HANDLED',\n",
       " 18.0: 'POWERED HAND TOOL, APPLIANCE',\n",
       " 19.0: 'CUT, PUNCTURE, SCRAPE, NOC',\n",
       " 20.0: 'COLLAPSING MATERIALS (SLIDES OF EARTH)',\n",
       " 25.0: 'FROM DIFFERENT LEVEL (ELEVATION)',\n",
       " 26.0: 'FROM LADDER OR SCAFFOLDING',\n",
       " 27.0: 'FROM LIQUID OR GREASE SPILLS',\n",
       " 28.0: 'INTO OPENINGS',\n",
       " 29.0: 'ON SAME LEVEL',\n",
       " 30.0: 'SLIP, OR TRIP, DID NOT FALL',\n",
       " 31.0: 'FALL, SLIP OR TRIP, NOC',\n",
       " 32.0: 'ON ICE OR SNOW',\n",
       " 33.0: 'ON STAIRS',\n",
       " 40.0: 'CRASH OF WATER VEHICLE',\n",
       " 41.0: 'CRASH OF RAIL VEHICLE',\n",
       " 45.0: 'COLLISION OR SIDESWIPE WITH ANOTHER VEHICLE',\n",
       " 46.0: 'COLLISION WITH A FIXED OBJECT',\n",
       " 47.0: 'CRASH OF AIRPLANE',\n",
       " 48.0: 'VEHICLE UPSET',\n",
       " 50.0: 'MOTOR VEHICLE, NOC',\n",
       " 52.0: 'CONTINUAL NOISE',\n",
       " 53.0: 'TWISTING',\n",
       " 54.0: 'JUMPING OR LEAPING',\n",
       " 55.0: 'HOLDING OR CARRYING',\n",
       " 56.0: 'LIFTING',\n",
       " 57.0: 'PUSHING OR PULLING',\n",
       " 58.0: 'REACHING',\n",
       " 59.0: 'USING TOOL OR MACHINERY',\n",
       " 60.0: 'STRAIN OR INJURY BY, NOC',\n",
       " 61.0: 'WIELDING OR THROWING',\n",
       " 65.0: 'MOVING PART OF MACHINE',\n",
       " 66.0: 'OBJECT BEING LIFTED OR HANDLED',\n",
       " 67.0: 'SANDING, SCRAPING, CLEANING OPERATION',\n",
       " 68.0: 'STATIONARY OBJECT',\n",
       " 69.0: 'STEPPING ON SHARP OBJECT',\n",
       " 70.0: 'STRIKING AGAINST OR STEPPING ON, NOC',\n",
       " 74.0: 'FELLOW WORKER, PATIENT OR OTHER PERSON',\n",
       " 75.0: 'FALLING OR FLYING OBJECT',\n",
       " 76.0: 'HAND TOOL OR MACHINE IN USE',\n",
       " 77.0: 'MOTOR VEHICLE',\n",
       " 78.0: 'MOVING PARTS OF MACHINE',\n",
       " 79.0: 'OBJECT BEING LIFTED OR HANDLED',\n",
       " 80.0: 'OBJECT HANDLED BY OTHERS',\n",
       " 81.0: 'STRUCK OR INJURED, NOC',\n",
       " 82.0: 'ABSORPTION, INGESTION OR INHALATION, NOC',\n",
       " 83.0: 'PANDEMIC',\n",
       " 84.0: 'ELECTRICAL CURRENT',\n",
       " 85.0: 'ANIMAL OR INSECT',\n",
       " 86.0: 'EXPLOSION OR FLARE BACK',\n",
       " 87.0: 'FOREIGN MATTER (BODY) IN EYE(S)',\n",
       " 88.0: 'NATURAL DISASTERS',\n",
       " 89.0: 'PERSON IN ACT OF A CRIME',\n",
       " 90.0: 'OTHER THAN PHYSICAL CAUSE OF INJURY',\n",
       " 91.0: 'MOLD',\n",
       " 93.0: 'GUNSHOT',\n",
       " 94.0: 'REPETITIVE MOTION',\n",
       " 95.0: 'RUBBED OR ABRADED, NOC',\n",
       " 96.0: 'TERRORISM',\n",
       " 97.0: 'REPETITIVE MOTION',\n",
       " 98.0: 'CUMULATIVE, NOC',\n",
       " 99.0: 'OTHER - MISCELLANEOUS, NOC'}"
      ]
     },
     "execution_count": 115,
     "metadata": {},
     "output_type": "execute_result"
    }
   ],
   "source": [
    "WCIO_Cause_Injury = X_train[['WCIO Cause of Injury Code' , 'WCIO Cause of Injury Description']] \n",
    "WCIO_Cause_Injury = WCIO_Cause_Injury.sort_values('WCIO Cause of Injury Code')\n",
    "WCIO_Cause_Injury_dict = WCIO_Cause_Injury.set_index('WCIO Cause of Injury Code')['WCIO Cause of Injury Description'].dropna().to_dict()\n",
    "\n",
    "WCIO_Cause_Injury_dict"
   ]
  },
  {
   "cell_type": "code",
   "execution_count": 116,
   "id": "48a9381d-0296-460f-a4a6-22a324202f9f",
   "metadata": {},
   "outputs": [
    {
     "data": {
      "text/plain": [
       "{1.0: 'NO PHYSICAL INJURY',\n",
       " 2.0: 'AMPUTATION',\n",
       " 3.0: 'ANGINA PECTORIS',\n",
       " 4.0: 'BURN',\n",
       " 7.0: 'CONCUSSION',\n",
       " 10.0: 'CONTUSION',\n",
       " 13.0: 'CRUSHING',\n",
       " 16.0: 'DISLOCATION',\n",
       " 19.0: 'ELECTRIC SHOCK',\n",
       " 22.0: 'ENUCLEATION',\n",
       " 25.0: 'FOREIGN BODY',\n",
       " 28.0: 'FRACTURE',\n",
       " 30.0: 'FREEZING',\n",
       " 31.0: 'HEARING LOSS OR IMPAIRMENT',\n",
       " 32.0: 'HEAT PROSTRATION',\n",
       " 34.0: 'HERNIA',\n",
       " 36.0: 'INFECTION',\n",
       " 37.0: 'INFLAMMATION',\n",
       " 38.0: 'ADVERSE REACTION TO A VACCINATION OR INOCULATION',\n",
       " 40.0: 'LACERATION',\n",
       " 41.0: 'MYOCARDIAL INFARCTION',\n",
       " 42.0: 'POISONING - GENERAL (NOT OD OR CUMULATIVE',\n",
       " 43.0: 'PUNCTURE',\n",
       " 46.0: 'RUPTURE',\n",
       " 47.0: 'SEVERANCE',\n",
       " 49.0: 'SPRAIN OR TEAR',\n",
       " 52.0: 'STRAIN OR TEAR',\n",
       " 53.0: 'SYNCOPE',\n",
       " 54.0: 'ASPHYXIATION',\n",
       " 55.0: 'VASCULAR',\n",
       " 58.0: 'VISION LOSS',\n",
       " 59.0: 'ALL OTHER SPECIFIC INJURIES, NOC',\n",
       " 60.0: 'DUST DISEASE, NOC',\n",
       " 61.0: 'ASBESTOSIS',\n",
       " 62.0: 'BLACK LUNG',\n",
       " 63.0: 'BYSSINOSIS',\n",
       " 64.0: 'SILICOSIS',\n",
       " 65.0: 'RESPIRATORY DISORDERS',\n",
       " 66.0: 'POISONING - CHEMICAL, (OTHER THAN METALS)',\n",
       " 67.0: 'POISONING - METAL',\n",
       " 68.0: 'DERMATITIS',\n",
       " 69.0: 'MENTAL DISORDER',\n",
       " 70.0: 'RADIATION',\n",
       " 71.0: 'ALL OTHER OCCUPATIONAL DISEASE INJURY, NOC',\n",
       " 72.0: 'LOSS OF HEARING',\n",
       " 73.0: 'CONTAGIOUS DISEASE',\n",
       " 74.0: 'CANCER',\n",
       " 75.0: 'AIDS',\n",
       " 76.0: 'VDT - RELATED DISEASES',\n",
       " 77.0: 'MENTAL STRESS',\n",
       " 78.0: 'CARPAL TUNNEL SYNDROME',\n",
       " 79.0: 'HEPATITIS C',\n",
       " 80.0: 'ALL OTHER CUMULATIVE INJURY, NOC',\n",
       " 83.0: 'COVID-19',\n",
       " 90.0: 'MULTIPLE PHYSICAL INJURIES ONLY',\n",
       " 91.0: 'MULTIPLE INJURIES INCLUDING BOTH PHYSICAL AND PSYCHOLOGICAL'}"
      ]
     },
     "execution_count": 116,
     "metadata": {},
     "output_type": "execute_result"
    }
   ],
   "source": [
    "WCIO_Nature_Injury = X_train[['WCIO Nature of Injury Code' , 'WCIO Nature of Injury Description']] \n",
    "WCIO_Nature_Injury = WCIO_Nature_Injury.sort_values('WCIO Nature of Injury Code')\n",
    "WCIO_Nature_Injury_dict = WCIO_Nature_Injury.set_index('WCIO Nature of Injury Code')['WCIO Nature of Injury Description'].dropna().to_dict()\n",
    "\n",
    "WCIO_Nature_Injury_dict"
   ]
  },
  {
   "cell_type": "code",
   "execution_count": 117,
   "id": "2aba3819-bb4b-4fb2-bcd5-578e628ec633",
   "metadata": {},
   "outputs": [
    {
     "data": {
      "text/plain": [
       "{-9.0: 'MULTIPLE',\n",
       " 10.0: 'MULTIPLE HEAD INJURY',\n",
       " 11.0: 'SKULL',\n",
       " 12.0: 'BRAIN',\n",
       " 13.0: 'EAR(S)',\n",
       " 14.0: 'EYE(S)',\n",
       " 15.0: 'NOSE',\n",
       " 16.0: 'TEETH',\n",
       " 17.0: 'MOUTH',\n",
       " 18.0: 'SOFT TISSUE',\n",
       " 19.0: 'FACIAL BONES',\n",
       " 20.0: 'MULTIPLE NECK INJURY',\n",
       " 21.0: 'VERTEBRAE',\n",
       " 22.0: 'DISC',\n",
       " 23.0: 'SPINAL CORD',\n",
       " 24.0: 'LARYNX',\n",
       " 25.0: 'SOFT TISSUE',\n",
       " 26.0: 'TRACHEA',\n",
       " 30.0: 'MULTIPLE UPPER EXTREMITIES',\n",
       " 31.0: 'UPPER ARM',\n",
       " 32.0: 'ELBOW',\n",
       " 33.0: 'LOWER ARM',\n",
       " 34.0: 'WRIST',\n",
       " 35.0: 'HAND',\n",
       " 36.0: 'FINGER(S)',\n",
       " 37.0: 'THUMB',\n",
       " 38.0: 'SHOULDER(S)',\n",
       " 39.0: 'WRIST (S) & HAND(S)',\n",
       " 40.0: 'MULTIPLE TRUNK',\n",
       " 41.0: 'UPPER BACK AREA',\n",
       " 42.0: 'LOWER BACK AREA',\n",
       " 43.0: 'DISC',\n",
       " 44.0: 'CHEST',\n",
       " 45.0: 'SACRUM AND COCCYX',\n",
       " 46.0: 'PELVIS',\n",
       " 47.0: 'SPINAL CORD',\n",
       " 48.0: 'INTERNAL ORGANS',\n",
       " 49.0: 'HEART',\n",
       " 50.0: 'MULTIPLE LOWER EXTREMITIES',\n",
       " 51.0: 'HIP',\n",
       " 52.0: 'UPPER LEG',\n",
       " 53.0: 'KNEE',\n",
       " 54.0: 'LOWER LEG',\n",
       " 55.0: 'ANKLE',\n",
       " 56.0: 'FOOT',\n",
       " 57.0: 'TOES',\n",
       " 58.0: 'GREAT TOE',\n",
       " 60.0: 'LUNGS',\n",
       " 61.0: 'ABDOMEN INCLUDING GROIN',\n",
       " 62.0: 'BUTTOCKS',\n",
       " 63.0: 'LUMBAR & OR SACRAL VERTEBRAE (VERTEBRA',\n",
       " 64.0: 'ARTIFICIAL APPLIANCE',\n",
       " 65.0: 'INSUFFICIENT INFO TO PROPERLY IDENTIFY - UNCLASSIFIED',\n",
       " 66.0: 'NO PHYSICAL INJURY',\n",
       " 90.0: 'MULTIPLE BODY PARTS (INCLUDING BODY',\n",
       " 91.0: 'BODY SYSTEMS AND MULTIPLE BODY SYSTEMS',\n",
       " 99.0: 'WHOLE BODY'}"
      ]
     },
     "execution_count": 117,
     "metadata": {},
     "output_type": "execute_result"
    }
   ],
   "source": [
    "WCIO_Part_of_Body = X_train[['WCIO Part Of Body Code' , 'WCIO Part Of Body Description']] \n",
    "WCIO_Part_of_Body = WCIO_Part_of_Body.sort_values('WCIO Part Of Body Code')\n",
    "WCIO_Part_of_Body_dict = WCIO_Part_of_Body.set_index('WCIO Part Of Body Code')['WCIO Part Of Body Description'].dropna().to_dict()\n",
    "\n",
    "WCIO_Part_of_Body_dict"
   ]
  },
  {
   "cell_type": "code",
   "execution_count": 118,
   "id": "f956be3b-e87b-47bb-8c8b-c66a30d31e43",
   "metadata": {},
   "outputs": [],
   "source": [
    "X_train = X_train.drop(['WCIO Part Of Body Description', 'WCIO Nature of Injury Description', \n",
    "                        'WCIO Cause of Injury Description', 'Industry Code Description'], axis=1)\n",
    "\n",
    "X_val = X_val.drop(['WCIO Part Of Body Description', 'WCIO Nature of Injury Description', \n",
    "                    'WCIO Cause of Injury Description', 'Industry Code Description'], axis=1)\n",
    "\n",
    "df_test = df_test.drop(['WCIO Part Of Body Description', 'WCIO Nature of Injury Description', \n",
    "                        'WCIO Cause of Injury Description', 'Industry Code Description'], axis=1)"
   ]
  },
  {
   "cell_type": "markdown",
   "id": "74531817-d300-41af-8395-365caa441faa",
   "metadata": {},
   "source": [
    "## Missing Values"
   ]
  },
  {
   "cell_type": "code",
   "execution_count": 120,
   "id": "e2d35982-3ec2-42ed-a845-353d6077df4e",
   "metadata": {},
   "outputs": [
    {
     "data": {
      "text/plain": [
       "Accident Date                         0.026221\n",
       "Age at Injury                         0.010370\n",
       "Alternative Dispute Resolution        0.000000\n",
       "Assembly Date                         0.018322\n",
       "Attorney/Representative               0.000000\n",
       "Average Weekly Wage                   0.662473\n",
       "Birth Year                            0.095564\n",
       "C-2 Date                              0.043395\n",
       "C-3 Date                              0.677338\n",
       "Carrier Name                          0.000000\n",
       "Carrier Type                          0.000000\n",
       "County of Injury                      0.000000\n",
       "COVID-19 Indicator                    0.000000\n",
       "District Name                         0.000000\n",
       "First Hearing Date                    0.742592\n",
       "Gender                                0.000000\n",
       "IME-4 Count                           0.775365\n",
       "Industry Code                         0.017332\n",
       "Medical Fee Region                    0.000000\n",
       "OIICS Nature of Injury Description    1.000000\n",
       "WCIO Cause of Injury Code             0.027092\n",
       "WCIO Nature of Injury Code            0.027124\n",
       "WCIO Part Of Body Code                0.029537\n",
       "Zip Code                              0.049800\n",
       "Agreement Reached                     0.000000\n",
       "WCB Decision                          0.000000\n",
       "Number of Dependents                  0.000000\n",
       "dtype: float64"
      ]
     },
     "execution_count": 120,
     "metadata": {},
     "output_type": "execute_result"
    }
   ],
   "source": [
    "X_train.isnull().mean()"
   ]
  },
  {
   "cell_type": "markdown",
   "id": "cf48bd89-61e7-45fe-a098-6d2e84eeccff",
   "metadata": {},
   "source": [
    "### Accident Date"
   ]
  },
  {
   "cell_type": "code",
   "execution_count": 122,
   "id": "36f36d81-875c-450c-9e03-170cb6b3bf8c",
   "metadata": {},
   "outputs": [
    {
     "name": "stdout",
     "output_type": "stream",
     "text": [
      "Missing values in X_train (Accident Date): 12041\n",
      "Missing values in X_val (Accident Date): 2969\n",
      "Missing values in df_test (Accident Date): 2444\n"
     ]
    }
   ],
   "source": [
    "print(f\"Missing values in X_train (Accident Date): {X_train['Accident Date'].isnull().sum()}\")\n",
    "print(f\"Missing values in X_val (Accident Date): {X_val['Accident Date'].isnull().sum()}\")\n",
    "print(f\"Missing values in df_test (Accident Date): {df_test['Accident Date'].isnull().sum()}\")"
   ]
  },
  {
   "cell_type": "code",
   "execution_count": 123,
   "id": "23fe3396-c19c-476a-aa73-673869bfc4a0",
   "metadata": {},
   "outputs": [
    {
     "data": {
      "image/png": "[encoded data removed]",
      "text/plain": [
       "<Figure size 1400x600 with 1 Axes>"
      ]
     },
     "metadata": {},
     "output_type": "display_data"
    }
   ],
   "source": [
    "plt.figure(figsize=(14, 6))\n",
    "plt.hist(X_train['Accident Date'], bins=100, color='skyblue', edgecolor='black')\n",
    "plt.title('Histogram of Accident Dates', fontsize=14)\n",
    "plt.xlabel('Date', fontsize=12)\n",
    "plt.ylabel('Frequency', fontsize=12)\n",
    "plt.xticks(rotation=45) \n",
    "plt.grid(alpha=0.3)\n",
    "plt.show()"
   ]
  },
  {
   "cell_type": "code",
   "execution_count": 124,
   "id": "fca15dcd-ecfc-4776-867d-9263cbe150f8",
   "metadata": {},
   "outputs": [
    {
     "name": "stdout",
     "output_type": "stream",
     "text": [
      "Mean Accident Date: 2021-06-13 02:51:52.648849664\n",
      "Median Accident Date: 2021-06-27 00:00:00\n",
      "Mode Accident Date: 2020-03-01 00:00:00\n"
     ]
    }
   ],
   "source": [
    "non_null_dates = X_train['Accident Date'].dropna()\n",
    "\n",
    "mean_date = non_null_dates.mean()\n",
    "median_date = non_null_dates.median()\n",
    "mode_date = non_null_dates.mode()[0]\n",
    "\n",
    "print(f\"Mean Accident Date: {mean_date}\")\n",
    "print(f\"Median Accident Date: {median_date}\")\n",
    "print(f\"Mode Accident Date: {mode_date}\")"
   ]
  },
  {
   "cell_type": "markdown",
   "id": "0bc64046-759e-47e9-a9bb-2cf6a8b4458b",
   "metadata": {},
   "source": [
    "Due to the skewness observed in the distribution of the Accident Date column, we decided to impute the missing values with the median."
   ]
  },
  {
   "cell_type": "code",
   "execution_count": 126,
   "id": "8a831ff1-c920-4ee5-8e85-4399019c6743",
   "metadata": {},
   "outputs": [],
   "source": [
    "def impute_accident_year(X_train, X_val, df_test):\n",
    "\n",
    "    accident_year_mean = non_null_dates.median()\n",
    "\n",
    "    X_train['Accident Date'] = X_train['Accident Date'].fillna(accident_year_mean)\n",
    "    X_val['Accident Date'] = X_val['Accident Date'].fillna(accident_year_mean)\n",
    "    df_test['Accident Date'] = df_test['Accident Date'].fillna(accident_year_mean)\n",
    "\n",
    "    return X_train, X_val, df_test"
   ]
  },
  {
   "cell_type": "code",
   "execution_count": 127,
   "id": "14d8251f-6caf-4e35-b641-98ab65f949f0",
   "metadata": {},
   "outputs": [],
   "source": [
    "X_train, X_val, df_test = impute_accident_year(X_train, X_val, df_test)"
   ]
  },
  {
   "cell_type": "code",
   "execution_count": 128,
   "id": "d99cd08f-3ed5-471d-8cb1-e763bdbeae27",
   "metadata": {},
   "outputs": [
    {
     "name": "stdout",
     "output_type": "stream",
     "text": [
      "Missing values in X_train (Accident Date): 0\n",
      "Missing values in X_val (Accident Date): 0\n",
      "Missing values in df_test (Accident Date): 0\n"
     ]
    }
   ],
   "source": [
    "print(f\"Missing values in X_train (Accident Date): {X_train['Accident Date'].isnull().sum()}\")\n",
    "print(f\"Missing values in X_val (Accident Date): {X_val['Accident Date'].isnull().sum()}\")\n",
    "print(f\"Missing values in df_test (Accident Date): {df_test['Accident Date'].isnull().sum()}\")"
   ]
  },
  {
   "cell_type": "markdown",
   "id": "f2247b59-b1a7-4859-a797-b3a67506ae72",
   "metadata": {},
   "source": [
    "### Age at Injury"
   ]
  },
  {
   "cell_type": "code",
   "execution_count": 130,
   "id": "fb97e9f9-fca9-491d-828d-7ae05f5e52ce",
   "metadata": {},
   "outputs": [
    {
     "name": "stdout",
     "output_type": "stream",
     "text": [
      "Missing values in X_train: 4762\n",
      "Missing values in X_val: 1206\n",
      "Missing values in df_test: 3916\n"
     ]
    }
   ],
   "source": [
    "print(f\"Missing values in X_train: {X_train['Age at Injury'].isnull().sum()}\")\n",
    "print(f\"Missing values in X_val: {X_val['Age at Injury'].isnull().sum()}\")\n",
    "print(f\"Missing values in df_test: {df_test['Age at Injury'].isnull().sum()}\")"
   ]
  },
  {
   "cell_type": "code",
   "execution_count": 131,
   "id": "c68651b8-8ff4-4273-9562-38de567a74e3",
   "metadata": {},
   "outputs": [
    {
     "data": {
      "image/png": "[encoded data removed]",
      "text/plain": [
       "<Figure size 1000x600 with 1 Axes>"
      ]
     },
     "metadata": {},
     "output_type": "display_data"
    }
   ],
   "source": [
    "age_data = X_train['Age at Injury'].dropna()\n",
    "\n",
    "plt.figure(figsize=(10, 6))\n",
    "plt.hist(age_data, bins=30, color='skyblue', edgecolor='black')\n",
    "\n",
    "plt.title('Age at Injury Distribution in X_train')\n",
    "plt.xlabel('Age at Injury')\n",
    "plt.ylabel('Frequency')\n",
    "\n",
    "plt.show()"
   ]
  },
  {
   "cell_type": "code",
   "execution_count": 132,
   "id": "66379ec4-eebf-41f2-bb33-fc14a80bb3aa",
   "metadata": {},
   "outputs": [
    {
     "name": "stdout",
     "output_type": "stream",
     "text": [
      "Mean Age at Injury: 42.50\n",
      "Median Age at Injury: 42.00\n"
     ]
    }
   ],
   "source": [
    "mean_age = age_data.mean()\n",
    "median_age = age_data.median()\n",
    "\n",
    "print(f\"Mean Age at Injury: {mean_age:.2f}\")\n",
    "print(f\"Median Age at Injury: {median_age:.2f}\")"
   ]
  },
  {
   "cell_type": "markdown",
   "id": "ac8782a2-be0b-430d-8ee1-29d46fb93d1d",
   "metadata": {},
   "source": [
    "In this case, mean and median imputation is very similar. We are going to use the median."
   ]
  },
  {
   "cell_type": "code",
   "execution_count": 134,
   "id": "1fde62a1-dc5d-486c-b0c1-14095db6fcca",
   "metadata": {},
   "outputs": [],
   "source": [
    "def impute_age_at_injury(X_train, X_val, df_test):\n",
    "\n",
    "    imputer = SimpleImputer(strategy='median')\n",
    "\n",
    "    X_train['Age at Injury'] = imputer.fit_transform(X_train[['Age at Injury']])\n",
    "    X_val['Age at Injury'] = imputer.transform(X_val[['Age at Injury']])\n",
    "    df_test['Age at Injury'] = imputer.transform(df_test[['Age at Injury']])\n",
    "\n",
    "    return X_train, X_val, df_test"
   ]
  },
  {
   "cell_type": "code",
   "execution_count": 135,
   "id": "2d866acc-8173-43ba-92ab-88abedd79937",
   "metadata": {},
   "outputs": [],
   "source": [
    "X_train, X_val, df_test = impute_age_at_injury(X_train, X_val, df_test)"
   ]
  },
  {
   "cell_type": "code",
   "execution_count": 136,
   "id": "dd22a971-8233-4d29-bec4-3e21fdf4848d",
   "metadata": {},
   "outputs": [
    {
     "name": "stdout",
     "output_type": "stream",
     "text": [
      "Missing values in X_train: 0\n",
      "Missing values in X_val: 0\n",
      "Missing values in df_test: 0\n"
     ]
    }
   ],
   "source": [
    "print(f\"Missing values in X_train: {X_train['Age at Injury'].isnull().sum()}\")\n",
    "print(f\"Missing values in X_val: {X_val['Age at Injury'].isnull().sum()}\")\n",
    "print(f\"Missing values in df_test: {df_test['Age at Injury'].isnull().sum()}\")"
   ]
  },
  {
   "cell_type": "markdown",
   "id": "dbc25df5-06a9-443b-8a37-683d9b533c12",
   "metadata": {},
   "source": [
    "### Alternative Dispute Resolution"
   ]
  },
  {
   "cell_type": "code",
   "execution_count": 138,
   "id": "3eb93c03-0eba-4ec6-9b3b-2d59b67eb37d",
   "metadata": {},
   "outputs": [
    {
     "data": {
      "text/plain": [
       "Alternative Dispute Resolution\n",
       "N    457147\n",
       "Y      2068\n",
       "U         5\n",
       "Name: count, dtype: int64"
      ]
     },
     "execution_count": 138,
     "metadata": {},
     "output_type": "execute_result"
    }
   ],
   "source": [
    "X_train['Alternative Dispute Resolution'].value_counts()"
   ]
  },
  {
   "cell_type": "code",
   "execution_count": 139,
   "id": "f14e8623-e62b-4a24-96a1-81b79e970283",
   "metadata": {},
   "outputs": [
    {
     "data": {
      "text/plain": [
       "Alternative Dispute Resolution\n",
       "N    114264\n",
       "Y       541\n",
       "Name: count, dtype: int64"
      ]
     },
     "execution_count": 139,
     "metadata": {},
     "output_type": "execute_result"
    }
   ],
   "source": [
    "X_val['Alternative Dispute Resolution'].value_counts()"
   ]
  },
  {
   "cell_type": "code",
   "execution_count": 140,
   "id": "70ce549f-a2c4-48ce-a28d-33373c7377b4",
   "metadata": {},
   "outputs": [
    {
     "data": {
      "text/plain": [
       "Alternative Dispute Resolution\n",
       "N    386314\n",
       "Y      1660\n",
       "U         1\n",
       "Name: count, dtype: int64"
      ]
     },
     "execution_count": 140,
     "metadata": {},
     "output_type": "execute_result"
    }
   ],
   "source": [
    "df_test['Alternative Dispute Resolution'].value_counts()"
   ]
  },
  {
   "cell_type": "markdown",
   "id": "8e11e9e7-63d8-4a35-8123-1c55cc1dd2c4",
   "metadata": {},
   "source": [
    "We will impute these Unknowns with the mode."
   ]
  },
  {
   "cell_type": "code",
   "execution_count": 142,
   "id": "c264c179-9dce-4315-8c11-e3d4c70b0a94",
   "metadata": {},
   "outputs": [],
   "source": [
    "def impute_adr_mode(X_train, X_val, df_test):\n",
    "\n",
    "    ADR_mode = X_train['Alternative Dispute Resolution'].mode()[0]\n",
    "    \n",
    "    X_train['Alternative Dispute Resolution'] = X_train['Alternative Dispute Resolution'].replace('U', ADR_mode)\n",
    "    X_val['Alternative Dispute Resolution'] = X_val['Alternative Dispute Resolution'].replace('U', ADR_mode)\n",
    "    df_test['Alternative Dispute Resolution'] = df_test['Alternative Dispute Resolution'].replace('U', ADR_mode)\n",
    "\n",
    "    return X_train, X_val, df_test"
   ]
  },
  {
   "cell_type": "code",
   "execution_count": 143,
   "id": "15dbdb23-7625-482f-93d2-431b93324f39",
   "metadata": {},
   "outputs": [],
   "source": [
    "X_train, X_val, df_test = impute_adr_mode(X_train, X_val, df_test)"
   ]
  },
  {
   "cell_type": "code",
   "execution_count": 144,
   "id": "bd10e49f-3306-4d35-9dc1-9a92372a4595",
   "metadata": {},
   "outputs": [
    {
     "data": {
      "text/plain": [
       "Alternative Dispute Resolution\n",
       "N    457152\n",
       "Y      2068\n",
       "Name: count, dtype: int64"
      ]
     },
     "execution_count": 144,
     "metadata": {},
     "output_type": "execute_result"
    }
   ],
   "source": [
    "X_train['Alternative Dispute Resolution'].value_counts()"
   ]
  },
  {
   "cell_type": "markdown",
   "id": "08ae8d9f-0adc-41f8-a45d-3aae2717423b",
   "metadata": {},
   "source": [
    "### Assembly Date"
   ]
  },
  {
   "cell_type": "code",
   "execution_count": 146,
   "id": "2aa16577-f0fc-46aa-aa7b-7ca59cc6f7bc",
   "metadata": {},
   "outputs": [
    {
     "name": "stdout",
     "output_type": "stream",
     "text": [
      "Null values in X_train 'Assembly Date': 8414\n",
      "Null values in X_val 'Assembly Date': 2088\n",
      "Null values in df_test 'Assembly Date': 0\n"
     ]
    }
   ],
   "source": [
    "print(f\"Null values in X_train 'Assembly Date': {X_train['Assembly Date'].isna().sum()}\")\n",
    "print(f\"Null values in X_val 'Assembly Date': {X_val['Assembly Date'].isna().sum()}\")\n",
    "print(f\"Null values in df_test 'Assembly Date': {df_test['Assembly Date'].isna().sum()}\")"
   ]
  },
  {
   "cell_type": "markdown",
   "id": "b434967d-cafc-4c51-9c95-39f96ae5fdea",
   "metadata": {},
   "source": [
    "Since there are no missing values in df_test, we decided to drop the rows with missing values in both X_train and X_val. "
   ]
  },
  {
   "cell_type": "code",
   "execution_count": 148,
   "id": "9b372b64-4fcb-48e8-b18b-5d4b38782a4b",
   "metadata": {},
   "outputs": [],
   "source": [
    "X_train = X_train.dropna(subset=['Assembly Date'])\n",
    "X_val = X_val.dropna(subset=['Assembly Date'])\n",
    "\n",
    "y_train = y_train.loc[X_train.index]\n",
    "y_val = y_val.loc[X_val.index]"
   ]
  },
  {
   "cell_type": "code",
   "execution_count": 149,
   "id": "a0fb27e9-b6e6-4af9-a025-eb29814918cd",
   "metadata": {},
   "outputs": [
    {
     "name": "stdout",
     "output_type": "stream",
     "text": [
      "Null values in X_train 'Assembly Date': 0\n",
      "Null values in X_val 'Assembly Date': 0\n",
      "Null values in df_test 'Assembly Date': 0\n"
     ]
    }
   ],
   "source": [
    "print(f\"Null values in X_train 'Assembly Date': {X_train['Assembly Date'].isna().sum()}\")\n",
    "print(f\"Null values in X_val 'Assembly Date': {X_val['Assembly Date'].isna().sum()}\")\n",
    "print(f\"Null values in df_test 'Assembly Date': {df_test['Assembly Date'].isna().sum()}\")"
   ]
  },
  {
   "cell_type": "markdown",
   "id": "222e3635-fa79-4b52-9c3b-1bb0b747fb6e",
   "metadata": {},
   "source": [
    "### C-2 Date"
   ]
  },
  {
   "cell_type": "code",
   "execution_count": 151,
   "id": "f6b0608f-1068-4899-bee2-b32f462db73c",
   "metadata": {},
   "outputs": [
    {
     "name": "stdout",
     "output_type": "stream",
     "text": [
      "Null values in X_train 'C-2 Date': 14084\n",
      "Null values in X_val 'C-2 Date': 3592\n",
      "Null values in df_test 'C-2 Date': 9134\n"
     ]
    }
   ],
   "source": [
    "print(f\"Null values in X_train 'C-2 Date': {X_train['C-2 Date'].isna().sum()}\")\n",
    "print(f\"Null values in X_val 'C-2 Date': {X_val['C-2 Date'].isna().sum()}\")\n",
    "print(f\"Null values in df_test 'C-2 Date': {df_test['C-2 Date'].isna().sum()}\")"
   ]
  },
  {
   "cell_type": "code",
   "execution_count": 152,
   "id": "3c39650d-0508-43ae-b156-639ae574b7e8",
   "metadata": {},
   "outputs": [],
   "source": [
    "def fill_c2_date_with_bfill(X_train, X_val, df_test):\n",
    "\n",
    "    X_train_original_order = X_train.index\n",
    "    X_val_original_order = X_val.index\n",
    "    df_test_original_order = df_test.index\n",
    "\n",
    "    X_train_sorted = X_train.sort_values(by='Accident Date', ascending=True)\n",
    "    X_val_sorted = X_val.sort_values(by='Accident Date', ascending=True)\n",
    "    df_test_sorted = df_test.sort_values(by='Accident Date', ascending=True)\n",
    "    \n",
    "    X_train_sorted['C-2 Date'] = X_train_sorted['C-2 Date'].bfill()\n",
    "    X_val_sorted['C-2 Date'] = X_val_sorted['C-2 Date'].bfill()\n",
    "    df_test_sorted['C-2 Date'] = df_test_sorted['C-2 Date'].bfill()\n",
    "    \n",
    "    X_train_sorted = X_train_sorted.loc[X_train_original_order]\n",
    "    X_val_sorted = X_val_sorted.loc[X_val_original_order]\n",
    "    df_test_sorted = df_test_sorted.loc[df_test_original_order]\n",
    "    \n",
    "    return X_train_sorted, X_val_sorted, df_test_sorted"
   ]
  },
  {
   "cell_type": "code",
   "execution_count": 153,
   "id": "601e84c5-ad2d-4455-bd62-f8d326bd6c3e",
   "metadata": {},
   "outputs": [],
   "source": [
    "X_train, X_val, df_test = fill_c2_date_with_bfill(X_train, X_val, df_test)"
   ]
  },
  {
   "cell_type": "markdown",
   "id": "b9a9c4d8-f23d-4d36-ac15-169d3fd6ed75",
   "metadata": {},
   "source": [
    "Here, we first ordered the data by 'Accident Date' to ensure that the 'C-2 Date' values are imputed in a chronological order. In this way we maintain the temporal relationship between the accident and the corresponding 'C-2 Date', which allows us to use the backfill method more effectively, filling missing values with the next available valid entry in the correct sequence."
   ]
  },
  {
   "cell_type": "code",
   "execution_count": 155,
   "id": "a3546223-fb2d-432d-bcfb-2f7ad57572c9",
   "metadata": {},
   "outputs": [
    {
     "name": "stdout",
     "output_type": "stream",
     "text": [
      "Null values in X_train 'C-2 Date': 0\n",
      "Null values in X_val 'C-2 Date': 0\n",
      "Null values in df_test 'C-2 Date': 0\n"
     ]
    }
   ],
   "source": [
    "print(f\"Null values in X_train 'C-2 Date': {X_train['C-2 Date'].isna().sum()}\")\n",
    "print(f\"Null values in X_val 'C-2 Date': {X_val['C-2 Date'].isna().sum()}\")\n",
    "print(f\"Null values in df_test 'C-2 Date': {df_test['C-2 Date'].isna().sum()}\")"
   ]
  },
  {
   "cell_type": "markdown",
   "id": "1298081a-a62b-493e-8ad2-0e4139c9b765",
   "metadata": {},
   "source": [
    "### C-3 Date"
   ]
  },
  {
   "cell_type": "code",
   "execution_count": 157,
   "id": "20e894dd-4019-4509-aacb-af4cd251b2fa",
   "metadata": {},
   "outputs": [
    {
     "name": "stdout",
     "output_type": "stream",
     "text": [
      "Null values in X_train 'C-3 Date': 304654\n",
      "Null values in X_val 'C-3 Date': 75946\n",
      "Null values in df_test 'C-3 Date': 302759\n"
     ]
    }
   ],
   "source": [
    "print(f\"Null values in X_train 'C-3 Date': {X_train['C-3 Date'].isna().sum()}\")\n",
    "print(f\"Null values in X_val 'C-3 Date': {X_val['C-3 Date'].isna().sum()}\")\n",
    "print(f\"Null values in df_test 'C-3 Date': {df_test['C-3 Date'].isna().sum()}\")"
   ]
  },
  {
   "cell_type": "markdown",
   "id": "b6537637-ee92-4b86-90de-86e3bf923002",
   "metadata": {},
   "source": [
    "We treated the null values in the 'C-3 Date' column as cases where the 'C-3' form was not received. To handle this, we created a new binary variable, 'C-3 Received,' where a value of 0 indicates that the 'C-3 Date' is null (meaning the form was not received), and a value of 1 indicates that the 'C-3 Date' exists (meaning the form was received)."
   ]
  },
  {
   "cell_type": "code",
   "execution_count": 159,
   "id": "ba8bccc2-b17c-4981-8d02-6038e5549315",
   "metadata": {},
   "outputs": [],
   "source": [
    "X_train['C-3 Received'] = X_train['C-3 Date'].apply(lambda x: 0 if pd.isnull(x) else 1)\n",
    "X_train = X_train.drop(columns=['C-3 Date'])"
   ]
  },
  {
   "cell_type": "code",
   "execution_count": 160,
   "id": "8d657272-9c51-4df8-9558-919db1b37f3f",
   "metadata": {},
   "outputs": [],
   "source": [
    "X_val['C-3 Received'] = X_val['C-3 Date'].apply(lambda x: 0 if pd.isnull(x) else 1)\n",
    "X_val = X_val.drop(columns=['C-3 Date'])"
   ]
  },
  {
   "cell_type": "code",
   "execution_count": 161,
   "id": "649d3588-1053-4878-a65c-e5f2b6b817cc",
   "metadata": {},
   "outputs": [],
   "source": [
    "df_test['C-3 Received'] = df_test['C-3 Date'].apply(lambda x: 0 if pd.isnull(x) else 1)\n",
    "df_test = df_test.drop(columns=['C-3 Date'])"
   ]
  },
  {
   "cell_type": "markdown",
   "id": "ceedb6f5-9c87-496c-ad0a-f5f9b580cdbd",
   "metadata": {},
   "source": [
    "### First Hearing Date"
   ]
  },
  {
   "cell_type": "code",
   "execution_count": 163,
   "id": "d4feaf0e-1684-4346-9f28-76c03443ea06",
   "metadata": {},
   "outputs": [
    {
     "name": "stdout",
     "output_type": "stream",
     "text": [
      "Null values in X_train 'First Hearing Date': 334392\n",
      "Null values in X_val 'First Hearing Date': 83531\n",
      "Null values in df_test 'First Hearing Date': 344947\n"
     ]
    }
   ],
   "source": [
    "print(f\"Null values in X_train 'First Hearing Date': {X_train['First Hearing Date'].isna().sum()}\")\n",
    "print(f\"Null values in X_val 'First Hearing Date': {X_val['First Hearing Date'].isna().sum()}\")\n",
    "print(f\"Null values in df_test 'First Hearing Date': {df_test['First Hearing Date'].isna().sum()}\")"
   ]
  },
  {
   "cell_type": "markdown",
   "id": "06c16920-f7ab-4476-b5e6-4e8082c684b7",
   "metadata": {},
   "source": [
    "Similarly, for the 'First Hearing Date' column, we treated the null values as instances where the first hearing had not yet occurred. To address this, we created a binary variable called 'First Hearing Happened.' A value of 0 in this column indicates that the 'First Hearing Date' is null (meaning the hearing has not occurred), and a value of 1 indicates that the date is present (meaning the hearing has taken place). "
   ]
  },
  {
   "cell_type": "code",
   "execution_count": 165,
   "id": "e400ffc1-7fd0-46df-87bb-48ef7e792513",
   "metadata": {},
   "outputs": [],
   "source": [
    "X_train['First Hearing Happened'] = X_train['First Hearing Date'].apply(lambda x: 0 if pd.isnull(x) else 1)\n",
    "X_train = X_train.drop(columns=['First Hearing Date'])"
   ]
  },
  {
   "cell_type": "code",
   "execution_count": 166,
   "id": "53d87efe-727b-447f-9ce8-dc8c5a7e340c",
   "metadata": {},
   "outputs": [],
   "source": [
    "X_val['First Hearing Happened'] = X_val['First Hearing Date'].apply(lambda x: 0 if pd.isnull(x) else 1)\n",
    "X_val = X_val.drop(columns=['First Hearing Date'])"
   ]
  },
  {
   "cell_type": "code",
   "execution_count": 167,
   "id": "3dcb06ea-d4e4-4098-8c49-8cfcb199bb6c",
   "metadata": {},
   "outputs": [],
   "source": [
    "df_test['First Hearing Happened'] = df_test['First Hearing Date'].apply(lambda x: 0 if pd.isnull(x) else 1)\n",
    "df_test = df_test.drop(columns=['First Hearing Date'])"
   ]
  },
  {
   "cell_type": "markdown",
   "id": "2a5bdbfa-4a1a-4873-a621-26bbf1aa50cb",
   "metadata": {},
   "source": [
    "### Attorney/Representative"
   ]
  },
  {
   "cell_type": "code",
   "execution_count": 169,
   "id": "8fecfbf2-3267-4e8d-932c-31bbd0ce03a8",
   "metadata": {},
   "outputs": [
    {
     "data": {
      "text/plain": [
       "Attorney/Representative\n",
       "N    307865\n",
       "Y    142941\n",
       "Name: count, dtype: int64"
      ]
     },
     "execution_count": 169,
     "metadata": {},
     "output_type": "execute_result"
    }
   ],
   "source": [
    "X_train['Attorney/Representative'].value_counts()"
   ]
  },
  {
   "cell_type": "code",
   "execution_count": 170,
   "id": "4db4b08a-6ca8-4313-9671-c1f79dd80521",
   "metadata": {},
   "outputs": [
    {
     "data": {
      "text/plain": [
       "Attorney/Representative\n",
       "N    77044\n",
       "Y    35673\n",
       "Name: count, dtype: int64"
      ]
     },
     "execution_count": 170,
     "metadata": {},
     "output_type": "execute_result"
    }
   ],
   "source": [
    "X_val['Attorney/Representative'].value_counts()"
   ]
  },
  {
   "cell_type": "code",
   "execution_count": 171,
   "id": "06b44a80-f30a-4043-93ce-cc0897e6e060",
   "metadata": {},
   "outputs": [
    {
     "data": {
      "text/plain": [
       "Attorney/Representative\n",
       "N    306476\n",
       "Y     81499\n",
       "Name: count, dtype: int64"
      ]
     },
     "execution_count": 171,
     "metadata": {},
     "output_type": "execute_result"
    }
   ],
   "source": [
    "df_test['Attorney/Representative'].value_counts()"
   ]
  },
  {
   "cell_type": "markdown",
   "id": "a9af5ef3-98f6-4a91-85d5-36568f170e97",
   "metadata": {},
   "source": [
    "Everything looks fine!"
   ]
  },
  {
   "cell_type": "markdown",
   "id": "4c2e8579-d02a-4237-9bc5-d53d274b9470",
   "metadata": {},
   "source": [
    "### Carrier Type"
   ]
  },
  {
   "cell_type": "code",
   "execution_count": 174,
   "id": "307815b7-437d-4fe9-b7e6-b21dccfe28b2",
   "metadata": {},
   "outputs": [
    {
     "name": "stdout",
     "output_type": "stream",
     "text": [
      "Missing values in X_train: 0\n",
      "Missing values in X_val: 0\n",
      "Missing values in df_test: 0\n"
     ]
    }
   ],
   "source": [
    "print(f\"Missing values in X_train: {X_train['Carrier Type'].isnull().sum()}\")\n",
    "print(f\"Missing values in X_val: {X_val['Carrier Type'].isnull().sum()}\")\n",
    "print(f\"Missing values in df_test: {df_test['Carrier Type'].isnull().sum()}\")"
   ]
  },
  {
   "cell_type": "markdown",
   "id": "d08a4a08-157c-4780-adca-7befc20a0a52",
   "metadata": {},
   "source": [
    "### Carrier Name"
   ]
  },
  {
   "cell_type": "code",
   "execution_count": 176,
   "id": "f340e617-dec2-4761-aae9-8966fe3cdedf",
   "metadata": {},
   "outputs": [
    {
     "name": "stdout",
     "output_type": "stream",
     "text": [
      "Missing values in X_train: 0\n",
      "Missing values in X_val: 0\n",
      "Missing values in df_test: 0\n"
     ]
    }
   ],
   "source": [
    "print(f\"Missing values in X_train: {X_train['Carrier Name'].isnull().sum()}\")\n",
    "print(f\"Missing values in X_val: {X_val['Carrier Name'].isnull().sum()}\")\n",
    "print(f\"Missing values in df_test: {df_test['Carrier Name'].isnull().sum()}\")"
   ]
  },
  {
   "cell_type": "markdown",
   "id": "3559ae46-c25d-4bfd-8c2d-ed940cff2c1e",
   "metadata": {},
   "source": [
    "### Industry Code"
   ]
  },
  {
   "cell_type": "code",
   "execution_count": 178,
   "id": "743b859e-2fd0-4b17-a863-7cf69617f965",
   "metadata": {},
   "outputs": [
    {
     "name": "stdout",
     "output_type": "stream",
     "text": [
      "Missing values in X_train: 7848\n",
      "Missing values in X_val: 1957\n",
      "Missing values in df_test: 7736\n"
     ]
    }
   ],
   "source": [
    "print(f\"Missing values in X_train: {X_train['Industry Code'].isnull().sum()}\")\n",
    "print(f\"Missing values in X_val: {X_val['Industry Code'].isnull().sum()}\")\n",
    "print(f\"Missing values in df_test: {df_test['Industry Code'].isnull().sum()}\")"
   ]
  },
  {
   "cell_type": "code",
   "execution_count": 179,
   "id": "c1b9024c-1f58-430d-ac12-012fc67b5cc3",
   "metadata": {},
   "outputs": [],
   "source": [
    "def impute_industry_code(X_train, X_val, df_test):\n",
    "\n",
    "    industry_code_mode = X_train.groupby('Carrier Type')['Industry Code'].agg(\n",
    "        lambda x: x.mode()[0] if not x.mode().empty else np.nan\n",
    "    )\n",
    "\n",
    "    def fill_industry_code(row):\n",
    "        if pd.notnull(row['Industry Code']):\n",
    "            return row['Industry Code']\n",
    "        elif pd.notnull(row['Carrier Type']):\n",
    "            return industry_code_mode.get(row['Carrier Type'], row['Industry Code'])\n",
    "        else:\n",
    "            return row['Industry Code']\n",
    "\n",
    "    X_train['Industry Code'] = X_train.apply(fill_industry_code, axis=1)\n",
    "    X_val['Industry Code'] = X_val.apply(fill_industry_code, axis=1)\n",
    "    df_test['Industry Code'] = df_test.apply(fill_industry_code, axis=1)\n",
    "\n",
    "    return X_train, X_val, df_test"
   ]
  },
  {
   "cell_type": "code",
   "execution_count": 180,
   "id": "f88249ea-e192-49f5-a744-0ec82e6306d0",
   "metadata": {},
   "outputs": [],
   "source": [
    "X_train, X_val, df_test = impute_industry_code(X_train, X_val, df_test)"
   ]
  },
  {
   "cell_type": "markdown",
   "id": "5370dbe1-3ce0-427f-9520-1b607c287a94",
   "metadata": {},
   "source": [
    "We imputed missing values in the 'Industry Code' column based on the most frequent 'Industry Code' for each 'Carrier Type' in the training data. For each row, if the 'Industry Code' is missing and the 'Carrier Type' is available, we replaced the missing value with the most common 'Industry Code' associated with that 'Carrier Type'. If both values were missing, the 'Industry Code' was left as NaN."
   ]
  },
  {
   "cell_type": "code",
   "execution_count": 182,
   "id": "299b3a6b-1a5c-4a76-a987-99e7dbc509ec",
   "metadata": {},
   "outputs": [
    {
     "name": "stdout",
     "output_type": "stream",
     "text": [
      "Missing values in X_train: 0\n",
      "Missing values in X_val: 0\n",
      "Missing values in df_test: 0\n"
     ]
    }
   ],
   "source": [
    "print(f\"Missing values in X_train: {X_train['Carrier Type'].isnull().sum()}\")\n",
    "print(f\"Missing values in X_val: {X_val['Carrier Type'].isnull().sum()}\")\n",
    "print(f\"Missing values in df_test: {df_test['Carrier Type'].isnull().sum()}\")"
   ]
  },
  {
   "cell_type": "markdown",
   "id": "acb6a671-81b6-4aff-86d2-219a8c1a14db",
   "metadata": {},
   "source": [
    "### Average Weekly Wage"
   ]
  },
  {
   "cell_type": "code",
   "execution_count": 184,
   "id": "01a849ce-0882-47c8-92f3-cdcd20a7e0fb",
   "metadata": {},
   "outputs": [
    {
     "name": "stdout",
     "output_type": "stream",
     "text": [
      "Missing values in X_train: 298459\n",
      "Missing values in X_val: 74758\n",
      "Missing values in df_test: 340084\n"
     ]
    }
   ],
   "source": [
    "print(f\"Missing values in X_train: {X_train['Average Weekly Wage'].isnull().sum()}\")\n",
    "print(f\"Missing values in X_val: {X_val['Average Weekly Wage'].isnull().sum()}\")\n",
    "print(f\"Missing values in df_test: {df_test['Average Weekly Wage'].isnull().sum()}\")"
   ]
  },
  {
   "cell_type": "code",
   "execution_count": 185,
   "id": "4d1ff190-d39d-43ec-83a0-64ce0f052dfa",
   "metadata": {},
   "outputs": [],
   "source": [
    "def impute_aww(X_train, X_val, df_test):\n",
    "\n",
    "    X_train_no_nulls = X_train[X_train['Average Weekly Wage'].notnull()]\n",
    "    \n",
    "\n",
    "    wage_mean = X_train_no_nulls.groupby(['Industry Code', 'Carrier Type'])['Average Weekly Wage'].mean()\n",
    "    wage_mean_industry = X_train_no_nulls.groupby('Industry Code')['Average Weekly Wage'].mean()\n",
    "    wage_mean_carrier = X_train_no_nulls.groupby('Carrier Type')['Average Weekly Wage'].mean()\n",
    "    overall_mean = X_train_no_nulls['Average Weekly Wage'].mean()\n",
    "\n",
    "\n",
    "    def fill_wage(row):\n",
    "        if pd.notnull(row['Average Weekly Wage']):\n",
    "            return row['Average Weekly Wage']\n",
    "        if pd.notnull(row['Industry Code']) and pd.notnull(row['Carrier Type']):\n",
    "            return wage_mean.get((row['Industry Code'], row['Carrier Type']), overall_mean)\n",
    "        elif pd.notnull(row['Industry Code']):\n",
    "            return wage_mean_industry.get(row['Industry Code'], overall_mean)\n",
    "        elif pd.notnull(row['Carrier Type']):\n",
    "            return wage_mean_carrier.get(row['Carrier Type'], overall_mean)\n",
    "        else:\n",
    "            return overall_mean\n",
    "\n",
    "\n",
    "    X_train['Average Weekly Wage'] = X_train.apply(fill_wage, axis=1)\n",
    "    X_val['Average Weekly Wage'] = X_val.apply(fill_wage, axis=1)\n",
    "    df_test['Average Weekly Wage'] = df_test.apply(fill_wage, axis=1)\n",
    "\n",
    "    return X_train, X_val, df_test"
   ]
  },
  {
   "cell_type": "code",
   "execution_count": 186,
   "id": "c192b42d-923d-45f3-8421-daa49d296e4b",
   "metadata": {},
   "outputs": [],
   "source": [
    "X_train, X_val, df_test = impute_aww(X_train, X_val, df_test)"
   ]
  },
  {
   "cell_type": "markdown",
   "id": "b26f341b-6501-4c4c-aa1b-90cface8dff1",
   "metadata": {},
   "source": [
    "First, we calculated the mean 'Average Weekly Wage' for combinations of 'Industry Code' and 'Carrier Type', as well as separately for each 'Industry Code' and 'Carrier Type'. If both 'Industry Code' and 'Carrier Type' were available, we used their combined mean. If only one of these variables was present, we used the corresponding mean for that variable. If neither was available, we used the overall mean 'Average Weekly Wage' from the entire dataset."
   ]
  },
  {
   "cell_type": "code",
   "execution_count": 188,
   "id": "0d4f36f4-6c76-4476-97f6-b7a2a8aed47a",
   "metadata": {},
   "outputs": [
    {
     "name": "stdout",
     "output_type": "stream",
     "text": [
      "Null values in X_train 'Average Weekly Wage': 0\n",
      "Null values in X_val 'Average Weekly Wage': 0\n",
      "Null values in df_test 'Average Weekly Wage': 0\n"
     ]
    }
   ],
   "source": [
    "print(f\"Null values in X_train 'Average Weekly Wage': {X_train['Average Weekly Wage'].isna().sum()}\")\n",
    "print(f\"Null values in X_val 'Average Weekly Wage': {X_val['Average Weekly Wage'].isna().sum()}\")\n",
    "print(f\"Null values in df_test 'Average Weekly Wage': {df_test['Average Weekly Wage'].isna().sum()}\")"
   ]
  },
  {
   "cell_type": "markdown",
   "id": "f4cced79-4c44-4fc9-bb69-20b434a72564",
   "metadata": {},
   "source": [
    "### Birth Year"
   ]
  },
  {
   "cell_type": "code",
   "execution_count": 190,
   "id": "bf014e8c-88cb-4498-b614-45b6da719114",
   "metadata": {},
   "outputs": [
    {
     "name": "stdout",
     "output_type": "stream",
     "text": [
      "Null values in X_train 'Birth Year': 43033\n",
      "Null values in X_val 'Birth Year': 10741\n",
      "Null values in df_test 'Birth Year': 39730\n"
     ]
    }
   ],
   "source": [
    "print(f\"Null values in X_train 'Birth Year': {X_train['Birth Year'].isna().sum()}\")\n",
    "print(f\"Null values in X_val 'Birth Year': {X_val['Birth Year'].isna().sum()}\")\n",
    "print(f\"Null values in df_test 'Birth Year': {df_test['Birth Year'].isna().sum()}\")"
   ]
  },
  {
   "cell_type": "code",
   "execution_count": 191,
   "id": "cefb0a18-5a9c-4447-970e-2ce4ab9477ce",
   "metadata": {},
   "outputs": [],
   "source": [
    "def impute_birth_year(X_train, X_val, df_test):\n",
    "    def calculate_birth_year(row):\n",
    "        if pd.notnull(row['Birth Year']):\n",
    "            return row['Birth Year']\n",
    "        if pd.notnull(row['Accident Date']) and pd.notnull(row['Age at Injury']):\n",
    "            accident_year = row['Accident Date'].year  # Extract the year from the datetime\n",
    "            return accident_year - row['Age at Injury']\n",
    "        return row['Birth Year']\n",
    "    \n",
    "    X_train['Birth Year'] = X_train.apply(calculate_birth_year, axis=1)\n",
    "    X_val['Birth Year'] = X_val.apply(calculate_birth_year, axis=1)\n",
    "    df_test['Birth Year'] = df_test.apply(calculate_birth_year, axis=1)\n",
    "\n",
    "    return X_train, X_val, df_test"
   ]
  },
  {
   "cell_type": "code",
   "execution_count": 192,
   "id": "e396c9ec-4e07-42b0-b324-f3a4461d1a25",
   "metadata": {},
   "outputs": [],
   "source": [
    "X_train, X_val, df_test = impute_birth_year(X_train, X_val, df_test)"
   ]
  },
  {
   "cell_type": "markdown",
   "id": "ceebd84b-61ca-4382-9d63-26c07fe1c2de",
   "metadata": {},
   "source": [
    "We imputed missing values in the 'Birth Year' column by calculating it based on the 'Age at Injury' and 'Accident Date'. "
   ]
  },
  {
   "cell_type": "code",
   "execution_count": 194,
   "id": "fc2b1f3f-03aa-498f-835a-309067e39642",
   "metadata": {},
   "outputs": [
    {
     "name": "stdout",
     "output_type": "stream",
     "text": [
      "Null values in X_train 'Birth Year': 0\n",
      "Null values in X_val 'Birth Year': 0\n",
      "Null values in df_test 'Birth Year': 0\n"
     ]
    }
   ],
   "source": [
    "print(f\"Null values in X_train 'Birth Year': {X_train['Birth Year'].isna().sum()}\")\n",
    "print(f\"Null values in X_val 'Birth Year': {X_val['Birth Year'].isna().sum()}\")\n",
    "print(f\"Null values in df_test 'Birth Year': {df_test['Birth Year'].isna().sum()}\")"
   ]
  },
  {
   "cell_type": "markdown",
   "id": "2e48bf79-dd7f-4b21-bc42-c70cae6d88f7",
   "metadata": {},
   "source": [
    "### County of Injury"
   ]
  },
  {
   "cell_type": "code",
   "execution_count": 196,
   "id": "22458de7-fc19-4243-a96e-f3eb61be2232",
   "metadata": {},
   "outputs": [
    {
     "name": "stdout",
     "output_type": "stream",
     "text": [
      "Null values in X_train 'County of Injury': 0\n",
      "Null values in X_val 'County of Injury': 0\n",
      "Null values in df_test 'County of Injury': 0\n"
     ]
    }
   ],
   "source": [
    "print(f\"Null values in X_train 'County of Injury': {X_train['County of Injury'].isna().sum()}\")\n",
    "print(f\"Null values in X_val 'County of Injury': {X_val['County of Injury'].isna().sum()}\")\n",
    "print(f\"Null values in df_test 'County of Injury': {df_test['County of Injury'].isna().sum()}\")"
   ]
  },
  {
   "cell_type": "markdown",
   "id": "a2a7030b-b80a-40a5-8b56-8d5d195907fd",
   "metadata": {},
   "source": [
    "### COVID-19 Indicator"
   ]
  },
  {
   "cell_type": "code",
   "execution_count": 198,
   "id": "e88a1158-b862-4d15-9c21-e6d2ec428703",
   "metadata": {},
   "outputs": [
    {
     "name": "stdout",
     "output_type": "stream",
     "text": [
      "Null values in X_train 'COVID-19 Indicator': 0\n",
      "Null values in X_val 'COVID-19 Indicator': 0\n",
      "Null values in df_test 'COVID-19 Indicator': 0\n"
     ]
    }
   ],
   "source": [
    "print(f\"Null values in X_train 'COVID-19 Indicator': {X_train['COVID-19 Indicator'].isna().sum()}\")\n",
    "print(f\"Null values in X_val 'COVID-19 Indicator': {X_val['COVID-19 Indicator'].isna().sum()}\")\n",
    "print(f\"Null values in df_test 'COVID-19 Indicator': {df_test['COVID-19 Indicator'].isna().sum()}\")"
   ]
  },
  {
   "cell_type": "code",
   "execution_count": 199,
   "id": "7b43d0c8-61ab-4898-ba4b-0fd956fbe712",
   "metadata": {},
   "outputs": [
    {
     "data": {
      "text/plain": [
       "COVID-19 Indicator\n",
       "N    428836\n",
       "Y     21970\n",
       "Name: count, dtype: int64"
      ]
     },
     "execution_count": 199,
     "metadata": {},
     "output_type": "execute_result"
    }
   ],
   "source": [
    "X_train['COVID-19 Indicator'].value_counts()"
   ]
  },
  {
   "cell_type": "code",
   "execution_count": 200,
   "id": "a35735b8-43b9-4756-b702-211442832d33",
   "metadata": {},
   "outputs": [
    {
     "data": {
      "text/plain": [
       "COVID-19 Indicator\n",
       "N    107326\n",
       "Y      5391\n",
       "Name: count, dtype: int64"
      ]
     },
     "execution_count": 200,
     "metadata": {},
     "output_type": "execute_result"
    }
   ],
   "source": [
    "X_val['COVID-19 Indicator'].value_counts()"
   ]
  },
  {
   "cell_type": "code",
   "execution_count": 201,
   "id": "a1a95847-82e1-4108-8871-923f51060706",
   "metadata": {},
   "outputs": [
    {
     "data": {
      "text/plain": [
       "COVID-19 Indicator\n",
       "N    385434\n",
       "Y      2541\n",
       "Name: count, dtype: int64"
      ]
     },
     "execution_count": 201,
     "metadata": {},
     "output_type": "execute_result"
    }
   ],
   "source": [
    "df_test['COVID-19 Indicator'].value_counts()"
   ]
  },
  {
   "cell_type": "markdown",
   "id": "20c945c4-ba90-4ba1-b7d5-bb16439fdd2d",
   "metadata": {},
   "source": [
    "### District Name"
   ]
  },
  {
   "cell_type": "code",
   "execution_count": 203,
   "id": "1f3f979c-051c-40bf-ac19-1f80a6f235c5",
   "metadata": {},
   "outputs": [
    {
     "name": "stdout",
     "output_type": "stream",
     "text": [
      "Null values in X_train 'District Name': 0\n",
      "Null values in X_val 'District Name': 0\n",
      "Null values in df_test 'District Name': 0\n"
     ]
    }
   ],
   "source": [
    "print(f\"Null values in X_train 'District Name': {X_train['District Name'].isna().sum()}\")\n",
    "print(f\"Null values in X_val 'District Name': {X_val['District Name'].isna().sum()}\")\n",
    "print(f\"Null values in df_test 'District Name': {df_test['District Name'].isna().sum()}\")"
   ]
  },
  {
   "cell_type": "code",
   "execution_count": 204,
   "id": "b3a0c60f-f759-4a9b-947e-b2514dd24b8b",
   "metadata": {},
   "outputs": [
    {
     "data": {
      "text/plain": [
       "District Name\n",
       "NYC           212657\n",
       "ALBANY         67493\n",
       "HAUPPAUGE      47749\n",
       "BUFFALO        35819\n",
       "SYRACUSE       35146\n",
       "ROCHESTER      31679\n",
       "BINGHAMTON     17128\n",
       "STATEWIDE       3135\n",
       "Name: count, dtype: int64"
      ]
     },
     "execution_count": 204,
     "metadata": {},
     "output_type": "execute_result"
    }
   ],
   "source": [
    "X_train['District Name'].value_counts()"
   ]
  },
  {
   "cell_type": "code",
   "execution_count": 205,
   "id": "513a699b-69ac-4700-b2c4-8f71c58c97a5",
   "metadata": {},
   "outputs": [
    {
     "data": {
      "text/plain": [
       "District Name\n",
       "NYC           52980\n",
       "ALBANY        17108\n",
       "HAUPPAUGE     11795\n",
       "BUFFALO        8942\n",
       "SYRACUSE       8684\n",
       "ROCHESTER      8088\n",
       "BINGHAMTON     4347\n",
       "STATEWIDE       773\n",
       "Name: count, dtype: int64"
      ]
     },
     "execution_count": 205,
     "metadata": {},
     "output_type": "execute_result"
    }
   ],
   "source": [
    "X_val['District Name'].value_counts()"
   ]
  },
  {
   "cell_type": "code",
   "execution_count": 206,
   "id": "5bc94a22-3b64-4f55-a398-5373d39175ab",
   "metadata": {},
   "outputs": [
    {
     "data": {
      "text/plain": [
       "District Name\n",
       "NYC           187972\n",
       "ALBANY         56500\n",
       "HAUPPAUGE      36656\n",
       "BUFFALO        31481\n",
       "SYRACUSE       29537\n",
       "ROCHESTER      28073\n",
       "BINGHAMTON     15382\n",
       "STATEWIDE       2374\n",
       "Name: count, dtype: int64"
      ]
     },
     "execution_count": 206,
     "metadata": {},
     "output_type": "execute_result"
    }
   ],
   "source": [
    "df_test['District Name'].value_counts()"
   ]
  },
  {
   "cell_type": "markdown",
   "id": "f2b6cd5d-d061-4857-ab6d-a3ddb3b29745",
   "metadata": {},
   "source": [
    "### Gender"
   ]
  },
  {
   "cell_type": "code",
   "execution_count": 208,
   "id": "2e232841-7d6d-4639-8780-1ae987500e95",
   "metadata": {},
   "outputs": [
    {
     "name": "stdout",
     "output_type": "stream",
     "text": [
      "Null values in X_train 'Gender': 0\n",
      "Null values in X_val 'Gender': 0\n",
      "Null values in df_test 'Gender': 0\n"
     ]
    }
   ],
   "source": [
    "print(f\"Null values in X_train 'Gender': {X_train['Gender'].isna().sum()}\")\n",
    "print(f\"Null values in X_val 'Gender': {X_val['Gender'].isna().sum()}\")\n",
    "print(f\"Null values in df_test 'Gender': {df_test['Gender'].isna().sum()}\")"
   ]
  },
  {
   "cell_type": "code",
   "execution_count": 209,
   "id": "29b9f6c2-c082-4acf-9e54-905cadcc2a14",
   "metadata": {},
   "outputs": [
    {
     "data": {
      "text/plain": [
       "Gender\n",
       "M    263471\n",
       "F    183641\n",
       "U      3662\n",
       "X        32\n",
       "Name: count, dtype: int64"
      ]
     },
     "execution_count": 209,
     "metadata": {},
     "output_type": "execute_result"
    }
   ],
   "source": [
    "X_train['Gender'].value_counts()"
   ]
  },
  {
   "cell_type": "code",
   "execution_count": 210,
   "id": "0ce1247a-2be1-4597-a4ca-ed910321e8c3",
   "metadata": {},
   "outputs": [
    {
     "data": {
      "text/plain": [
       "Gender\n",
       "M    65781\n",
       "F    45975\n",
       "U      951\n",
       "X       10\n",
       "Name: count, dtype: int64"
      ]
     },
     "execution_count": 210,
     "metadata": {},
     "output_type": "execute_result"
    }
   ],
   "source": [
    "X_val['Gender'].value_counts()"
   ]
  },
  {
   "cell_type": "code",
   "execution_count": 211,
   "id": "4f88d466-18c8-46a0-8c48-faa4228bd2cc",
   "metadata": {},
   "outputs": [
    {
     "data": {
      "text/plain": [
       "Gender\n",
       "M    215343\n",
       "F    167019\n",
       "U      5340\n",
       "X       273\n",
       "Name: count, dtype: int64"
      ]
     },
     "execution_count": 211,
     "metadata": {},
     "output_type": "execute_result"
    }
   ],
   "source": [
    "df_test['Gender'].value_counts()"
   ]
  },
  {
   "cell_type": "markdown",
   "id": "e45a9fa4-c44d-4259-8035-a3d9437cd123",
   "metadata": {},
   "source": [
    "### IME-4 Count"
   ]
  },
  {
   "cell_type": "code",
   "execution_count": 213,
   "id": "9f4c8bf0-de36-4abf-a69e-131745b4f5cb",
   "metadata": {},
   "outputs": [
    {
     "name": "stdout",
     "output_type": "stream",
     "text": [
      "Null values in X_train 'IME-4 Count': 349396\n",
      "Null values in X_val 'IME-4 Count': 87294\n",
      "Null values in df_test 'IME-4 Count': 352793\n"
     ]
    }
   ],
   "source": [
    "print(f\"Null values in X_train 'IME-4 Count': {X_train['IME-4 Count'].isna().sum()}\")\n",
    "print(f\"Null values in X_val 'IME-4 Count': {X_val['IME-4 Count'].isna().sum()}\")\n",
    "print(f\"Null values in df_test 'IME-4 Count': {df_test['IME-4 Count'].isna().sum()}\")"
   ]
  },
  {
   "cell_type": "code",
   "execution_count": 214,
   "id": "1cd45ad3-099a-4925-9ed5-f2b32a4e85bf",
   "metadata": {},
   "outputs": [
    {
     "data": {
      "text/plain": [
       "IME-4 Count\n",
       "1.0     31623\n",
       "2.0     27108\n",
       "3.0     12661\n",
       "4.0     10767\n",
       "5.0      6002\n",
       "6.0      5051\n",
       "7.0      3021\n",
       "8.0      2512\n",
       "9.0      1517\n",
       "10.0     1148\n",
       "Name: count, dtype: int64"
      ]
     },
     "execution_count": 214,
     "metadata": {},
     "output_type": "execute_result"
    }
   ],
   "source": [
    "X_train['IME-4 Count'].value_counts()"
   ]
  },
  {
   "cell_type": "code",
   "execution_count": 215,
   "id": "1d03a69c-d29d-41ee-b7bf-b791c85acf26",
   "metadata": {},
   "outputs": [
    {
     "data": {
      "text/plain": [
       "IME-4 Count\n",
       "1.0     7807\n",
       "2.0     6781\n",
       "3.0     3219\n",
       "4.0     2761\n",
       "5.0     1566\n",
       "6.0     1274\n",
       "7.0      756\n",
       "8.0      597\n",
       "9.0      379\n",
       "10.0     283\n",
       "Name: count, dtype: int64"
      ]
     },
     "execution_count": 215,
     "metadata": {},
     "output_type": "execute_result"
    }
   ],
   "source": [
    "X_val['IME-4 Count'].value_counts()"
   ]
  },
  {
   "cell_type": "code",
   "execution_count": 216,
   "id": "f57f6ede-ecde-46e6-9cd7-27fcbf9d6bac",
   "metadata": {},
   "outputs": [
    {
     "data": {
      "text/plain": [
       "IME-4 Count\n",
       "1.0     14410\n",
       "2.0     12451\n",
       "3.0      3269\n",
       "4.0      2917\n",
       "5.0       801\n",
       "6.0       782\n",
       "7.0       249\n",
       "8.0       185\n",
       "9.0        67\n",
       "10.0       51\n",
       "Name: count, dtype: int64"
      ]
     },
     "execution_count": 216,
     "metadata": {},
     "output_type": "execute_result"
    }
   ],
   "source": [
    "df_test['IME-4 Count'].value_counts()"
   ]
  },
  {
   "cell_type": "markdown",
   "id": "2c1c31b2-2883-4305-91bd-182f174d008a",
   "metadata": {},
   "source": [
    "The Count variable for IME-4 represents the number of IME-4 forms received for every claim. The IME-4 means an Independent Examiner's Report of Independent Medical Examination. Because the count of IME-4 forms has no zeros and there is a distribution value starting with 1, we suspect that the missing values likely correspond to people who did not visit a doctor for an examination and, therefore, should be regarded as having a count of 0 for the IME-4 forms. "
   ]
  },
  {
   "cell_type": "code",
   "execution_count": 218,
   "id": "68577996-abec-4acb-b26f-7015ec73c352",
   "metadata": {},
   "outputs": [],
   "source": [
    "X_train['IME-4 Count'] = X_train['IME-4 Count'].apply(lambda x: 0 if pd.isna(x) else x)\n",
    "X_val['IME-4 Count'] = X_val['IME-4 Count'].apply(lambda x: 0 if pd.isna(x) else x)\n",
    "df_test['IME-4 Count'] = df_test['IME-4 Count'].apply(lambda x: 0 if pd.isna(x) else x)"
   ]
  },
  {
   "cell_type": "code",
   "execution_count": 219,
   "id": "5f9db506-48a2-4fd0-9704-009ec56db985",
   "metadata": {},
   "outputs": [
    {
     "name": "stdout",
     "output_type": "stream",
     "text": [
      "Null values in X_train 'IME-4 Count': 0\n",
      "Null values in X_val 'IME-4 Count': 0\n",
      "Null values in df_test 'IME-4 Count': 0\n"
     ]
    }
   ],
   "source": [
    "print(f\"Null values in X_train 'IME-4 Count': {X_train['IME-4 Count'].isna().sum()}\")\n",
    "print(f\"Null values in X_val 'IME-4 Count': {X_val['IME-4 Count'].isna().sum()}\")\n",
    "print(f\"Null values in df_test 'IME-4 Count': {df_test['IME-4 Count'].isna().sum()}\")"
   ]
  },
  {
   "cell_type": "markdown",
   "id": "912b52b6-bb5e-400d-b9ba-f4ca3b403c74",
   "metadata": {},
   "source": [
    "### Medical Fee Region"
   ]
  },
  {
   "cell_type": "code",
   "execution_count": 221,
   "id": "ad639eac-a041-4e04-bd3c-03619f2e9d3d",
   "metadata": {},
   "outputs": [
    {
     "name": "stdout",
     "output_type": "stream",
     "text": [
      "Null values in X_train 'Medical Fee Region': 0\n",
      "Null values in X_val 'Medical Fee Region': 0\n",
      "Null values in df_test 'Medical Fee Region': 0\n"
     ]
    }
   ],
   "source": [
    "print(f\"Null values in X_train 'Medical Fee Region': {X_train['Medical Fee Region'].isna().sum()}\")\n",
    "print(f\"Null values in X_val 'Medical Fee Region': {X_val['Medical Fee Region'].isna().sum()}\")\n",
    "print(f\"Null values in df_test 'Medical Fee Region': {df_test['Medical Fee Region'].isna().sum()}\")"
   ]
  },
  {
   "cell_type": "code",
   "execution_count": 222,
   "id": "dc878ec7-344a-4296-a97a-68a7b78ccad3",
   "metadata": {},
   "outputs": [
    {
     "data": {
      "text/plain": [
       "Medical Fee Region\n",
       "IV     208786\n",
       "I      106543\n",
       "II      66752\n",
       "III     42307\n",
       "UK      26418\n",
       "Name: count, dtype: int64"
      ]
     },
     "execution_count": 222,
     "metadata": {},
     "output_type": "execute_result"
    }
   ],
   "source": [
    "X_train['Medical Fee Region'].value_counts()"
   ]
  },
  {
   "cell_type": "code",
   "execution_count": 223,
   "id": "ae685196-da7b-4ca7-9fae-df4c1da4c2f1",
   "metadata": {},
   "outputs": [
    {
     "data": {
      "text/plain": [
       "Medical Fee Region\n",
       "IV     52182\n",
       "I      26885\n",
       "II     16747\n",
       "III    10429\n",
       "UK      6474\n",
       "Name: count, dtype: int64"
      ]
     },
     "execution_count": 223,
     "metadata": {},
     "output_type": "execute_result"
    }
   ],
   "source": [
    "X_val['Medical Fee Region'].value_counts()"
   ]
  },
  {
   "cell_type": "code",
   "execution_count": 224,
   "id": "7b55038c-4dea-43ab-8ee8-1a7c57a4566d",
   "metadata": {},
   "outputs": [
    {
     "data": {
      "text/plain": [
       "Medical Fee Region\n",
       "IV     182276\n",
       "I       91300\n",
       "II      58743\n",
       "III     34679\n",
       "UK      20977\n",
       "Name: count, dtype: int64"
      ]
     },
     "execution_count": 224,
     "metadata": {},
     "output_type": "execute_result"
    }
   ],
   "source": [
    "df_test['Medical Fee Region'].value_counts()"
   ]
  },
  {
   "cell_type": "markdown",
   "id": "b4f7e67f-ff7b-4248-b593-64e9fcffeb7e",
   "metadata": {},
   "source": [
    "There are no missing values, but there are some 'UK' values. We will fill the 'UK' values in the 'Medical Fee Region' based on the most common Medical Fee Region for each County of Injury, as these variables are intuitively related."
   ]
  },
  {
   "cell_type": "code",
   "execution_count": 226,
   "id": "869890df-9ef2-4eff-b222-94e5fcf360c1",
   "metadata": {},
   "outputs": [],
   "source": [
    "def impute_medical_fee_region(X_train, X_val, df_test):\n",
    "\n",
    "    X_train_without_UK = X_train[X_train['Medical Fee Region'] != 'UK']\n",
    "    most_common_fee_region = X_train_without_UK.groupby('County of Injury')['Medical Fee Region'].agg(lambda x: x.mode()[0])\n",
    "\n",
    "    def fill_fee_region(row):\n",
    "        if row['Medical Fee Region'] == 'UK' and pd.notnull(row['County of Injury']):\n",
    "            return most_common_fee_region.get(row['County of Injury'], row['Medical Fee Region'])\n",
    "        return row['Medical Fee Region']\n",
    "    \n",
    "    X_train['Medical Fee Region'] = X_train.apply(fill_fee_region, axis=1)\n",
    "    X_val['Medical Fee Region'] = X_val.apply(fill_fee_region, axis=1)\n",
    "    df_test['Medical Fee Region'] = df_test.apply(fill_fee_region, axis=1)\n",
    "\n",
    "    return X_train, X_val, df_test"
   ]
  },
  {
   "cell_type": "code",
   "execution_count": 227,
   "id": "5700d528-c96b-4cc2-93e0-bc29b66f057d",
   "metadata": {},
   "outputs": [],
   "source": [
    "X_train, X_val, df_test = impute_medical_fee_region(X_train, X_val, df_test)"
   ]
  },
  {
   "cell_type": "code",
   "execution_count": 228,
   "id": "c2db59ea-196b-4e2a-9d4c-76abe678a79d",
   "metadata": {},
   "outputs": [
    {
     "data": {
      "text/plain": [
       "Medical Fee Region\n",
       "IV     227357\n",
       "I      109019\n",
       "II      68695\n",
       "III     45735\n",
       "Name: count, dtype: int64"
      ]
     },
     "execution_count": 228,
     "metadata": {},
     "output_type": "execute_result"
    }
   ],
   "source": [
    "X_train['Medical Fee Region'].value_counts()"
   ]
  },
  {
   "cell_type": "code",
   "execution_count": 229,
   "id": "65c0d3b9-19c8-4e4f-ace4-5a06cab345af",
   "metadata": {},
   "outputs": [
    {
     "data": {
      "text/plain": [
       "Medical Fee Region\n",
       "IV     56713\n",
       "I      27461\n",
       "II     17253\n",
       "III    11290\n",
       "Name: count, dtype: int64"
      ]
     },
     "execution_count": 229,
     "metadata": {},
     "output_type": "execute_result"
    }
   ],
   "source": [
    "X_val['Medical Fee Region'].value_counts()"
   ]
  },
  {
   "cell_type": "code",
   "execution_count": 230,
   "id": "77c8810c-e446-4284-b14e-1d13d4a4472a",
   "metadata": {},
   "outputs": [
    {
     "data": {
      "text/plain": [
       "Medical Fee Region\n",
       "IV     197754\n",
       "I       92972\n",
       "II      59964\n",
       "III     37285\n",
       "Name: count, dtype: int64"
      ]
     },
     "execution_count": 230,
     "metadata": {},
     "output_type": "execute_result"
    }
   ],
   "source": [
    "df_test['Medical Fee Region'].value_counts()"
   ]
  },
  {
   "cell_type": "markdown",
   "id": "9c3f3e4b-7919-4592-8519-34b68f05971d",
   "metadata": {},
   "source": [
    "### OIICS Nature of Injury Description"
   ]
  },
  {
   "cell_type": "code",
   "execution_count": 232,
   "id": "2d995cf7-6fe0-4a27-b513-977e111692bd",
   "metadata": {},
   "outputs": [
    {
     "name": "stdout",
     "output_type": "stream",
     "text": [
      "Null values in X_train 'OIICS Nature of Injury Description': 450806\n",
      "Null values in X_val 'OIICS Nature of Injury Description': 112717\n",
      "Null values in df_test 'OIICS Nature of Injury Description': 387975\n"
     ]
    }
   ],
   "source": [
    "print(f\"Null values in X_train 'OIICS Nature of Injury Description': {X_train['OIICS Nature of Injury Description'].isna().sum()}\")\n",
    "print(f\"Null values in X_val 'OIICS Nature of Injury Description': {X_val['OIICS Nature of Injury Description'].isna().sum()}\")\n",
    "print(f\"Null values in df_test 'OIICS Nature of Injury Description': {df_test['OIICS Nature of Injury Description'].isna().sum()}\")"
   ]
  },
  {
   "cell_type": "code",
   "execution_count": 233,
   "id": "6c532ddf-c8b2-44c8-b656-0cb9bdfad622",
   "metadata": {},
   "outputs": [],
   "source": [
    "X_train.drop(['OIICS Nature of Injury Description'], axis=1, inplace=True)\n",
    "X_val.drop(['OIICS Nature of Injury Description'], axis=1, inplace=True)\n",
    "df_test.drop(['OIICS Nature of Injury Description'], axis=1, inplace=True)"
   ]
  },
  {
   "cell_type": "markdown",
   "id": "e16e1fb7-7125-44d9-a2da-2067c7b73163",
   "metadata": {},
   "source": [
    "### WCIO Cause of Injury Code"
   ]
  },
  {
   "cell_type": "code",
   "execution_count": 235,
   "id": "1c6a9ff3-18bf-45f5-8d64-d2a49b14af2d",
   "metadata": {},
   "outputs": [
    {
     "name": "stdout",
     "output_type": "stream",
     "text": [
      "Null values in X_train 'WCIO Cause of Injury Code': 12258\n",
      "Null values in X_val 'WCIO Cause of Injury Code': 3147\n",
      "Null values in df_test 'WCIO Cause of Injury Code': 10348\n"
     ]
    }
   ],
   "source": [
    "print(f\"Null values in X_train 'WCIO Cause of Injury Code': {X_train['WCIO Cause of Injury Code'].isna().sum()}\")\n",
    "print(f\"Null values in X_val 'WCIO Cause of Injury Code': {X_val['WCIO Cause of Injury Code'].isna().sum()}\")\n",
    "print(f\"Null values in df_test 'WCIO Cause of Injury Code': {df_test['WCIO Cause of Injury Code'].isna().sum()}\")"
   ]
  },
  {
   "cell_type": "markdown",
   "id": "ce1c4c23-f1a5-41d7-99c0-623a57322af9",
   "metadata": {},
   "source": [
    "To address these missing values, we will use group-based imputation based on the 'Carrier Type' and 'Injury Code'."
   ]
  },
  {
   "cell_type": "code",
   "execution_count": 237,
   "id": "2eeb096e-46f1-470b-86f9-9d2366075c60",
   "metadata": {},
   "outputs": [],
   "source": [
    "def impute_wcicause(X_train, X_val, df_test):\n",
    "    overall_mode = X_train['WCIO Cause of Injury Code'].mode()[0]\n",
    "    wcio_cause_mode = X_train.groupby(['Carrier Type', 'Industry Code'])['WCIO Cause of Injury Code'].agg(\n",
    "        lambda x: x.mode()[0] if not x.mode().empty else overall_mode)\n",
    "    \n",
    "    wcio_cause_mode_carrier = X_train.groupby('Carrier Type')['WCIO Cause of Injury Code'].agg(\n",
    "        lambda x: x.mode()[0] if not x.mode().empty else overall_mode)\n",
    "    \n",
    "    wcio_cause_mode_industry = X_train.groupby('Industry Code')['WCIO Cause of Injury Code'].agg(\n",
    "        lambda x: x.mode()[0] if not x.mode().empty else overall_mode)\n",
    "\n",
    "    def fill_wcicause(row):\n",
    "        if pd.notnull(row['WCIO Cause of Injury Code']):\n",
    "            return row['WCIO Cause of Injury Code']\n",
    "        if pd.notnull(row['Carrier Type']) and pd.notnull(row['Industry Code']):\n",
    "            return wcio_cause_mode.get((row['Carrier Type'], row['Industry Code']), overall_mode)\n",
    "        elif pd.notnull(row['Carrier Type']):\n",
    "            return wcio_cause_mode_carrier.get(row['Carrier Type'], overall_mode)\n",
    "        elif pd.notnull(row['Industry Code']):\n",
    "            return wcio_cause_mode_industry.get(row['Industry Code'], overall_mode)\n",
    "        else:\n",
    "            return overall_mode\n",
    "\n",
    "    X_train['WCIO Cause of Injury Code'] = X_train.apply(fill_wcicause, axis=1)\n",
    "    X_val['WCIO Cause of Injury Code'] = X_val.apply(fill_wcicause, axis=1)\n",
    "    df_test['WCIO Cause of Injury Code'] = df_test.apply(fill_wcicause, axis=1)\n",
    "\n",
    "    X_train['WCIO Cause of Injury Code'] = X_train['WCIO Cause of Injury Code'].astype('float64').round().astype('int64')\n",
    "    X_val['WCIO Cause of Injury Code'] = X_val['WCIO Cause of Injury Code'].astype('float64').round().astype('int64')\n",
    "    df_test['WCIO Cause of Injury Code'] = df_test['WCIO Cause of Injury Code'].astype('float64').round().astype('int64')\n",
    "\n",
    "    return X_train, X_val, df_test"
   ]
  },
  {
   "cell_type": "code",
   "execution_count": 238,
   "id": "a6804aa7-9360-422e-a881-ce8aafdd8ccc",
   "metadata": {},
   "outputs": [],
   "source": [
    "X_train, X_val, df_test = impute_wcicause(X_train, X_val, df_test)"
   ]
  },
  {
   "cell_type": "code",
   "execution_count": 239,
   "id": "7da13254-8b7f-4bf4-8e72-a498afefdd00",
   "metadata": {},
   "outputs": [
    {
     "name": "stdout",
     "output_type": "stream",
     "text": [
      "Null values in X_train 'WCIO Cause of Injury Code': 0\n",
      "Null values in X_val 'WCIO Cause of Injury Code': 0\n",
      "Null values in df_test 'WCIO Cause of Injury Code': 0\n"
     ]
    }
   ],
   "source": [
    "print(f\"Null values in X_train 'WCIO Cause of Injury Code': {X_train['WCIO Cause of Injury Code'].isna().sum()}\")\n",
    "print(f\"Null values in X_val 'WCIO Cause of Injury Code': {X_val['WCIO Cause of Injury Code'].isna().sum()}\")\n",
    "print(f\"Null values in df_test 'WCIO Cause of Injury Code': {df_test['WCIO Cause of Injury Code'].isna().sum()}\")"
   ]
  },
  {
   "cell_type": "markdown",
   "id": "7f6ef1d6-56f1-4741-aad7-e61f7bb8288b",
   "metadata": {},
   "source": [
    "### WCIO Nature of Injury Code"
   ]
  },
  {
   "cell_type": "code",
   "execution_count": 241,
   "id": "5f54fb0a-1756-4ab2-85ab-54d5509bd53d",
   "metadata": {},
   "outputs": [
    {
     "name": "stdout",
     "output_type": "stream",
     "text": [
      "Null values in X_train 'WCIO Nature of Injury Code': 12273\n",
      "Null values in X_val 'WCIO Nature of Injury Code': 3149\n",
      "Null values in df_test 'WCIO Nature of Injury Code': 10560\n"
     ]
    }
   ],
   "source": [
    "print(f\"Null values in X_train 'WCIO Nature of Injury Code': {X_train['WCIO Nature of Injury Code'].isna().sum()}\")\n",
    "print(f\"Null values in X_val 'WCIO Nature of Injury Code': {X_val['WCIO Nature of Injury Code'].isna().sum()}\")\n",
    "print(f\"Null values in df_test 'WCIO Nature of Injury Code': {df_test['WCIO Nature of Injury Code'].isna().sum()}\")"
   ]
  },
  {
   "cell_type": "markdown",
   "id": "c0fc2336-5d7d-4b55-9bd8-7a410b211684",
   "metadata": {},
   "source": [
    "We will use group-based imputation based on 'Injury Code' and 'WCIO Cause of Injury Code' to fill the missing values."
   ]
  },
  {
   "cell_type": "code",
   "execution_count": 243,
   "id": "5d5d8b6a-2e1c-4fca-8d05-fbcf573f87ec",
   "metadata": {},
   "outputs": [],
   "source": [
    "def impute_wcionature(X_train, X_val, df_test):\n",
    "    overall_mode = X_train['WCIO Nature of Injury Code'].mode()[0]\n",
    "    \n",
    "    wcio_nature_mode = X_train.groupby(['Industry Code', 'WCIO Cause of Injury Code'])['WCIO Nature of Injury Code'].agg(\n",
    "        lambda x: x.mode()[0] if not x.mode().empty else overall_mode)\n",
    "    \n",
    "    wcio_nature_mode_industry = X_train.groupby('Industry Code')['WCIO Nature of Injury Code'].agg(\n",
    "        lambda x: x.mode()[0] if not x.mode().empty else overall_mode)\n",
    "    \n",
    "    wcio_nature_mode_cause = X_train.groupby('WCIO Cause of Injury Code')['WCIO Nature of Injury Code'].agg(\n",
    "        lambda x: x.mode()[0] if not x.mode().empty else overall_mode)\n",
    "\n",
    "    def fill_wcionature(row):\n",
    "        if pd.notnull(row['WCIO Nature of Injury Code']):\n",
    "            return row['WCIO Nature of Injury Code']\n",
    "        if pd.notnull(row['Industry Code']) and pd.notnull(row['WCIO Cause of Injury Code']):\n",
    "            return wcio_nature_mode.get((row['Industry Code'], row['WCIO Cause of Injury Code']), overall_mode)\n",
    "        elif pd.notnull(row['Industry Code']):\n",
    "            return wcio_nature_mode_industry.get(row['Industry Code'], overall_mode)\n",
    "        elif pd.notnull(row['WCIO Cause of Injury Code']):\n",
    "            return wcio_nature_mode_cause.get(row['WCIO Cause of Injury Code'], overall_mode)\n",
    "        else:\n",
    "            return overall_mode\n",
    "\n",
    "    X_train['WCIO Nature of Injury Code'] = X_train.apply(fill_wcionature, axis=1)\n",
    "    X_val['WCIO Nature of Injury Code'] = X_val.apply(fill_wcionature, axis=1)\n",
    "    df_test['WCIO Nature of Injury Code'] = df_test.apply(fill_wcionature, axis=1)\n",
    "\n",
    "    X_train['WCIO Nature of Injury Code'] = X_train['WCIO Nature of Injury Code'].astype('float64').round().astype('int64')\n",
    "    X_val['WCIO Nature of Injury Code'] = X_val['WCIO Nature of Injury Code'].astype('float64').round().astype('int64')\n",
    "    df_test['WCIO Nature of Injury Code'] = df_test['WCIO Nature of Injury Code'].astype('float64').round().astype('int64')\n",
    "\n",
    "    return X_train, X_val, df_test"
   ]
  },
  {
   "cell_type": "code",
   "execution_count": 244,
   "id": "bf692c2f-610b-4fd9-bc75-b5ea913074ef",
   "metadata": {},
   "outputs": [],
   "source": [
    "X_train, X_val, df_test = impute_wcionature(X_train, X_val, df_test)"
   ]
  },
  {
   "cell_type": "code",
   "execution_count": 245,
   "id": "dacc1851-234d-42f0-925a-6417b77bde10",
   "metadata": {},
   "outputs": [
    {
     "name": "stdout",
     "output_type": "stream",
     "text": [
      "Null values in X_train 'WCIO Nature of Injury Code': 0\n",
      "Null values in X_val 'WCIO Nature of Injury Code': 0\n",
      "Null values in df_test 'WCIO Nature of Injury Code': 0\n"
     ]
    }
   ],
   "source": [
    "print(f\"Null values in X_train 'WCIO Nature of Injury Code': {X_train['WCIO Nature of Injury Code'].isna().sum()}\")\n",
    "print(f\"Null values in X_val 'WCIO Nature of Injury Code': {X_val['WCIO Nature of Injury Code'].isna().sum()}\")\n",
    "print(f\"Null values in df_test 'WCIO Nature of Injury Code': {df_test['WCIO Nature of Injury Code'].isna().sum()}\")"
   ]
  },
  {
   "cell_type": "markdown",
   "id": "6b725676-3d87-4f6d-b82a-2c748797de5e",
   "metadata": {},
   "source": [
    "### WCIO Part Of Body Code"
   ]
  },
  {
   "cell_type": "code",
   "execution_count": 247,
   "id": "2f69fe16-08e5-4ca4-a05d-3c13598bed04",
   "metadata": {},
   "outputs": [
    {
     "name": "stdout",
     "output_type": "stream",
     "text": [
      "Null values in X_train 'WCIO Part Of Body Code': 13365\n",
      "Null values in X_val 'WCIO Part Of Body Code': 3461\n",
      "Null values in df_test 'WCIO Part Of Body Code': 9549\n"
     ]
    }
   ],
   "source": [
    "print(f\"Null values in X_train 'WCIO Part Of Body Code': {X_train['WCIO Part Of Body Code'].isna().sum()}\")\n",
    "print(f\"Null values in X_val 'WCIO Part Of Body Code': {X_val['WCIO Part Of Body Code'].isna().sum()}\")\n",
    "print(f\"Null values in df_test 'WCIO Part Of Body Code': {df_test['WCIO Part Of Body Code'].isna().sum()}\")"
   ]
  },
  {
   "cell_type": "markdown",
   "id": "ffb98f4e-0747-4d64-bc45-a075a2a81aca",
   "metadata": {},
   "source": [
    "We will use group-based imputation based on 'WCIO Cause of Injury Code' and 'WCIO Nature of Injury Code' to fill the missing values."
   ]
  },
  {
   "cell_type": "code",
   "execution_count": 249,
   "id": "ac74de2d-ef6e-4e62-ad60-40c7fb03fa89",
   "metadata": {},
   "outputs": [],
   "source": [
    "def impute_wciopart(X_train, X_val, df_test):\n",
    "    overall_mode = X_train['WCIO Part Of Body Code'].mode()[0]\n",
    "    \n",
    "    wcio_part_mode = X_train.groupby(['WCIO Cause of Injury Code', 'WCIO Nature of Injury Code'])['WCIO Part Of Body Code'].agg(\n",
    "        lambda x: x.mode()[0] if not x.mode().empty else overall_mode)\n",
    "    \n",
    "    wcio_part_mode_cause = X_train.groupby('WCIO Cause of Injury Code')['WCIO Part Of Body Code'].agg(\n",
    "        lambda x: x.mode()[0] if not x.mode().empty else overall_mode)\n",
    "    \n",
    "    wcio_part_mode_nature = X_train.groupby('WCIO Nature of Injury Code')['WCIO Part Of Body Code'].agg(\n",
    "        lambda x: x.mode()[0] if not x.mode().empty else overall_mode)\n",
    "\n",
    "    def fill_wciopart(row):\n",
    "        if pd.notnull(row['WCIO Part Of Body Code']):\n",
    "            return row['WCIO Part Of Body Code']\n",
    "        if pd.notnull(row['WCIO Cause of Injury Code']) and pd.notnull(row['WCIO Nature of Injury Code']):\n",
    "            return wcio_part_mode.get((row['WCIO Cause of Injury Code'], row['WCIO Nature of Injury Code']), overall_mode)\n",
    "        elif pd.notnull(row['WCIO Cause of Injury Code']):\n",
    "            return wcio_part_mode_cause.get(row['WCIO Cause of Injury Code'], overall_mode)\n",
    "        elif pd.notnull(row['WCIO Nature of Injury Code']):\n",
    "            return wcio_part_mode_nature.get(row['WCIO Nature of Injury Code'], overall_mode)\n",
    "        else:\n",
    "            return overall_mode\n",
    "\n",
    "    X_train['WCIO Part Of Body Code'] = X_train.apply(fill_wciopart, axis=1)\n",
    "    X_val['WCIO Part Of Body Code'] = X_val.apply(fill_wciopart, axis=1)\n",
    "    df_test['WCIO Part Of Body Code'] = df_test.apply(fill_wciopart, axis=1)\n",
    "\n",
    "    X_train['WCIO Part Of Body Code'] = X_train['WCIO Part Of Body Code'].astype('float64').round().astype('int64')\n",
    "    X_val['WCIO Part Of Body Code'] = X_val['WCIO Part Of Body Code'].astype('float64').round().astype('int64')\n",
    "    df_test['WCIO Part Of Body Code'] = df_test['WCIO Part Of Body Code'].astype('float64').round().astype('int64')\n",
    "\n",
    "    return X_train, X_val, df_test"
   ]
  },
  {
   "cell_type": "code",
   "execution_count": 250,
   "id": "6df34166-39c1-45f1-b65d-7f1ccb26fd93",
   "metadata": {},
   "outputs": [],
   "source": [
    "X_train, X_val, df_test = impute_wciopart(X_train, X_val, df_test)"
   ]
  },
  {
   "cell_type": "code",
   "execution_count": 251,
   "id": "28bd4072-330b-4a92-adaf-11406ec4d525",
   "metadata": {},
   "outputs": [
    {
     "name": "stdout",
     "output_type": "stream",
     "text": [
      "Null values in X_train 'WCIO Part Of Body Code': 0\n",
      "Null values in X_val 'WCIO Part Of Body Code': 0\n",
      "Null values in df_test 'WCIO Part Of Body Code': 0\n"
     ]
    }
   ],
   "source": [
    "print(f\"Null values in X_train 'WCIO Part Of Body Code': {X_train['WCIO Part Of Body Code'].isna().sum()}\")\n",
    "print(f\"Null values in X_val 'WCIO Part Of Body Code': {X_val['WCIO Part Of Body Code'].isna().sum()}\")\n",
    "print(f\"Null values in df_test 'WCIO Part Of Body Code': {df_test['WCIO Part Of Body Code'].isna().sum()}\")"
   ]
  },
  {
   "cell_type": "markdown",
   "id": "5692fbf2-0718-4e8a-98cf-86a2e033e5fd",
   "metadata": {},
   "source": [
    "### Zip Code"
   ]
  },
  {
   "cell_type": "code",
   "execution_count": 253,
   "id": "2e9541b3-d6fd-4d3d-86a9-0eedc375c6a8",
   "metadata": {},
   "outputs": [
    {
     "data": {
      "text/plain": [
       "Zip Code\n",
       "11236    2588\n",
       "10940    2300\n",
       "11717    2205\n",
       "11706    2185\n",
       "11434    2154\n",
       "         ... \n",
       "11327       1\n",
       "90501       1\n",
       "02760       1\n",
       "11266       1\n",
       "93308       1\n",
       "Name: count, Length: 9071, dtype: int64"
      ]
     },
     "execution_count": 253,
     "metadata": {},
     "output_type": "execute_result"
    }
   ],
   "source": [
    "X_train['Zip Code'].value_counts()"
   ]
  },
  {
   "cell_type": "markdown",
   "id": "44af0574-7332-46e7-acd0-53926fb4b7e2",
   "metadata": {},
   "source": [
    "We noticed that some zip code values were stored as floats, while others were integers. This inconsistency led to multiple categories being created for the same zip code. To resolve this, we wrote a function to standardize the zip codes."
   ]
  },
  {
   "cell_type": "code",
   "execution_count": 255,
   "id": "02f6f64a-6d7a-47ac-80d1-674fe23e75aa",
   "metadata": {},
   "outputs": [],
   "source": [
    "def convert_zip_code(x):\n",
    "    if pd.notnull(x) and isinstance(x, (int, float, str)):\n",
    "        try:\n",
    "            return str(int(float(x)))\n",
    "        except ValueError:\n",
    "            return str(x)\n",
    "    return x"
   ]
  },
  {
   "cell_type": "code",
   "execution_count": 256,
   "id": "f076852a-52ab-41ec-b1e9-6d15e9ce6862",
   "metadata": {},
   "outputs": [],
   "source": [
    "X_train['Zip Code'] = X_train['Zip Code'].apply(convert_zip_code)\n",
    "X_val['Zip Code'] = X_val['Zip Code'].apply(convert_zip_code)\n",
    "df_test['Zip Code'] = df_test['Zip Code'].apply(convert_zip_code)"
   ]
  },
  {
   "cell_type": "code",
   "execution_count": 257,
   "id": "03736737-09fb-4d6c-9c29-deffc8079778",
   "metadata": {},
   "outputs": [
    {
     "data": {
      "text/plain": [
       "Zip Code\n",
       "11236    2664\n",
       "10940    2363\n",
       "11717    2262\n",
       "11706    2252\n",
       "11434    2213\n",
       "         ... \n",
       "78730       1\n",
       "89107       1\n",
       "25917       1\n",
       "11327       1\n",
       "93308       1\n",
       "Name: count, Length: 7445, dtype: int64"
      ]
     },
     "execution_count": 257,
     "metadata": {},
     "output_type": "execute_result"
    }
   ],
   "source": [
    "X_train['Zip Code'].value_counts()"
   ]
  },
  {
   "cell_type": "code",
   "execution_count": 258,
   "id": "a21de275-85e4-41a2-8fdf-d99f5ecbf70c",
   "metadata": {},
   "outputs": [
    {
     "name": "stdout",
     "output_type": "stream",
     "text": [
      "Null values in X_train 'Zip Code': 22480\n",
      "Null values in X_val 'Zip Code': 5676\n",
      "Null values in df_test 'Zip Code': 19342\n"
     ]
    }
   ],
   "source": [
    "print(f\"Null values in X_train 'Zip Code': {X_train['Zip Code'].isna().sum()}\")\n",
    "print(f\"Null values in X_val 'Zip Code': {X_val['Zip Code'].isna().sum()}\")\n",
    "print(f\"Null values in df_test 'Zip Code': {df_test['Zip Code'].isna().sum()}\")"
   ]
  },
  {
   "cell_type": "markdown",
   "id": "661e73dc-2ef6-4e91-8257-1899dd88b761",
   "metadata": {},
   "source": [
    "To fill these missing values, we will use a group-based imputation based on 'County of Injury' and 'Medical Fee Region'."
   ]
  },
  {
   "cell_type": "code",
   "execution_count": 260,
   "id": "e6763371-073c-40bb-a2bf-53f2cda35c99",
   "metadata": {},
   "outputs": [],
   "source": [
    "def impute_zip(X_train, X_val, df_test):\n",
    "\n",
    "    overall_mode = X_train['Zip Code'].mode()[0]\n",
    "    \n",
    "    zip_mode = X_train.groupby(['County of Injury', 'Medical Fee Region'])['Zip Code'].agg(\n",
    "        lambda x: x.mode()[0] if not x.mode().empty else overall_mode)\n",
    "    \n",
    "    zip_mode_county = X_train.groupby('County of Injury')['Zip Code'].agg(\n",
    "        lambda x: x.mode()[0] if not x.mode().empty else overall_mode)\n",
    "    \n",
    "    zip_mode_region = X_train.groupby('Medical Fee Region')['Zip Code'].agg(\n",
    "        lambda x: x.mode()[0] if not x.mode().empty else overall_mode)\n",
    "\n",
    "    def fill_zip(row):\n",
    "        if pd.notnull(row['Zip Code']):\n",
    "            return row['Zip Code']\n",
    "        if pd.notnull(row['County of Injury']) and pd.notnull(row['Medical Fee Region']):\n",
    "            return zip_mode.get((row['County of Injury'], row['Medical Fee Region']), overall_mode)\n",
    "        elif pd.notnull(row['County of Injury']):\n",
    "            return zip_mode_county.get(row['County of Injury'], overall_mode)\n",
    "        elif pd.notnull(row['Medical Fee Region']):\n",
    "            return zip_mode_region.get(row['Medical Fee Region'], overall_mode)\n",
    "        else:\n",
    "            return overall_mode\n",
    "\n",
    "    X_train['Zip Code'] = X_train.apply(fill_zip, axis=1)\n",
    "    X_val['Zip Code'] = X_val.apply(fill_zip, axis=1)\n",
    "    df_test['Zip Code'] = df_test.apply(fill_zip, axis=1)\n",
    "\n",
    "    return X_train, X_val, df_test"
   ]
  },
  {
   "cell_type": "code",
   "execution_count": 261,
   "id": "2fa33db7-e668-4b09-b5e4-3c7b2ed1a14b",
   "metadata": {},
   "outputs": [],
   "source": [
    "X_train, X_val, df_test = impute_zip(X_train, X_val, df_test)"
   ]
  },
  {
   "cell_type": "code",
   "execution_count": 262,
   "id": "bf8d7e03-b2f4-41cd-9eb7-4452a8ce6d97",
   "metadata": {},
   "outputs": [
    {
     "name": "stdout",
     "output_type": "stream",
     "text": [
      "Null values in X_train 'Zip Code': 0\n",
      "Null values in X_val 'Zip Code': 0\n",
      "Null values in df_test 'Zip Code': 0\n"
     ]
    }
   ],
   "source": [
    "print(f\"Null values in X_train 'Zip Code': {X_train['Zip Code'].isna().sum()}\")\n",
    "print(f\"Null values in X_val 'Zip Code': {X_val['Zip Code'].isna().sum()}\")\n",
    "print(f\"Null values in df_test 'Zip Code': {df_test['Zip Code'].isna().sum()}\")"
   ]
  },
  {
   "cell_type": "markdown",
   "id": "e10e72ba-62e9-4321-a0ce-25c6c0015987",
   "metadata": {},
   "source": [
    "### Agreement Reached"
   ]
  },
  {
   "cell_type": "code",
   "execution_count": 264,
   "id": "1de41fe1-d7af-4996-bffb-0681a7220fb6",
   "metadata": {},
   "outputs": [
    {
     "name": "stdout",
     "output_type": "stream",
     "text": [
      "Null values in X_train 'Agreement Reached': 0\n",
      "Null values in X_val 'Agreement Reached': 0\n"
     ]
    }
   ],
   "source": [
    "print(f\"Null values in X_train 'Agreement Reached': {X_train['Agreement Reached'].isna().sum()}\")\n",
    "print(f\"Null values in X_val 'Agreement Reached': {X_val['Agreement Reached'].isna().sum()}\")"
   ]
  },
  {
   "cell_type": "code",
   "execution_count": 265,
   "id": "bb3f6830-7ee7-4dd9-b0f7-6cb876d855de",
   "metadata": {},
   "outputs": [
    {
     "data": {
      "text/plain": [
       "Agreement Reached\n",
       "0.0    429832\n",
       "1.0     20974\n",
       "Name: count, dtype: int64"
      ]
     },
     "execution_count": 265,
     "metadata": {},
     "output_type": "execute_result"
    }
   ],
   "source": [
    "X_train['Agreement Reached'].value_counts()"
   ]
  },
  {
   "cell_type": "code",
   "execution_count": 266,
   "id": "25572a01-9a1f-4d07-b2ef-bee9f3cd57d2",
   "metadata": {},
   "outputs": [
    {
     "data": {
      "text/plain": [
       "Agreement Reached\n",
       "0.0    107375\n",
       "1.0      5342\n",
       "Name: count, dtype: int64"
      ]
     },
     "execution_count": 266,
     "metadata": {},
     "output_type": "execute_result"
    }
   ],
   "source": [
    "X_val['Agreement Reached'].value_counts()"
   ]
  },
  {
   "cell_type": "markdown",
   "id": "fa276adf-6623-44dc-b137-081e339a042c",
   "metadata": {},
   "source": [
    "All ok!"
   ]
  },
  {
   "cell_type": "markdown",
   "id": "b5e4d00a-7ae4-44f0-97ed-2f8f52a4f700",
   "metadata": {},
   "source": [
    "### WCB Decision"
   ]
  },
  {
   "cell_type": "code",
   "execution_count": 269,
   "id": "a6fadd7f-5d82-4a92-a61d-d22ffd5f2909",
   "metadata": {},
   "outputs": [
    {
     "name": "stdout",
     "output_type": "stream",
     "text": [
      "Null values in X_train 'WCB Decision': 0\n",
      "Null values in X_val 'WCB Decision': 0\n"
     ]
    }
   ],
   "source": [
    "print(f\"Null values in X_train 'WCB Decision': {X_train['WCB Decision'].isna().sum()}\")\n",
    "print(f\"Null values in X_val 'WCB Decision': {X_val['WCB Decision'].isna().sum()}\")"
   ]
  },
  {
   "cell_type": "code",
   "execution_count": 270,
   "id": "513627e8-5728-47d5-8525-277457da40c5",
   "metadata": {},
   "outputs": [
    {
     "data": {
      "text/plain": [
       "WCB Decision\n",
       "Not Work Related    450806\n",
       "Name: count, dtype: int64"
      ]
     },
     "execution_count": 270,
     "metadata": {},
     "output_type": "execute_result"
    }
   ],
   "source": [
    "X_train['WCB Decision'].value_counts()"
   ]
  },
  {
   "cell_type": "code",
   "execution_count": 271,
   "id": "4cf4d819-45a9-4820-b254-e6bbd16fa0b4",
   "metadata": {},
   "outputs": [
    {
     "data": {
      "text/plain": [
       "WCB Decision\n",
       "Not Work Related    112717\n",
       "Name: count, dtype: int64"
      ]
     },
     "execution_count": 271,
     "metadata": {},
     "output_type": "execute_result"
    }
   ],
   "source": [
    "X_val['WCB Decision'].value_counts()"
   ]
  },
  {
   "cell_type": "markdown",
   "id": "6f2ab9fa-55a2-4703-8da9-ab2791cd52f4",
   "metadata": {},
   "source": [
    "Since the 'WCB Decision' column contains only a single value (\"Not Work Related\") across all rows, it does not provide any useful information for analysis. Therefore, we will drop this column from the dataset."
   ]
  },
  {
   "cell_type": "code",
   "execution_count": 273,
   "id": "b74fd9ea-6a60-420c-a4b7-fb7c948370cc",
   "metadata": {},
   "outputs": [],
   "source": [
    "X_train.drop(columns=['WCB Decision'], inplace=True)\n",
    "X_val.drop(columns=['WCB Decision'], inplace=True)"
   ]
  },
  {
   "cell_type": "markdown",
   "id": "c2030be5-723f-4ed5-8379-030682fc8c30",
   "metadata": {},
   "source": [
    "### Number of Dependents"
   ]
  },
  {
   "cell_type": "code",
   "execution_count": 275,
   "id": "a89cdbfa-d62f-47ff-b040-98c27ae16276",
   "metadata": {},
   "outputs": [
    {
     "name": "stdout",
     "output_type": "stream",
     "text": [
      "Null values in X_train 'Number of Dependents': 0\n",
      "Null values in X_val 'Number of Dependents': 0\n",
      "Null values in df_test 'Number of Dependents': 0\n"
     ]
    }
   ],
   "source": [
    "print(f\"Null values in X_train 'Number of Dependents': {X_train['Number of Dependents'].isna().sum()}\")\n",
    "print(f\"Null values in X_val 'Number of Dependents': {X_val['Number of Dependents'].isna().sum()}\")\n",
    "print(f\"Null values in df_test 'Number of Dependents': {df_test['Number of Dependents'].isna().sum()}\")"
   ]
  },
  {
   "cell_type": "code",
   "execution_count": 276,
   "id": "1854a505-2249-4748-9d23-05f21bca6495",
   "metadata": {},
   "outputs": [
    {
     "data": {
      "text/plain": [
       "Number of Dependents\n",
       "6.0    64802\n",
       "3.0    64666\n",
       "1.0    64362\n",
       "5.0    64305\n",
       "2.0    64256\n",
       "4.0    64238\n",
       "0.0    64177\n",
       "Name: count, dtype: int64"
      ]
     },
     "execution_count": 276,
     "metadata": {},
     "output_type": "execute_result"
    }
   ],
   "source": [
    "X_train['Number of Dependents'].value_counts()"
   ]
  },
  {
   "cell_type": "code",
   "execution_count": 277,
   "id": "06a292e2-cf59-4832-b5be-7a33ef2e4a2d",
   "metadata": {},
   "outputs": [
    {
     "data": {
      "text/plain": [
       "Number of Dependents\n",
       "6.0    16330\n",
       "5.0    16290\n",
       "4.0    16148\n",
       "3.0    16091\n",
       "0.0    15972\n",
       "1.0    15949\n",
       "2.0    15937\n",
       "Name: count, dtype: int64"
      ]
     },
     "execution_count": 277,
     "metadata": {},
     "output_type": "execute_result"
    }
   ],
   "source": [
    "X_val['Number of Dependents'].value_counts()"
   ]
  },
  {
   "cell_type": "code",
   "execution_count": 278,
   "id": "efe98ceb-3899-4a6c-b44c-363b541ea64a",
   "metadata": {},
   "outputs": [
    {
     "data": {
      "text/plain": [
       "Number of Dependents\n",
       "3    55900\n",
       "5    55591\n",
       "4    55427\n",
       "1    55402\n",
       "0    55316\n",
       "2    55191\n",
       "6    55148\n",
       "Name: count, dtype: int64"
      ]
     },
     "execution_count": 278,
     "metadata": {},
     "output_type": "execute_result"
    }
   ],
   "source": [
    "df_test['Number of Dependents'].value_counts()"
   ]
  },
  {
   "cell_type": "markdown",
   "id": "866d03ef-b2ad-4dd8-aa42-dfb84796ddf8",
   "metadata": {},
   "source": [
    "## Extra features"
   ]
  },
  {
   "cell_type": "markdown",
   "id": "2a07952b-5b2a-415f-a2f3-490802e42bc8",
   "metadata": {},
   "source": [
    "### Injury Day of Week"
   ]
  },
  {
   "cell_type": "markdown",
   "id": "051ee509-cb8d-41ba-8aa2-41e59755dd1e",
   "metadata": {},
   "source": [
    "Extract weekday from Accident Date."
   ]
  },
  {
   "cell_type": "code",
   "execution_count": 282,
   "id": "9e21659b-a769-46e4-b603-f4de8bb25e71",
   "metadata": {},
   "outputs": [],
   "source": [
    "for df in [X_train, X_val, df_test]:\n",
    "    df['Accident Date'] = pd.to_datetime(df['Accident Date'])\n",
    "    df['Injury Day of Week'] = df['Accident Date'].dt.day_name()"
   ]
  },
  {
   "cell_type": "code",
   "execution_count": 283,
   "id": "494a22f2-1ee2-48bf-a2e4-7a3db9c69cb7",
   "metadata": {},
   "outputs": [
    {
     "data": {
      "text/html": [
       "<div>\n",
       "<style scoped>\n",
       "    .dataframe tbody tr th:only-of-type {\n",
       "        vertical-align: middle;\n",
       "    }\n",
       "\n",
       "    .dataframe tbody tr th {\n",
       "        vertical-align: top;\n",
       "    }\n",
       "\n",
       "    .dataframe thead th {\n",
       "        text-align: right;\n",
       "    }\n",
       "</style>\n",
       "<table border=\"1\" class=\"dataframe\">\n",
       "  <thead>\n",
       "    <tr style=\"text-align: right;\">\n",
       "      <th></th>\n",
       "      <th>Accident Date</th>\n",
       "      <th>Injury Day of Week</th>\n",
       "    </tr>\n",
       "    <tr>\n",
       "      <th>Claim Identifier</th>\n",
       "      <th></th>\n",
       "      <th></th>\n",
       "    </tr>\n",
       "  </thead>\n",
       "  <tbody>\n",
       "    <tr>\n",
       "      <th>5785935</th>\n",
       "      <td>2021-08-05</td>\n",
       "      <td>Thursday</td>\n",
       "    </tr>\n",
       "    <tr>\n",
       "      <th>5980545</th>\n",
       "      <td>2022-04-05</td>\n",
       "      <td>Tuesday</td>\n",
       "    </tr>\n",
       "    <tr>\n",
       "      <th>5552635</th>\n",
       "      <td>2020-09-01</td>\n",
       "      <td>Tuesday</td>\n",
       "    </tr>\n",
       "    <tr>\n",
       "      <th>5758039</th>\n",
       "      <td>2021-06-10</td>\n",
       "      <td>Thursday</td>\n",
       "    </tr>\n",
       "    <tr>\n",
       "      <th>5951382</th>\n",
       "      <td>2022-01-26</td>\n",
       "      <td>Wednesday</td>\n",
       "    </tr>\n",
       "  </tbody>\n",
       "</table>\n",
       "</div>"
      ],
      "text/plain": [
       "                 Accident Date Injury Day of Week\n",
       "Claim Identifier                                 \n",
       "5785935             2021-08-05           Thursday\n",
       "5980545             2022-04-05            Tuesday\n",
       "5552635             2020-09-01            Tuesday\n",
       "5758039             2021-06-10           Thursday\n",
       "5951382             2022-01-26          Wednesday"
      ]
     },
     "execution_count": 283,
     "metadata": {},
     "output_type": "execute_result"
    }
   ],
   "source": [
    "X_train[['Accident Date', 'Injury Day of Week']].head()"
   ]
  },
  {
   "cell_type": "markdown",
   "id": "3b564dad-7a07-4b7f-9c8d-8c65f32d9cc4",
   "metadata": {},
   "source": [
    "### Time to Assembly"
   ]
  },
  {
   "cell_type": "markdown",
   "id": "b2315d84-e2e2-4b2e-bf43-e440d8f320cc",
   "metadata": {},
   "source": [
    "Difference in days between Accident Date and Assembly Date."
   ]
  },
  {
   "cell_type": "code",
   "execution_count": 286,
   "id": "77ed6184-8801-4564-b109-a13a3c2ef1e7",
   "metadata": {},
   "outputs": [],
   "source": [
    "for df in [X_train, X_val, df_test]:\n",
    "    df['Time to Assembly'] = (df['Assembly Date'] - df['Accident Date']).dt.days"
   ]
  },
  {
   "cell_type": "code",
   "execution_count": 287,
   "id": "a57870eb-88e9-4931-a640-f943a53b9e18",
   "metadata": {},
   "outputs": [
    {
     "data": {
      "text/html": [
       "<div>\n",
       "<style scoped>\n",
       "    .dataframe tbody tr th:only-of-type {\n",
       "        vertical-align: middle;\n",
       "    }\n",
       "\n",
       "    .dataframe tbody tr th {\n",
       "        vertical-align: top;\n",
       "    }\n",
       "\n",
       "    .dataframe thead th {\n",
       "        text-align: right;\n",
       "    }\n",
       "</style>\n",
       "<table border=\"1\" class=\"dataframe\">\n",
       "  <thead>\n",
       "    <tr style=\"text-align: right;\">\n",
       "      <th></th>\n",
       "      <th>Accident Date</th>\n",
       "      <th>Assembly Date</th>\n",
       "      <th>Time to Assembly</th>\n",
       "    </tr>\n",
       "    <tr>\n",
       "      <th>Claim Identifier</th>\n",
       "      <th></th>\n",
       "      <th></th>\n",
       "      <th></th>\n",
       "    </tr>\n",
       "  </thead>\n",
       "  <tbody>\n",
       "    <tr>\n",
       "      <th>5785935</th>\n",
       "      <td>2021-08-05</td>\n",
       "      <td>2021-08-10</td>\n",
       "      <td>5</td>\n",
       "    </tr>\n",
       "    <tr>\n",
       "      <th>5980545</th>\n",
       "      <td>2022-04-05</td>\n",
       "      <td>2022-05-02</td>\n",
       "      <td>27</td>\n",
       "    </tr>\n",
       "    <tr>\n",
       "      <th>5552635</th>\n",
       "      <td>2020-09-01</td>\n",
       "      <td>2020-09-04</td>\n",
       "      <td>3</td>\n",
       "    </tr>\n",
       "    <tr>\n",
       "      <th>5758039</th>\n",
       "      <td>2021-06-10</td>\n",
       "      <td>2021-07-02</td>\n",
       "      <td>22</td>\n",
       "    </tr>\n",
       "    <tr>\n",
       "      <th>5951382</th>\n",
       "      <td>2022-01-26</td>\n",
       "      <td>2022-03-25</td>\n",
       "      <td>58</td>\n",
       "    </tr>\n",
       "  </tbody>\n",
       "</table>\n",
       "</div>"
      ],
      "text/plain": [
       "                 Accident Date Assembly Date  Time to Assembly\n",
       "Claim Identifier                                              \n",
       "5785935             2021-08-05    2021-08-10                 5\n",
       "5980545             2022-04-05    2022-05-02                27\n",
       "5552635             2020-09-01    2020-09-04                 3\n",
       "5758039             2021-06-10    2021-07-02                22\n",
       "5951382             2022-01-26    2022-03-25                58"
      ]
     },
     "execution_count": 287,
     "metadata": {},
     "output_type": "execute_result"
    }
   ],
   "source": [
    "X_train[['Accident Date', 'Assembly Date', 'Time to Assembly']].head()"
   ]
  },
  {
   "cell_type": "markdown",
   "id": "6672db89-2cea-4e25-921c-97cba9dfb030",
   "metadata": {},
   "source": [
    "**Fixing negative values:**"
   ]
  },
  {
   "cell_type": "code",
   "execution_count": 289,
   "id": "a6d1f545-d2e1-45e6-92a5-f6297200e8c2",
   "metadata": {},
   "outputs": [
    {
     "name": "stdout",
     "output_type": "stream",
     "text": [
      "Negative 'Time to Assembly' count in dataset: 5251\n",
      "Negative 'Time to Assembly' count in dataset: 1267\n",
      "Negative 'Time to Assembly' count in dataset: 222\n"
     ]
    }
   ],
   "source": [
    "for df in [X_train, X_val, df_test]:\n",
    "    negative_count = (df['Time to Assembly'] < 0).sum()\n",
    "    print(f\"Negative 'Time to Assembly' count in dataset: {negative_count}\")"
   ]
  },
  {
   "cell_type": "code",
   "execution_count": 290,
   "id": "49142d80-4d8c-41fe-a5e0-601ee99721aa",
   "metadata": {},
   "outputs": [],
   "source": [
    "def replace_negatives_with_avg(dfs, column_name, reference_df):\n",
    "\n",
    "    avg_value = int(reference_df[column_name].loc[reference_df[column_name] >= 0].mean())\n",
    "\n",
    "    for df in dfs:\n",
    "        df[column_name] = df[column_name].apply(lambda x: avg_value if x < 0 else x)\n",
    "    \n",
    "    return dfs"
   ]
  },
  {
   "cell_type": "code",
   "execution_count": 291,
   "id": "6cc88e54-dcfc-4ed1-8716-d7c659b3f11b",
   "metadata": {},
   "outputs": [],
   "source": [
    "X_train, X_val, df_test = replace_negatives_with_avg(\n",
    "    [X_train, X_val, df_test], \n",
    "    column_name='Time to Assembly', \n",
    "    reference_df=X_train\n",
    ")"
   ]
  },
  {
   "cell_type": "code",
   "execution_count": 292,
   "id": "ae44c0f4-7dcb-4f64-a1d7-88ee3ac13f63",
   "metadata": {},
   "outputs": [
    {
     "name": "stdout",
     "output_type": "stream",
     "text": [
      "Negative 'Time to Assembly' count in dataset: 0\n",
      "Negative 'Time to Assembly' count in dataset: 0\n",
      "Negative 'Time to Assembly' count in dataset: 0\n"
     ]
    }
   ],
   "source": [
    "for df in [X_train, X_val, df_test]:\n",
    "    negative_count = (df['Time to Assembly'] < 0).sum()\n",
    "    print(f\"Negative 'Time to Assembly' count in dataset: {negative_count}\")"
   ]
  },
  {
   "cell_type": "markdown",
   "id": "329452eb-a180-489e-a328-675c7ce49984",
   "metadata": {},
   "source": [
    "### Time to C-2"
   ]
  },
  {
   "cell_type": "markdown",
   "id": "ee471153-8496-4c49-88eb-19dbf3bf5aa9",
   "metadata": {},
   "source": [
    "Difference in days between Accident Date and C-2 Date."
   ]
  },
  {
   "cell_type": "code",
   "execution_count": 295,
   "id": "cee53d43-e835-4b45-b515-db41dc0ebf21",
   "metadata": {},
   "outputs": [],
   "source": [
    "for df in [X_train, X_val, df_test]:\n",
    "    df['Time to C-2'] = (df['C-2 Date'] - df['Accident Date']).dt.days"
   ]
  },
  {
   "cell_type": "code",
   "execution_count": 296,
   "id": "25f00df4-bc78-4666-9e8b-d32b1e4e39df",
   "metadata": {},
   "outputs": [
    {
     "data": {
      "text/html": [
       "<div>\n",
       "<style scoped>\n",
       "    .dataframe tbody tr th:only-of-type {\n",
       "        vertical-align: middle;\n",
       "    }\n",
       "\n",
       "    .dataframe tbody tr th {\n",
       "        vertical-align: top;\n",
       "    }\n",
       "\n",
       "    .dataframe thead th {\n",
       "        text-align: right;\n",
       "    }\n",
       "</style>\n",
       "<table border=\"1\" class=\"dataframe\">\n",
       "  <thead>\n",
       "    <tr style=\"text-align: right;\">\n",
       "      <th></th>\n",
       "      <th>Accident Date</th>\n",
       "      <th>C-2 Date</th>\n",
       "      <th>Time to C-2</th>\n",
       "    </tr>\n",
       "    <tr>\n",
       "      <th>Claim Identifier</th>\n",
       "      <th></th>\n",
       "      <th></th>\n",
       "      <th></th>\n",
       "    </tr>\n",
       "  </thead>\n",
       "  <tbody>\n",
       "    <tr>\n",
       "      <th>5785935</th>\n",
       "      <td>2021-08-05</td>\n",
       "      <td>2021-08-10</td>\n",
       "      <td>5</td>\n",
       "    </tr>\n",
       "    <tr>\n",
       "      <th>5980545</th>\n",
       "      <td>2022-04-05</td>\n",
       "      <td>2022-04-30</td>\n",
       "      <td>25</td>\n",
       "    </tr>\n",
       "    <tr>\n",
       "      <th>5552635</th>\n",
       "      <td>2020-09-01</td>\n",
       "      <td>2020-09-04</td>\n",
       "      <td>3</td>\n",
       "    </tr>\n",
       "    <tr>\n",
       "      <th>5758039</th>\n",
       "      <td>2021-06-10</td>\n",
       "      <td>2021-07-02</td>\n",
       "      <td>22</td>\n",
       "    </tr>\n",
       "    <tr>\n",
       "      <th>5951382</th>\n",
       "      <td>2022-01-26</td>\n",
       "      <td>2022-03-30</td>\n",
       "      <td>63</td>\n",
       "    </tr>\n",
       "  </tbody>\n",
       "</table>\n",
       "</div>"
      ],
      "text/plain": [
       "                 Accident Date   C-2 Date  Time to C-2\n",
       "Claim Identifier                                      \n",
       "5785935             2021-08-05 2021-08-10            5\n",
       "5980545             2022-04-05 2022-04-30           25\n",
       "5552635             2020-09-01 2020-09-04            3\n",
       "5758039             2021-06-10 2021-07-02           22\n",
       "5951382             2022-01-26 2022-03-30           63"
      ]
     },
     "execution_count": 296,
     "metadata": {},
     "output_type": "execute_result"
    }
   ],
   "source": [
    "X_train[['Accident Date', 'C-2 Date', 'Time to C-2']].head()"
   ]
  },
  {
   "cell_type": "markdown",
   "id": "33343885-c26c-4b9b-aabc-4017cf011fc6",
   "metadata": {},
   "source": [
    "**Fixing negative values:**"
   ]
  },
  {
   "cell_type": "code",
   "execution_count": 298,
   "id": "3cbe45b7-48b2-4263-9c58-00c2eebc1149",
   "metadata": {},
   "outputs": [
    {
     "name": "stdout",
     "output_type": "stream",
     "text": [
      "Negative 'Time to C-2' count in dataset: 4439\n",
      "Negative 'Time to C-2' count in dataset: 1134\n",
      "Negative 'Time to C-2' count in dataset: 183\n"
     ]
    }
   ],
   "source": [
    "for df in [X_train, X_val, df_test]:\n",
    "    negative_count = (df['Time to C-2'] < 0).sum()\n",
    "    print(f\"Negative 'Time to C-2' count in dataset: {negative_count}\")"
   ]
  },
  {
   "cell_type": "code",
   "execution_count": 299,
   "id": "46b24558-f647-4776-b836-278e82f5dde5",
   "metadata": {},
   "outputs": [],
   "source": [
    "X_train, X_val, df_test = replace_negatives_with_avg(\n",
    "    [X_train, X_val, df_test], \n",
    "    column_name='Time to C-2', \n",
    "    reference_df=X_train\n",
    ")"
   ]
  },
  {
   "cell_type": "code",
   "execution_count": 300,
   "id": "689d3713-a2ad-47df-80a8-271136542ee5",
   "metadata": {},
   "outputs": [
    {
     "name": "stdout",
     "output_type": "stream",
     "text": [
      "Negative 'Time to C-2' count in dataset: 0\n",
      "Negative 'Time to C-2' count in dataset: 0\n",
      "Negative 'Time to C-2' count in dataset: 0\n"
     ]
    }
   ],
   "source": [
    "for df in [X_train, X_val, df_test]:\n",
    "    negative_count = (df['Time to C-2'] < 0).sum()\n",
    "    print(f\"Negative 'Time to C-2' count in dataset: {negative_count}\")"
   ]
  },
  {
   "cell_type": "markdown",
   "id": "b21b862d-a640-4e3e-8fe7-d8673f0d8dee",
   "metadata": {},
   "source": [
    "### Wage/Dependents Ratio"
   ]
  },
  {
   "cell_type": "markdown",
   "id": "6e3ce977-7b27-4531-aaed-5f47c4db0ff7",
   "metadata": {},
   "source": [
    "Average Weekly Wage divided by Number of Dependents."
   ]
  },
  {
   "cell_type": "code",
   "execution_count": 303,
   "id": "2fdb6021-569d-40ae-a483-9a98afa29fd2",
   "metadata": {},
   "outputs": [],
   "source": [
    "for df in [X_train, X_val, df_test]:\n",
    "    df['Wage/Dependents Ratio'] = df.apply(\n",
    "        lambda row: round(row['Average Weekly Wage'] / row['Number of Dependents'], 2)\n",
    "        if row['Number of Dependents'] > 0 else (row['Average Weekly Wage'])*2,\n",
    "        axis=1\n",
    "    )"
   ]
  },
  {
   "cell_type": "code",
   "execution_count": 304,
   "id": "65118123-2077-4ecf-8c6c-9109ab3069a6",
   "metadata": {},
   "outputs": [
    {
     "data": {
      "text/html": [
       "<div>\n",
       "<style scoped>\n",
       "    .dataframe tbody tr th:only-of-type {\n",
       "        vertical-align: middle;\n",
       "    }\n",
       "\n",
       "    .dataframe tbody tr th {\n",
       "        vertical-align: top;\n",
       "    }\n",
       "\n",
       "    .dataframe thead th {\n",
       "        text-align: right;\n",
       "    }\n",
       "</style>\n",
       "<table border=\"1\" class=\"dataframe\">\n",
       "  <thead>\n",
       "    <tr style=\"text-align: right;\">\n",
       "      <th></th>\n",
       "      <th>Average Weekly Wage</th>\n",
       "      <th>Number of Dependents</th>\n",
       "      <th>Wage/Dependents Ratio</th>\n",
       "    </tr>\n",
       "    <tr>\n",
       "      <th>Claim Identifier</th>\n",
       "      <th></th>\n",
       "      <th></th>\n",
       "      <th></th>\n",
       "    </tr>\n",
       "  </thead>\n",
       "  <tbody>\n",
       "    <tr>\n",
       "      <th>5785935</th>\n",
       "      <td>744.060000</td>\n",
       "      <td>6.0</td>\n",
       "      <td>124.01</td>\n",
       "    </tr>\n",
       "    <tr>\n",
       "      <th>5980545</th>\n",
       "      <td>1157.330000</td>\n",
       "      <td>2.0</td>\n",
       "      <td>578.66</td>\n",
       "    </tr>\n",
       "    <tr>\n",
       "      <th>5552635</th>\n",
       "      <td>1047.017294</td>\n",
       "      <td>3.0</td>\n",
       "      <td>349.01</td>\n",
       "    </tr>\n",
       "    <tr>\n",
       "      <th>5758039</th>\n",
       "      <td>824.590881</td>\n",
       "      <td>1.0</td>\n",
       "      <td>824.59</td>\n",
       "    </tr>\n",
       "    <tr>\n",
       "      <th>5951382</th>\n",
       "      <td>250.000000</td>\n",
       "      <td>4.0</td>\n",
       "      <td>62.50</td>\n",
       "    </tr>\n",
       "  </tbody>\n",
       "</table>\n",
       "</div>"
      ],
      "text/plain": [
       "                  Average Weekly Wage  Number of Dependents  \\\n",
       "Claim Identifier                                              \n",
       "5785935                    744.060000                   6.0   \n",
       "5980545                   1157.330000                   2.0   \n",
       "5552635                   1047.017294                   3.0   \n",
       "5758039                    824.590881                   1.0   \n",
       "5951382                    250.000000                   4.0   \n",
       "\n",
       "                  Wage/Dependents Ratio  \n",
       "Claim Identifier                         \n",
       "5785935                          124.01  \n",
       "5980545                          578.66  \n",
       "5552635                          349.01  \n",
       "5758039                          824.59  \n",
       "5951382                           62.50  "
      ]
     },
     "execution_count": 304,
     "metadata": {},
     "output_type": "execute_result"
    }
   ],
   "source": [
    "X_train[['Average Weekly Wage', 'Number of Dependents', 'Wage/Dependents Ratio']].head()"
   ]
  },
  {
   "cell_type": "markdown",
   "id": "67319ba0-da1c-420a-b2de-66b27264e3b9",
   "metadata": {},
   "source": [
    "### Multiple Form Submissions"
   ]
  },
  {
   "cell_type": "markdown",
   "id": "38ad89cf-ddc2-47fd-8e27-47c05f6b16ea",
   "metadata": {},
   "source": [
    "Flag if IME-4 Count > 1."
   ]
  },
  {
   "cell_type": "code",
   "execution_count": 307,
   "id": "48a62a72-b518-44e5-8cf4-63fb2c558d9d",
   "metadata": {},
   "outputs": [],
   "source": [
    "for df in [X_train, X_val, df_test]:\n",
    "    df['Multiple Form Submissions'] = (df['IME-4 Count'] > 1).astype(int)"
   ]
  },
  {
   "cell_type": "code",
   "execution_count": 308,
   "id": "42dbf731-39cd-48e4-a03c-4e7eb5687639",
   "metadata": {},
   "outputs": [
    {
     "data": {
      "text/html": [
       "<div>\n",
       "<style scoped>\n",
       "    .dataframe tbody tr th:only-of-type {\n",
       "        vertical-align: middle;\n",
       "    }\n",
       "\n",
       "    .dataframe tbody tr th {\n",
       "        vertical-align: top;\n",
       "    }\n",
       "\n",
       "    .dataframe thead th {\n",
       "        text-align: right;\n",
       "    }\n",
       "</style>\n",
       "<table border=\"1\" class=\"dataframe\">\n",
       "  <thead>\n",
       "    <tr style=\"text-align: right;\">\n",
       "      <th></th>\n",
       "      <th>IME-4 Count</th>\n",
       "      <th>Multiple Form Submissions</th>\n",
       "    </tr>\n",
       "    <tr>\n",
       "      <th>Claim Identifier</th>\n",
       "      <th></th>\n",
       "      <th></th>\n",
       "    </tr>\n",
       "  </thead>\n",
       "  <tbody>\n",
       "    <tr>\n",
       "      <th>5785935</th>\n",
       "      <td>2.0</td>\n",
       "      <td>1</td>\n",
       "    </tr>\n",
       "    <tr>\n",
       "      <th>5980545</th>\n",
       "      <td>0.0</td>\n",
       "      <td>0</td>\n",
       "    </tr>\n",
       "    <tr>\n",
       "      <th>5552635</th>\n",
       "      <td>0.0</td>\n",
       "      <td>0</td>\n",
       "    </tr>\n",
       "    <tr>\n",
       "      <th>5758039</th>\n",
       "      <td>0.0</td>\n",
       "      <td>0</td>\n",
       "    </tr>\n",
       "    <tr>\n",
       "      <th>5951382</th>\n",
       "      <td>0.0</td>\n",
       "      <td>0</td>\n",
       "    </tr>\n",
       "  </tbody>\n",
       "</table>\n",
       "</div>"
      ],
      "text/plain": [
       "                  IME-4 Count  Multiple Form Submissions\n",
       "Claim Identifier                                        \n",
       "5785935                   2.0                          1\n",
       "5980545                   0.0                          0\n",
       "5552635                   0.0                          0\n",
       "5758039                   0.0                          0\n",
       "5951382                   0.0                          0"
      ]
     },
     "execution_count": 308,
     "metadata": {},
     "output_type": "execute_result"
    }
   ],
   "source": [
    "X_train[['IME-4 Count', 'Multiple Form Submissions']].head()"
   ]
  },
  {
   "cell_type": "markdown",
   "id": "12e06fb6-2619-44e5-b2b3-dee04ba5e718",
   "metadata": {},
   "source": [
    "### Above County Wage Average"
   ]
  },
  {
   "cell_type": "markdown",
   "id": "393f37fa-4f9a-4636-95d8-21086fd8a70b",
   "metadata": {},
   "source": [
    "Indicates whether the row's wage is above the average for its county of injury."
   ]
  },
  {
   "cell_type": "code",
   "execution_count": 311,
   "id": "10544d3d-d125-4545-ae21-d581fa4bcc42",
   "metadata": {},
   "outputs": [],
   "source": [
    "county_avg_wage_train = X_train.groupby('County of Injury')['Average Weekly Wage'].transform('mean')\n",
    "\n",
    "X_train['Above County Wage Average'] = (X_train['Average Weekly Wage'] > county_avg_wage_train).astype(int)\n",
    "\n",
    "county_avg_wage_val = X_val['County of Injury'].map(X_train.groupby('County of Injury')['Average Weekly Wage'].mean())\n",
    "county_avg_wage_test = df_test['County of Injury'].map(X_train.groupby('County of Injury')['Average Weekly Wage'].mean())\n",
    "\n",
    "X_val['Above County Wage Average'] = (X_val['Average Weekly Wage'] > county_avg_wage_val).astype(int)\n",
    "df_test['Above County Wage Average'] = (df_test['Average Weekly Wage'] > county_avg_wage_test).astype(int)"
   ]
  },
  {
   "cell_type": "code",
   "execution_count": 312,
   "id": "ff13d3ba-52bc-462d-8f6f-b3613dbd0eee",
   "metadata": {},
   "outputs": [
    {
     "data": {
      "text/html": [
       "<div>\n",
       "<style scoped>\n",
       "    .dataframe tbody tr th:only-of-type {\n",
       "        vertical-align: middle;\n",
       "    }\n",
       "\n",
       "    .dataframe tbody tr th {\n",
       "        vertical-align: top;\n",
       "    }\n",
       "\n",
       "    .dataframe thead th {\n",
       "        text-align: right;\n",
       "    }\n",
       "</style>\n",
       "<table border=\"1\" class=\"dataframe\">\n",
       "  <thead>\n",
       "    <tr style=\"text-align: right;\">\n",
       "      <th></th>\n",
       "      <th>County of Injury</th>\n",
       "      <th>Average Weekly Wage</th>\n",
       "      <th>Above County Wage Average</th>\n",
       "    </tr>\n",
       "    <tr>\n",
       "      <th>Claim Identifier</th>\n",
       "      <th></th>\n",
       "      <th></th>\n",
       "      <th></th>\n",
       "    </tr>\n",
       "  </thead>\n",
       "  <tbody>\n",
       "    <tr>\n",
       "      <th>5785935</th>\n",
       "      <td>QUEENS</td>\n",
       "      <td>744.060000</td>\n",
       "      <td>0</td>\n",
       "    </tr>\n",
       "    <tr>\n",
       "      <th>5980545</th>\n",
       "      <td>BRONX</td>\n",
       "      <td>1157.330000</td>\n",
       "      <td>1</td>\n",
       "    </tr>\n",
       "    <tr>\n",
       "      <th>5552635</th>\n",
       "      <td>KINGS</td>\n",
       "      <td>1047.017294</td>\n",
       "      <td>0</td>\n",
       "    </tr>\n",
       "    <tr>\n",
       "      <th>5758039</th>\n",
       "      <td>KINGS</td>\n",
       "      <td>824.590881</td>\n",
       "      <td>0</td>\n",
       "    </tr>\n",
       "    <tr>\n",
       "      <th>5951382</th>\n",
       "      <td>NASSAU</td>\n",
       "      <td>250.000000</td>\n",
       "      <td>0</td>\n",
       "    </tr>\n",
       "    <tr>\n",
       "      <th>5522905</th>\n",
       "      <td>WESTCHESTER</td>\n",
       "      <td>1466.070000</td>\n",
       "      <td>1</td>\n",
       "    </tr>\n",
       "    <tr>\n",
       "      <th>5539895</th>\n",
       "      <td>ERIE</td>\n",
       "      <td>1005.200215</td>\n",
       "      <td>0</td>\n",
       "    </tr>\n",
       "    <tr>\n",
       "      <th>5704419</th>\n",
       "      <td>RICHMOND</td>\n",
       "      <td>1952.400000</td>\n",
       "      <td>1</td>\n",
       "    </tr>\n",
       "    <tr>\n",
       "      <th>5488794</th>\n",
       "      <td>SUFFOLK</td>\n",
       "      <td>1020.570265</td>\n",
       "      <td>0</td>\n",
       "    </tr>\n",
       "    <tr>\n",
       "      <th>5469588</th>\n",
       "      <td>RICHMOND</td>\n",
       "      <td>1635.000000</td>\n",
       "      <td>1</td>\n",
       "    </tr>\n",
       "  </tbody>\n",
       "</table>\n",
       "</div>"
      ],
      "text/plain": [
       "                 County of Injury  Average Weekly Wage  \\\n",
       "Claim Identifier                                         \n",
       "5785935                    QUEENS           744.060000   \n",
       "5980545                     BRONX          1157.330000   \n",
       "5552635                     KINGS          1047.017294   \n",
       "5758039                     KINGS           824.590881   \n",
       "5951382                    NASSAU           250.000000   \n",
       "5522905               WESTCHESTER          1466.070000   \n",
       "5539895                      ERIE          1005.200215   \n",
       "5704419                  RICHMOND          1952.400000   \n",
       "5488794                   SUFFOLK          1020.570265   \n",
       "5469588                  RICHMOND          1635.000000   \n",
       "\n",
       "                  Above County Wage Average  \n",
       "Claim Identifier                             \n",
       "5785935                                   0  \n",
       "5980545                                   1  \n",
       "5552635                                   0  \n",
       "5758039                                   0  \n",
       "5951382                                   0  \n",
       "5522905                                   1  \n",
       "5539895                                   0  \n",
       "5704419                                   1  \n",
       "5488794                                   0  \n",
       "5469588                                   1  "
      ]
     },
     "execution_count": 312,
     "metadata": {},
     "output_type": "execute_result"
    }
   ],
   "source": [
    "X_train[['County of Injury', 'Average Weekly Wage', 'Above County Wage Average']].head(10)"
   ]
  },
  {
   "cell_type": "markdown",
   "id": "b06751c9-6d60-42f7-bfe0-300f1b71a7f8",
   "metadata": {},
   "source": [
    "## Fix data types"
   ]
  },
  {
   "cell_type": "code",
   "execution_count": 314,
   "id": "0655aacf-0710-491e-afa7-ffbc5e125c7b",
   "metadata": {},
   "outputs": [
    {
     "name": "stdout",
     "output_type": "stream",
     "text": [
      "<class 'pandas.core.frame.DataFrame'>\n",
      "Index: 450806 entries, 5785935 to 6157884\n",
      "Data columns (total 31 columns):\n",
      " #   Column                          Non-Null Count   Dtype         \n",
      "---  ------                          --------------   -----         \n",
      " 0   Accident Date                   450806 non-null  datetime64[ns]\n",
      " 1   Age at Injury                   450806 non-null  float64       \n",
      " 2   Alternative Dispute Resolution  450806 non-null  object        \n",
      " 3   Assembly Date                   450806 non-null  datetime64[ns]\n",
      " 4   Attorney/Representative         450806 non-null  object        \n",
      " 5   Average Weekly Wage             450806 non-null  float64       \n",
      " 6   Birth Year                      450806 non-null  float64       \n",
      " 7   C-2 Date                        450806 non-null  datetime64[ns]\n",
      " 8   Carrier Name                    450806 non-null  object        \n",
      " 9   Carrier Type                    450806 non-null  object        \n",
      " 10  County of Injury                450806 non-null  object        \n",
      " 11  COVID-19 Indicator              450806 non-null  object        \n",
      " 12  District Name                   450806 non-null  object        \n",
      " 13  Gender                          450806 non-null  object        \n",
      " 14  IME-4 Count                     450806 non-null  float64       \n",
      " 15  Industry Code                   450806 non-null  float64       \n",
      " 16  Medical Fee Region              450806 non-null  object        \n",
      " 17  WCIO Cause of Injury Code       450806 non-null  int64         \n",
      " 18  WCIO Nature of Injury Code      450806 non-null  int64         \n",
      " 19  WCIO Part Of Body Code          450806 non-null  int64         \n",
      " 20  Zip Code                        450806 non-null  object        \n",
      " 21  Agreement Reached               450806 non-null  float64       \n",
      " 22  Number of Dependents            450806 non-null  float64       \n",
      " 23  C-3 Received                    450806 non-null  int64         \n",
      " 24  First Hearing Happened          450806 non-null  int64         \n",
      " 25  Injury Day of Week              450806 non-null  object        \n",
      " 26  Time to Assembly                450806 non-null  int64         \n",
      " 27  Time to C-2                     450806 non-null  int64         \n",
      " 28  Wage/Dependents Ratio           450806 non-null  float64       \n",
      " 29  Multiple Form Submissions       450806 non-null  int32         \n",
      " 30  Above County Wage Average       450806 non-null  int32         \n",
      "dtypes: datetime64[ns](3), float64(8), int32(2), int64(7), object(11)\n",
      "memory usage: 106.6+ MB\n"
     ]
    }
   ],
   "source": [
    "X_train.info()"
   ]
  },
  {
   "cell_type": "markdown",
   "id": "7cf0331b-1177-440f-94ba-435cf7014033",
   "metadata": {},
   "source": [
    "First, we will transform 'Alternative Dispute Resolution', 'Attorney/Representative' and 'COVID-19 Indicator' into binary variables:"
   ]
  },
  {
   "cell_type": "code",
   "execution_count": 316,
   "id": "eb43f278-f790-49b1-991e-7725c11a08ea",
   "metadata": {},
   "outputs": [],
   "source": [
    "def transform_columns_to_binary(dfs, columns):\n",
    "    for df in dfs:\n",
    "        for column in columns:\n",
    "            if column in df.columns:\n",
    "                df[column] = df[column].map({'N': 0, 'Y': 1})\n",
    "    return dfs"
   ]
  },
  {
   "cell_type": "code",
   "execution_count": 317,
   "id": "18056a88-149a-48a6-b8c2-3f213f494a85",
   "metadata": {},
   "outputs": [],
   "source": [
    "binary_columns = ['Alternative Dispute Resolution', 'Attorney/Representative', 'COVID-19 Indicator']\n",
    "dfs = [X_train, X_val, df_test]\n",
    "\n",
    "\n",
    "X_train, X_val, df_test = transform_columns_to_binary(dfs, binary_columns)"
   ]
  },
  {
   "cell_type": "markdown",
   "id": "c5b67a9c-a965-4d53-9ce8-ae6ef0d7bdd2",
   "metadata": {},
   "source": [
    "Now, we will fix data types:"
   ]
  },
  {
   "cell_type": "code",
   "execution_count": 319,
   "id": "7b387292-1d37-4b70-9dc8-e8a59ecae28c",
   "metadata": {},
   "outputs": [],
   "source": [
    "int_cols = [\n",
    "    'Alternative Dispute Resolution', 'Attorney/Representative',\n",
    "    'Age at Injury', 'Birth Year', 'IME-4 Count',\n",
    "    'Agreement Reached', 'Number of Dependents', \n",
    "    'C-3 Received', 'First Hearing Happened', 'COVID-19 Indicator', \n",
    "    'Time to Assembly', 'Time to C-2', \n",
    "    'Multiple Form Submissions', 'Above County Wage Average'\n",
    "]\n",
    "\n",
    "float_cols = ['Average Weekly Wage', 'Wage/Dependents Ratio']\n",
    "\n",
    "str_cols = [\n",
    "    'Carrier Name', 'Carrier Type', 'County of Injury', 'Industry Code', \n",
    "    'WCIO Cause of Injury Code', 'WCIO Nature of Injury Code', \n",
    "    'WCIO Part Of Body Code', 'District Name', \n",
    "    'Gender', 'Medical Fee Region', 'Zip Code', 'Injury Day of Week'\n",
    "] "
   ]
  },
  {
   "cell_type": "code",
   "execution_count": 320,
   "id": "9eaec4d9-d105-4ee2-b95b-3de33d1fbcdd",
   "metadata": {},
   "outputs": [],
   "source": [
    "def cast_columns(df):\n",
    "\n",
    "    for col in int_cols:\n",
    "        if col in df.columns:  \n",
    "            df[col] = df[col].astype('Int64')  \n",
    "  \n",
    "    for col in float_cols:\n",
    "        if col in df.columns:\n",
    "            df[col] = df[col].astype('float')\n",
    "    \n",
    "    for col in str_cols:\n",
    "        if col in df.columns:\n",
    "            df[col] = df[col].astype('string')\n",
    "    \n",
    "    return df"
   ]
  },
  {
   "cell_type": "code",
   "execution_count": 321,
   "id": "e4694e47-a861-4a8b-b870-1e5f36aec784",
   "metadata": {},
   "outputs": [],
   "source": [
    "X_train = cast_columns(X_train)\n",
    "X_val = cast_columns(X_val)\n",
    "df_test = cast_columns(df_test)"
   ]
  },
  {
   "cell_type": "code",
   "execution_count": 322,
   "id": "06a15767-5b32-4ed0-8932-6b20bf4f5309",
   "metadata": {},
   "outputs": [
    {
     "name": "stdout",
     "output_type": "stream",
     "text": [
      "<class 'pandas.core.frame.DataFrame'>\n",
      "Index: 450806 entries, 5785935 to 6157884\n",
      "Data columns (total 31 columns):\n",
      " #   Column                          Non-Null Count   Dtype         \n",
      "---  ------                          --------------   -----         \n",
      " 0   Accident Date                   450806 non-null  datetime64[ns]\n",
      " 1   Age at Injury                   450806 non-null  Int64         \n",
      " 2   Alternative Dispute Resolution  450806 non-null  Int64         \n",
      " 3   Assembly Date                   450806 non-null  datetime64[ns]\n",
      " 4   Attorney/Representative         450806 non-null  Int64         \n",
      " 5   Average Weekly Wage             450806 non-null  float64       \n",
      " 6   Birth Year                      450806 non-null  Int64         \n",
      " 7   C-2 Date                        450806 non-null  datetime64[ns]\n",
      " 8   Carrier Name                    450806 non-null  string        \n",
      " 9   Carrier Type                    450806 non-null  string        \n",
      " 10  County of Injury                450806 non-null  string        \n",
      " 11  COVID-19 Indicator              450806 non-null  Int64         \n",
      " 12  District Name                   450806 non-null  string        \n",
      " 13  Gender                          450806 non-null  string        \n",
      " 14  IME-4 Count                     450806 non-null  Int64         \n",
      " 15  Industry Code                   450806 non-null  string        \n",
      " 16  Medical Fee Region              450806 non-null  string        \n",
      " 17  WCIO Cause of Injury Code       450806 non-null  string        \n",
      " 18  WCIO Nature of Injury Code      450806 non-null  string        \n",
      " 19  WCIO Part Of Body Code          450806 non-null  string        \n",
      " 20  Zip Code                        450806 non-null  string        \n",
      " 21  Agreement Reached               450806 non-null  Int64         \n",
      " 22  Number of Dependents            450806 non-null  Int64         \n",
      " 23  C-3 Received                    450806 non-null  Int64         \n",
      " 24  First Hearing Happened          450806 non-null  Int64         \n",
      " 25  Injury Day of Week              450806 non-null  string        \n",
      " 26  Time to Assembly                450806 non-null  Int64         \n",
      " 27  Time to C-2                     450806 non-null  Int64         \n",
      " 28  Wage/Dependents Ratio           450806 non-null  float64       \n",
      " 29  Multiple Form Submissions       450806 non-null  Int64         \n",
      " 30  Above County Wage Average       450806 non-null  Int64         \n",
      "dtypes: Int64(14), datetime64[ns](3), float64(2), string(12)\n",
      "memory usage: 116.1 MB\n"
     ]
    }
   ],
   "source": [
    "X_train.info()"
   ]
  },
  {
   "cell_type": "markdown",
   "id": "f2523644-82ee-41df-bdf2-fd70372839ee",
   "metadata": {},
   "source": [
    "## Tranform datetime collumns into integers"
   ]
  },
  {
   "cell_type": "markdown",
   "id": "de828334-4903-47c4-b067-ae59dd79fd17",
   "metadata": {},
   "source": [
    "Most machine learning models, especially classical ones, such as logistic regression and decision trees, do not handle datetime variables directly. For that reason, their transformation to numerical format was done by converting them into a ymd (year-month-day) format. "
   ]
  },
  {
   "cell_type": "code",
   "execution_count": 325,
   "id": "bf03398f-01d4-4616-a53c-fba46b4ef592",
   "metadata": {},
   "outputs": [],
   "source": [
    "def process_dates(df):\n",
    "\n",
    "    df['Accident_year'] = df['Accident Date'].dt.year\n",
    "    df['Accident_month'] = df['Accident Date'].dt.month\n",
    "    df['Accident_day'] = df['Accident Date'].dt.day\n",
    "    \n",
    "    df['Assembly_year'] = df['Assembly Date'].dt.year\n",
    "    df['Assembly_month'] = df['Assembly Date'].dt.month\n",
    "    df['Assembly_day'] = df['Assembly Date'].dt.day\n",
    "    \n",
    "    df['C2_year'] = df['C-2 Date'].dt.year\n",
    "    df['C2_month'] = df['C-2 Date'].dt.month\n",
    "    df['C2_day'] = df['C-2 Date'].dt.day\n",
    "    \n",
    "    df['Accident_ymd'] = df['Accident_year'] * 10000 + df['Accident_month'] * 100 + df['Accident_day']\n",
    "    df['Assembly_ymd'] = df['Assembly_year'] * 10000 + df['Assembly_month'] * 100 + df['Assembly_day']\n",
    "    df['C2_ymd'] = df['C2_year'] * 10000 + df['C2_month'] * 100 + df['C2_day']\n",
    "    \n",
    "    df = df.drop(columns=['Accident Date', 'Assembly Date', 'C-2 Date',\n",
    "                          'Accident_year', 'Accident_month', 'Accident_day', \n",
    "                          'Assembly_year', 'Assembly_month', 'Assembly_day',\n",
    "                          'C2_year', 'C2_month', 'C2_day'])\n",
    "    return df"
   ]
  },
  {
   "cell_type": "code",
   "execution_count": 326,
   "id": "d97feed8-1651-41d4-96ee-87fe117a21f1",
   "metadata": {},
   "outputs": [],
   "source": [
    "X_train = process_dates(X_train)\n",
    "X_val = process_dates(X_val)\n",
    "df_test = process_dates(df_test)"
   ]
  },
  {
   "cell_type": "code",
   "execution_count": 327,
   "id": "ab7770ea-d312-442b-bb37-22456555d871",
   "metadata": {},
   "outputs": [
    {
     "data": {
      "text/html": [
       "<div>\n",
       "<style scoped>\n",
       "    .dataframe tbody tr th:only-of-type {\n",
       "        vertical-align: middle;\n",
       "    }\n",
       "\n",
       "    .dataframe tbody tr th {\n",
       "        vertical-align: top;\n",
       "    }\n",
       "\n",
       "    .dataframe thead th {\n",
       "        text-align: right;\n",
       "    }\n",
       "</style>\n",
       "<table border=\"1\" class=\"dataframe\">\n",
       "  <thead>\n",
       "    <tr style=\"text-align: right;\">\n",
       "      <th></th>\n",
       "      <th>Age at Injury</th>\n",
       "      <th>Alternative Dispute Resolution</th>\n",
       "      <th>Attorney/Representative</th>\n",
       "      <th>Average Weekly Wage</th>\n",
       "      <th>Birth Year</th>\n",
       "      <th>Carrier Name</th>\n",
       "      <th>Carrier Type</th>\n",
       "      <th>County of Injury</th>\n",
       "      <th>COVID-19 Indicator</th>\n",
       "      <th>District Name</th>\n",
       "      <th>...</th>\n",
       "      <th>First Hearing Happened</th>\n",
       "      <th>Injury Day of Week</th>\n",
       "      <th>Time to Assembly</th>\n",
       "      <th>Time to C-2</th>\n",
       "      <th>Wage/Dependents Ratio</th>\n",
       "      <th>Multiple Form Submissions</th>\n",
       "      <th>Above County Wage Average</th>\n",
       "      <th>Accident_ymd</th>\n",
       "      <th>Assembly_ymd</th>\n",
       "      <th>C2_ymd</th>\n",
       "    </tr>\n",
       "    <tr>\n",
       "      <th>Claim Identifier</th>\n",
       "      <th></th>\n",
       "      <th></th>\n",
       "      <th></th>\n",
       "      <th></th>\n",
       "      <th></th>\n",
       "      <th></th>\n",
       "      <th></th>\n",
       "      <th></th>\n",
       "      <th></th>\n",
       "      <th></th>\n",
       "      <th></th>\n",
       "      <th></th>\n",
       "      <th></th>\n",
       "      <th></th>\n",
       "      <th></th>\n",
       "      <th></th>\n",
       "      <th></th>\n",
       "      <th></th>\n",
       "      <th></th>\n",
       "      <th></th>\n",
       "      <th></th>\n",
       "    </tr>\n",
       "  </thead>\n",
       "  <tbody>\n",
       "    <tr>\n",
       "      <th>5785935</th>\n",
       "      <td>49</td>\n",
       "      <td>0</td>\n",
       "      <td>1</td>\n",
       "      <td>744.060000</td>\n",
       "      <td>1971</td>\n",
       "      <td>PROPERTY AND CASUALTY</td>\n",
       "      <td>1A. PRIVATE</td>\n",
       "      <td>QUEENS</td>\n",
       "      <td>0</td>\n",
       "      <td>NYC</td>\n",
       "      <td>...</td>\n",
       "      <td>0</td>\n",
       "      <td>Thursday</td>\n",
       "      <td>5</td>\n",
       "      <td>5</td>\n",
       "      <td>124.01</td>\n",
       "      <td>1</td>\n",
       "      <td>0</td>\n",
       "      <td>20210805</td>\n",
       "      <td>20210810</td>\n",
       "      <td>20210810</td>\n",
       "    </tr>\n",
       "    <tr>\n",
       "      <th>5980545</th>\n",
       "      <td>31</td>\n",
       "      <td>0</td>\n",
       "      <td>0</td>\n",
       "      <td>1157.330000</td>\n",
       "      <td>1991</td>\n",
       "      <td>HEALTH &amp; HOSPITAL CORP.</td>\n",
       "      <td>3A. SELF PUBLIC</td>\n",
       "      <td>BRONX</td>\n",
       "      <td>0</td>\n",
       "      <td>NYC</td>\n",
       "      <td>...</td>\n",
       "      <td>1</td>\n",
       "      <td>Tuesday</td>\n",
       "      <td>27</td>\n",
       "      <td>25</td>\n",
       "      <td>578.66</td>\n",
       "      <td>0</td>\n",
       "      <td>1</td>\n",
       "      <td>20220405</td>\n",
       "      <td>20220502</td>\n",
       "      <td>20220430</td>\n",
       "    </tr>\n",
       "    <tr>\n",
       "      <th>5552635</th>\n",
       "      <td>44</td>\n",
       "      <td>0</td>\n",
       "      <td>0</td>\n",
       "      <td>1047.017294</td>\n",
       "      <td>1976</td>\n",
       "      <td>AMERICAN ZURICH INSURANCE CO</td>\n",
       "      <td>1A. PRIVATE</td>\n",
       "      <td>KINGS</td>\n",
       "      <td>0</td>\n",
       "      <td>NYC</td>\n",
       "      <td>...</td>\n",
       "      <td>0</td>\n",
       "      <td>Tuesday</td>\n",
       "      <td>3</td>\n",
       "      <td>3</td>\n",
       "      <td>349.01</td>\n",
       "      <td>0</td>\n",
       "      <td>0</td>\n",
       "      <td>20200901</td>\n",
       "      <td>20200904</td>\n",
       "      <td>20200904</td>\n",
       "    </tr>\n",
       "    <tr>\n",
       "      <th>5758039</th>\n",
       "      <td>25</td>\n",
       "      <td>0</td>\n",
       "      <td>0</td>\n",
       "      <td>824.590881</td>\n",
       "      <td>1996</td>\n",
       "      <td>NORDSTROM, INC.</td>\n",
       "      <td>4A. SELF PRIVATE</td>\n",
       "      <td>KINGS</td>\n",
       "      <td>0</td>\n",
       "      <td>NYC</td>\n",
       "      <td>...</td>\n",
       "      <td>0</td>\n",
       "      <td>Thursday</td>\n",
       "      <td>22</td>\n",
       "      <td>22</td>\n",
       "      <td>824.59</td>\n",
       "      <td>0</td>\n",
       "      <td>0</td>\n",
       "      <td>20210610</td>\n",
       "      <td>20210702</td>\n",
       "      <td>20210702</td>\n",
       "    </tr>\n",
       "    <tr>\n",
       "      <th>5951382</th>\n",
       "      <td>41</td>\n",
       "      <td>0</td>\n",
       "      <td>1</td>\n",
       "      <td>250.000000</td>\n",
       "      <td>1980</td>\n",
       "      <td>NEW YORK BLACK CAR OPERATORS'</td>\n",
       "      <td>4A. SELF PRIVATE</td>\n",
       "      <td>NASSAU</td>\n",
       "      <td>0</td>\n",
       "      <td>NYC</td>\n",
       "      <td>...</td>\n",
       "      <td>1</td>\n",
       "      <td>Wednesday</td>\n",
       "      <td>58</td>\n",
       "      <td>63</td>\n",
       "      <td>62.50</td>\n",
       "      <td>0</td>\n",
       "      <td>0</td>\n",
       "      <td>20220126</td>\n",
       "      <td>20220325</td>\n",
       "      <td>20220330</td>\n",
       "    </tr>\n",
       "  </tbody>\n",
       "</table>\n",
       "<p>5 rows × 31 columns</p>\n",
       "</div>"
      ],
      "text/plain": [
       "                  Age at Injury  Alternative Dispute Resolution  \\\n",
       "Claim Identifier                                                  \n",
       "5785935                      49                               0   \n",
       "5980545                      31                               0   \n",
       "5552635                      44                               0   \n",
       "5758039                      25                               0   \n",
       "5951382                      41                               0   \n",
       "\n",
       "                  Attorney/Representative  Average Weekly Wage  Birth Year  \\\n",
       "Claim Identifier                                                             \n",
       "5785935                                 1           744.060000        1971   \n",
       "5980545                                 0          1157.330000        1991   \n",
       "5552635                                 0          1047.017294        1976   \n",
       "5758039                                 0           824.590881        1996   \n",
       "5951382                                 1           250.000000        1980   \n",
       "\n",
       "                                   Carrier Name      Carrier Type  \\\n",
       "Claim Identifier                                                    \n",
       "5785935                   PROPERTY AND CASUALTY       1A. PRIVATE   \n",
       "5980545                 HEALTH & HOSPITAL CORP.   3A. SELF PUBLIC   \n",
       "5552635            AMERICAN ZURICH INSURANCE CO       1A. PRIVATE   \n",
       "5758039                         NORDSTROM, INC.  4A. SELF PRIVATE   \n",
       "5951382           NEW YORK BLACK CAR OPERATORS'  4A. SELF PRIVATE   \n",
       "\n",
       "                 County of Injury  COVID-19 Indicator District Name  ...  \\\n",
       "Claim Identifier                                                     ...   \n",
       "5785935                    QUEENS                   0           NYC  ...   \n",
       "5980545                     BRONX                   0           NYC  ...   \n",
       "5552635                     KINGS                   0           NYC  ...   \n",
       "5758039                     KINGS                   0           NYC  ...   \n",
       "5951382                    NASSAU                   0           NYC  ...   \n",
       "\n",
       "                 First Hearing Happened  Injury Day of Week Time to Assembly  \\\n",
       "Claim Identifier                                                               \n",
       "5785935                               0            Thursday                5   \n",
       "5980545                               1             Tuesday               27   \n",
       "5552635                               0             Tuesday                3   \n",
       "5758039                               0            Thursday               22   \n",
       "5951382                               1           Wednesday               58   \n",
       "\n",
       "                 Time to C-2 Wage/Dependents Ratio Multiple Form Submissions  \\\n",
       "Claim Identifier                                                               \n",
       "5785935                    5                124.01                         1   \n",
       "5980545                   25                578.66                         0   \n",
       "5552635                    3                349.01                         0   \n",
       "5758039                   22                824.59                         0   \n",
       "5951382                   63                 62.50                         0   \n",
       "\n",
       "                 Above County Wage Average Accident_ymd  Assembly_ymd  \\\n",
       "Claim Identifier                                                        \n",
       "5785935                                  0     20210805      20210810   \n",
       "5980545                                  1     20220405      20220502   \n",
       "5552635                                  0     20200901      20200904   \n",
       "5758039                                  0     20210610      20210702   \n",
       "5951382                                  0     20220126      20220325   \n",
       "\n",
       "                    C2_ymd  \n",
       "Claim Identifier            \n",
       "5785935           20210810  \n",
       "5980545           20220430  \n",
       "5552635           20200904  \n",
       "5758039           20210702  \n",
       "5951382           20220330  \n",
       "\n",
       "[5 rows x 31 columns]"
      ]
     },
     "execution_count": 327,
     "metadata": {},
     "output_type": "execute_result"
    }
   ],
   "source": [
    "X_train.head()"
   ]
  },
  {
   "cell_type": "code",
   "execution_count": 328,
   "id": "c118c2b1-5dac-4a1d-aa58-9a4dea3389b0",
   "metadata": {},
   "outputs": [
    {
     "name": "stdout",
     "output_type": "stream",
     "text": [
      "<class 'pandas.core.frame.DataFrame'>\n",
      "Index: 450806 entries, 5785935 to 6157884\n",
      "Data columns (total 31 columns):\n",
      " #   Column                          Non-Null Count   Dtype  \n",
      "---  ------                          --------------   -----  \n",
      " 0   Age at Injury                   450806 non-null  Int64  \n",
      " 1   Alternative Dispute Resolution  450806 non-null  Int64  \n",
      " 2   Attorney/Representative         450806 non-null  Int64  \n",
      " 3   Average Weekly Wage             450806 non-null  float64\n",
      " 4   Birth Year                      450806 non-null  Int64  \n",
      " 5   Carrier Name                    450806 non-null  string \n",
      " 6   Carrier Type                    450806 non-null  string \n",
      " 7   County of Injury                450806 non-null  string \n",
      " 8   COVID-19 Indicator              450806 non-null  Int64  \n",
      " 9   District Name                   450806 non-null  string \n",
      " 10  Gender                          450806 non-null  string \n",
      " 11  IME-4 Count                     450806 non-null  Int64  \n",
      " 12  Industry Code                   450806 non-null  string \n",
      " 13  Medical Fee Region              450806 non-null  string \n",
      " 14  WCIO Cause of Injury Code       450806 non-null  string \n",
      " 15  WCIO Nature of Injury Code      450806 non-null  string \n",
      " 16  WCIO Part Of Body Code          450806 non-null  string \n",
      " 17  Zip Code                        450806 non-null  string \n",
      " 18  Agreement Reached               450806 non-null  Int64  \n",
      " 19  Number of Dependents            450806 non-null  Int64  \n",
      " 20  C-3 Received                    450806 non-null  Int64  \n",
      " 21  First Hearing Happened          450806 non-null  Int64  \n",
      " 22  Injury Day of Week              450806 non-null  string \n",
      " 23  Time to Assembly                450806 non-null  Int64  \n",
      " 24  Time to C-2                     450806 non-null  Int64  \n",
      " 25  Wage/Dependents Ratio           450806 non-null  float64\n",
      " 26  Multiple Form Submissions       450806 non-null  Int64  \n",
      " 27  Above County Wage Average       450806 non-null  Int64  \n",
      " 28  Accident_ymd                    450806 non-null  int32  \n",
      " 29  Assembly_ymd                    450806 non-null  int32  \n",
      " 30  C2_ymd                          450806 non-null  int32  \n",
      "dtypes: Int64(14), float64(2), int32(3), string(12)\n",
      "memory usage: 110.9 MB\n"
     ]
    }
   ],
   "source": [
    "X_train.info()"
   ]
  },
  {
   "cell_type": "code",
   "execution_count": 329,
   "id": "f9ce0160-7b24-4106-bd25-ef9e210e9216",
   "metadata": {},
   "outputs": [],
   "source": [
    "#Save X_train to a CSV file\n",
    "X_train.to_csv('X_train_preprocessed.csv', index=False)\n",
    "\n",
    "#Save X_val to a CSV file\n",
    "X_val.to_csv('X_val_preprocessed.csv', index=False)\n",
    "\n",
    "#Save df_test to a CSV file\n",
    "df_test.to_csv('df_test_preprocessed.csv', index=False)\n",
    "\n",
    "#Save y_train to a CSV file\n",
    "y_train.to_csv('y_train.csv', index=False)\n",
    "\n",
    "#Save y_val to a CSV file\n",
    "y_val.to_csv('y_val.csv', index=False)\n",
    "\n",
    "#Save df_test indexes to a CSV file\n",
    "keep_identifier.to_csv('df_test_indexes.csv')"
   ]
  },
  {
   "cell_type": "markdown",
   "id": "9c0f3d2b-6e73-445f-86d5-35758b5db577",
   "metadata": {},
   "source": [
    "## Encoding"
   ]
  },
  {
   "cell_type": "code",
   "execution_count": 331,
   "id": "d36a595e-9834-407f-a784-890955f6b491",
   "metadata": {},
   "outputs": [],
   "source": [
    "label_encoder = LabelEncoder()\n",
    "y_train = label_encoder.fit_transform(y_train) \n",
    "y_val = label_encoder.fit_transform(y_val) "
   ]
  },
  {
   "cell_type": "code",
   "execution_count": 332,
   "id": "d0d95b0d-b38c-4072-851b-8722def1f215",
   "metadata": {},
   "outputs": [],
   "source": [
    "cols_to_enc = [\n",
    "    'Carrier Name', 'Carrier Type', 'County of Injury', 'Industry Code', \n",
    "    'WCIO Cause of Injury Code', 'WCIO Nature of Injury Code', \n",
    "    'WCIO Part Of Body Code', 'District Name', \n",
    "    'Gender', 'Medical Fee Region', 'Zip Code', 'Injury Day of Week'\n",
    "] "
   ]
  },
  {
   "cell_type": "code",
   "execution_count": 333,
   "id": "39f6e5e4-df37-43ee-90cc-2bd874a9214a",
   "metadata": {},
   "outputs": [],
   "source": [
    "target_encoder = ce.TargetEncoder(cols=cols_to_enc)\n",
    "\n",
    "X_train[cols_to_enc] = target_encoder.fit_transform(X_train[cols_to_enc], y_train)\n",
    "X_val[cols_to_enc] = target_encoder.transform(X_val[cols_to_enc])\n",
    "df_test[cols_to_enc] = target_encoder.transform(df_test[cols_to_enc])"
   ]
  },
  {
   "cell_type": "markdown",
   "id": "eb4a539e-9654-4a00-8c93-a3965e51dec8",
   "metadata": {},
   "source": [
    "Since most of the machine learning models require the target variable to be numeric, we applied label encoding to the target variable. Label encoding converts categorical labels into numerical values so that the model can understand and process them. Each unique category in the target variable was mapped with an integer value for model training.\n",
    "\n",
    "Target encoding was done for variables of object type. In this technique, each category of a categorical feature is replaced with the mean of the target variable within that particular category. Target encoding allows the model to learn the relationships between the categorical feature and the target well, which can improve the performance of models, especially with high cardinality categorical variables."
   ]
  },
  {
   "cell_type": "code",
   "execution_count": 335,
   "id": "fa4c58dc-b458-40e9-a92d-2f7eb670cf15",
   "metadata": {},
   "outputs": [
    {
     "name": "stdout",
     "output_type": "stream",
     "text": [
      "<class 'pandas.core.frame.DataFrame'>\n",
      "Index: 450806 entries, 5785935 to 6157884\n",
      "Data columns (total 31 columns):\n",
      " #   Column                          Non-Null Count   Dtype  \n",
      "---  ------                          --------------   -----  \n",
      " 0   Age at Injury                   450806 non-null  Int64  \n",
      " 1   Alternative Dispute Resolution  450806 non-null  Int64  \n",
      " 2   Attorney/Representative         450806 non-null  Int64  \n",
      " 3   Average Weekly Wage             450806 non-null  float64\n",
      " 4   Birth Year                      450806 non-null  Int64  \n",
      " 5   Carrier Name                    450806 non-null  float64\n",
      " 6   Carrier Type                    450806 non-null  float64\n",
      " 7   County of Injury                450806 non-null  float64\n",
      " 8   COVID-19 Indicator              450806 non-null  Int64  \n",
      " 9   District Name                   450806 non-null  float64\n",
      " 10  Gender                          450806 non-null  float64\n",
      " 11  IME-4 Count                     450806 non-null  Int64  \n",
      " 12  Industry Code                   450806 non-null  float64\n",
      " 13  Medical Fee Region              450806 non-null  float64\n",
      " 14  WCIO Cause of Injury Code       450806 non-null  float64\n",
      " 15  WCIO Nature of Injury Code      450806 non-null  float64\n",
      " 16  WCIO Part Of Body Code          450806 non-null  float64\n",
      " 17  Zip Code                        450806 non-null  float64\n",
      " 18  Agreement Reached               450806 non-null  Int64  \n",
      " 19  Number of Dependents            450806 non-null  Int64  \n",
      " 20  C-3 Received                    450806 non-null  Int64  \n",
      " 21  First Hearing Happened          450806 non-null  Int64  \n",
      " 22  Injury Day of Week              450806 non-null  float64\n",
      " 23  Time to Assembly                450806 non-null  Int64  \n",
      " 24  Time to C-2                     450806 non-null  Int64  \n",
      " 25  Wage/Dependents Ratio           450806 non-null  float64\n",
      " 26  Multiple Form Submissions       450806 non-null  Int64  \n",
      " 27  Above County Wage Average       450806 non-null  Int64  \n",
      " 28  Accident_ymd                    450806 non-null  int32  \n",
      " 29  Assembly_ymd                    450806 non-null  int32  \n",
      " 30  C2_ymd                          450806 non-null  int32  \n",
      "dtypes: Int64(14), float64(14), int32(3)\n",
      "memory usage: 110.9 MB\n"
     ]
    }
   ],
   "source": [
    "X_train.info()"
   ]
  },
  {
   "cell_type": "code",
   "execution_count": 336,
   "id": "192ea534-3ddd-427e-aeca-017e6597b336",
   "metadata": {},
   "outputs": [
    {
     "name": "stdout",
     "output_type": "stream",
     "text": [
      "<class 'pandas.core.frame.DataFrame'>\n",
      "Index: 112717 entries, 5730729 to 5711757\n",
      "Data columns (total 31 columns):\n",
      " #   Column                          Non-Null Count   Dtype  \n",
      "---  ------                          --------------   -----  \n",
      " 0   Age at Injury                   112717 non-null  Int64  \n",
      " 1   Alternative Dispute Resolution  112717 non-null  Int64  \n",
      " 2   Attorney/Representative         112717 non-null  Int64  \n",
      " 3   Average Weekly Wage             112717 non-null  float64\n",
      " 4   Birth Year                      112717 non-null  Int64  \n",
      " 5   Carrier Name                    112717 non-null  float64\n",
      " 6   Carrier Type                    112717 non-null  float64\n",
      " 7   County of Injury                112717 non-null  float64\n",
      " 8   COVID-19 Indicator              112717 non-null  Int64  \n",
      " 9   District Name                   112717 non-null  float64\n",
      " 10  Gender                          112717 non-null  float64\n",
      " 11  IME-4 Count                     112717 non-null  Int64  \n",
      " 12  Industry Code                   112717 non-null  float64\n",
      " 13  Medical Fee Region              112717 non-null  float64\n",
      " 14  WCIO Cause of Injury Code       112717 non-null  float64\n",
      " 15  WCIO Nature of Injury Code      112717 non-null  float64\n",
      " 16  WCIO Part Of Body Code          112717 non-null  float64\n",
      " 17  Zip Code                        112717 non-null  float64\n",
      " 18  Agreement Reached               112717 non-null  Int64  \n",
      " 19  Number of Dependents            112717 non-null  Int64  \n",
      " 20  C-3 Received                    112717 non-null  Int64  \n",
      " 21  First Hearing Happened          112717 non-null  Int64  \n",
      " 22  Injury Day of Week              112717 non-null  float64\n",
      " 23  Time to Assembly                112717 non-null  Int64  \n",
      " 24  Time to C-2                     112717 non-null  Int64  \n",
      " 25  Wage/Dependents Ratio           112717 non-null  float64\n",
      " 26  Multiple Form Submissions       112717 non-null  Int64  \n",
      " 27  Above County Wage Average       112717 non-null  Int64  \n",
      " 28  Accident_ymd                    112717 non-null  int32  \n",
      " 29  Assembly_ymd                    112717 non-null  int32  \n",
      " 30  C2_ymd                          112717 non-null  int32  \n",
      "dtypes: Int64(14), float64(14), int32(3)\n",
      "memory usage: 27.7 MB\n"
     ]
    }
   ],
   "source": [
    "X_val.info()"
   ]
  },
  {
   "cell_type": "code",
   "execution_count": 337,
   "id": "c94bf64c-4c04-4e3f-99c9-13a2e6dfeaf6",
   "metadata": {},
   "outputs": [
    {
     "name": "stdout",
     "output_type": "stream",
     "text": [
      "<class 'pandas.core.frame.DataFrame'>\n",
      "Index: 387975 entries, 6165911 to 6553594\n",
      "Data columns (total 30 columns):\n",
      " #   Column                          Non-Null Count   Dtype  \n",
      "---  ------                          --------------   -----  \n",
      " 0   Age at Injury                   387975 non-null  Int64  \n",
      " 1   Alternative Dispute Resolution  387975 non-null  Int64  \n",
      " 2   Attorney/Representative         387975 non-null  Int64  \n",
      " 3   Average Weekly Wage             387975 non-null  float64\n",
      " 4   Birth Year                      387975 non-null  Int64  \n",
      " 5   Carrier Name                    387975 non-null  float64\n",
      " 6   Carrier Type                    387975 non-null  float64\n",
      " 7   County of Injury                387975 non-null  float64\n",
      " 8   COVID-19 Indicator              387975 non-null  Int64  \n",
      " 9   District Name                   387975 non-null  float64\n",
      " 10  Gender                          387975 non-null  float64\n",
      " 11  IME-4 Count                     387975 non-null  Int64  \n",
      " 12  Industry Code                   387975 non-null  float64\n",
      " 13  Medical Fee Region              387975 non-null  float64\n",
      " 14  WCIO Cause of Injury Code       387975 non-null  float64\n",
      " 15  WCIO Nature of Injury Code      387975 non-null  float64\n",
      " 16  WCIO Part Of Body Code          387975 non-null  float64\n",
      " 17  Zip Code                        387975 non-null  float64\n",
      " 18  Number of Dependents            387975 non-null  Int64  \n",
      " 19  C-3 Received                    387975 non-null  Int64  \n",
      " 20  First Hearing Happened          387975 non-null  Int64  \n",
      " 21  Injury Day of Week              387975 non-null  float64\n",
      " 22  Time to Assembly                387975 non-null  Int64  \n",
      " 23  Time to C-2                     387975 non-null  Int64  \n",
      " 24  Wage/Dependents Ratio           387975 non-null  float64\n",
      " 25  Multiple Form Submissions       387975 non-null  Int64  \n",
      " 26  Above County Wage Average       387975 non-null  Int64  \n",
      " 27  Accident_ymd                    387975 non-null  int32  \n",
      " 28  Assembly_ymd                    387975 non-null  int32  \n",
      " 29  C2_ymd                          387975 non-null  int32  \n",
      "dtypes: Int64(13), float64(14), int32(3)\n",
      "memory usage: 92.1 MB\n"
     ]
    }
   ],
   "source": [
    "df_test.info()"
   ]
  },
  {
   "cell_type": "markdown",
   "id": "30caee80-d017-43ed-9db0-7dd62ee0c9f1",
   "metadata": {},
   "source": [
    "## Scalling"
   ]
  },
  {
   "cell_type": "markdown",
   "id": "daa23178-3244-4123-a02d-f62bf033803b",
   "metadata": {},
   "source": [
    "Now that all the variables are in numeric format, we go ahead and scale the data. Scaling is a must to ensure features contribute equally to the model performance when features are in different units or magnitudes. Because the scaler is fitted on the train data alone, the model never gets a prior knowledge about the test set- therefore keeping the wholesomeness of the evaluation process. Once fitted, the same scaling parameters will be applied to the training and testing datasets."
   ]
  },
  {
   "cell_type": "code",
   "execution_count": 340,
   "id": "5a7f0e5c-6b6b-4426-b057-9195f565c70b",
   "metadata": {},
   "outputs": [],
   "source": [
    "#Add the 'Agreement Reached' column with 0s to df_test\n",
    "df_test['Agreement Reached'] = 0\n",
    "\n",
    "#Reorder columns to place 'Agreement Reached' in index 18\n",
    "cols = df_test.columns.tolist()\n",
    "cols.insert(18, cols.pop(cols.index('Agreement Reached')))  \n",
    "df_test = df_test[cols]"
   ]
  },
  {
   "cell_type": "code",
   "execution_count": 341,
   "id": "c4b09718-689a-4026-a456-1b1fbd1b6a28",
   "metadata": {},
   "outputs": [],
   "source": [
    "columns=X_train.columns"
   ]
  },
  {
   "cell_type": "code",
   "execution_count": 342,
   "id": "1c5f3e7f-13d4-46fb-bd6f-ec949dccd500",
   "metadata": {},
   "outputs": [],
   "source": [
    "scaler = MinMaxScaler()\n",
    "X_train = scaler.fit_transform(X_train)"
   ]
  },
  {
   "cell_type": "code",
   "execution_count": 343,
   "id": "aec47d95-8a3e-473c-9652-2b4d1648d405",
   "metadata": {},
   "outputs": [],
   "source": [
    "X_val = scaler.transform(X_val)\n",
    "df_test = scaler.transform(df_test)"
   ]
  },
  {
   "cell_type": "code",
   "execution_count": 344,
   "id": "af54527f-4dcb-4c9d-a47b-2cbbe725a1cf",
   "metadata": {},
   "outputs": [],
   "source": [
    "X_train = pd.DataFrame(X_train, columns=columns)\n",
    "X_val= pd.DataFrame(X_val, columns=columns)\n",
    "df_test = pd.DataFrame(df_test, columns=columns)"
   ]
  },
  {
   "cell_type": "code",
   "execution_count": 345,
   "id": "c101d747-0c04-4a07-b0dd-896070455c10",
   "metadata": {},
   "outputs": [
    {
     "data": {
      "text/html": [
       "<div>\n",
       "<style scoped>\n",
       "    .dataframe tbody tr th:only-of-type {\n",
       "        vertical-align: middle;\n",
       "    }\n",
       "\n",
       "    .dataframe tbody tr th {\n",
       "        vertical-align: top;\n",
       "    }\n",
       "\n",
       "    .dataframe thead th {\n",
       "        text-align: right;\n",
       "    }\n",
       "</style>\n",
       "<table border=\"1\" class=\"dataframe\">\n",
       "  <thead>\n",
       "    <tr style=\"text-align: right;\">\n",
       "      <th></th>\n",
       "      <th>Age at Injury</th>\n",
       "      <th>Alternative Dispute Resolution</th>\n",
       "      <th>Attorney/Representative</th>\n",
       "      <th>Average Weekly Wage</th>\n",
       "      <th>Birth Year</th>\n",
       "      <th>Carrier Name</th>\n",
       "      <th>Carrier Type</th>\n",
       "      <th>County of Injury</th>\n",
       "      <th>COVID-19 Indicator</th>\n",
       "      <th>District Name</th>\n",
       "      <th>...</th>\n",
       "      <th>First Hearing Happened</th>\n",
       "      <th>Injury Day of Week</th>\n",
       "      <th>Time to Assembly</th>\n",
       "      <th>Time to C-2</th>\n",
       "      <th>Wage/Dependents Ratio</th>\n",
       "      <th>Multiple Form Submissions</th>\n",
       "      <th>Above County Wage Average</th>\n",
       "      <th>Accident_ymd</th>\n",
       "      <th>Assembly_ymd</th>\n",
       "      <th>C2_ymd</th>\n",
       "    </tr>\n",
       "  </thead>\n",
       "  <tbody>\n",
       "    <tr>\n",
       "      <th>0</th>\n",
       "      <td>0.478261</td>\n",
       "      <td>0.0</td>\n",
       "      <td>1.0</td>\n",
       "      <td>0.321065</td>\n",
       "      <td>0.500000</td>\n",
       "      <td>0.403720</td>\n",
       "      <td>0.733607</td>\n",
       "      <td>0.989386</td>\n",
       "      <td>0.0</td>\n",
       "      <td>0.278565</td>\n",
       "      <td>...</td>\n",
       "      <td>0.0</td>\n",
       "      <td>0.828434</td>\n",
       "      <td>0.003149</td>\n",
       "      <td>0.003149</td>\n",
       "      <td>0.026275</td>\n",
       "      <td>1.0</td>\n",
       "      <td>0.0</td>\n",
       "      <td>0.743762</td>\n",
       "      <td>0.506893</td>\n",
       "      <td>0.506844</td>\n",
       "    </tr>\n",
       "    <tr>\n",
       "      <th>1</th>\n",
       "      <td>0.217391</td>\n",
       "      <td>0.0</td>\n",
       "      <td>0.0</td>\n",
       "      <td>0.502797</td>\n",
       "      <td>0.770270</td>\n",
       "      <td>0.407886</td>\n",
       "      <td>0.911625</td>\n",
       "      <td>0.857201</td>\n",
       "      <td>0.0</td>\n",
       "      <td>0.278565</td>\n",
       "      <td>...</td>\n",
       "      <td>1.0</td>\n",
       "      <td>0.866971</td>\n",
       "      <td>0.017003</td>\n",
       "      <td>0.015743</td>\n",
       "      <td>0.125715</td>\n",
       "      <td>0.0</td>\n",
       "      <td>1.0</td>\n",
       "      <td>0.980244</td>\n",
       "      <td>0.966033</td>\n",
       "      <td>0.962488</td>\n",
       "    </tr>\n",
       "    <tr>\n",
       "      <th>2</th>\n",
       "      <td>0.405797</td>\n",
       "      <td>0.0</td>\n",
       "      <td>0.0</td>\n",
       "      <td>0.454288</td>\n",
       "      <td>0.567568</td>\n",
       "      <td>0.433638</td>\n",
       "      <td>0.733607</td>\n",
       "      <td>1.000000</td>\n",
       "      <td>0.0</td>\n",
       "      <td>0.278565</td>\n",
       "      <td>...</td>\n",
       "      <td>0.0</td>\n",
       "      <td>0.866971</td>\n",
       "      <td>0.001889</td>\n",
       "      <td>0.001889</td>\n",
       "      <td>0.075486</td>\n",
       "      <td>0.0</td>\n",
       "      <td>0.0</td>\n",
       "      <td>0.499791</td>\n",
       "      <td>0.037614</td>\n",
       "      <td>0.037655</td>\n",
       "    </tr>\n",
       "    <tr>\n",
       "      <th>3</th>\n",
       "      <td>0.130435</td>\n",
       "      <td>0.0</td>\n",
       "      <td>0.0</td>\n",
       "      <td>0.356477</td>\n",
       "      <td>0.837838</td>\n",
       "      <td>0.302403</td>\n",
       "      <td>0.705795</td>\n",
       "      <td>1.000000</td>\n",
       "      <td>0.0</td>\n",
       "      <td>0.278565</td>\n",
       "      <td>...</td>\n",
       "      <td>0.0</td>\n",
       "      <td>0.828434</td>\n",
       "      <td>0.013854</td>\n",
       "      <td>0.013854</td>\n",
       "      <td>0.179504</td>\n",
       "      <td>0.0</td>\n",
       "      <td>0.0</td>\n",
       "      <td>0.738958</td>\n",
       "      <td>0.501776</td>\n",
       "      <td>0.501729</td>\n",
       "    </tr>\n",
       "    <tr>\n",
       "      <th>4</th>\n",
       "      <td>0.362319</td>\n",
       "      <td>0.0</td>\n",
       "      <td>1.0</td>\n",
       "      <td>0.103806</td>\n",
       "      <td>0.621622</td>\n",
       "      <td>0.631456</td>\n",
       "      <td>0.705795</td>\n",
       "      <td>0.835919</td>\n",
       "      <td>0.0</td>\n",
       "      <td>0.278565</td>\n",
       "      <td>...</td>\n",
       "      <td>1.0</td>\n",
       "      <td>0.862290</td>\n",
       "      <td>0.036524</td>\n",
       "      <td>0.039673</td>\n",
       "      <td>0.012821</td>\n",
       "      <td>0.0</td>\n",
       "      <td>0.0</td>\n",
       "      <td>0.973371</td>\n",
       "      <td>0.957648</td>\n",
       "      <td>0.957751</td>\n",
       "    </tr>\n",
       "  </tbody>\n",
       "</table>\n",
       "<p>5 rows × 31 columns</p>\n",
       "</div>"
      ],
      "text/plain": [
       "   Age at Injury  Alternative Dispute Resolution  Attorney/Representative  \\\n",
       "0       0.478261                             0.0                      1.0   \n",
       "1       0.217391                             0.0                      0.0   \n",
       "2       0.405797                             0.0                      0.0   \n",
       "3       0.130435                             0.0                      0.0   \n",
       "4       0.362319                             0.0                      1.0   \n",
       "\n",
       "   Average Weekly Wage  Birth Year  Carrier Name  Carrier Type  \\\n",
       "0             0.321065    0.500000      0.403720      0.733607   \n",
       "1             0.502797    0.770270      0.407886      0.911625   \n",
       "2             0.454288    0.567568      0.433638      0.733607   \n",
       "3             0.356477    0.837838      0.302403      0.705795   \n",
       "4             0.103806    0.621622      0.631456      0.705795   \n",
       "\n",
       "   County of Injury  COVID-19 Indicator  District Name  ...  \\\n",
       "0          0.989386                 0.0       0.278565  ...   \n",
       "1          0.857201                 0.0       0.278565  ...   \n",
       "2          1.000000                 0.0       0.278565  ...   \n",
       "3          1.000000                 0.0       0.278565  ...   \n",
       "4          0.835919                 0.0       0.278565  ...   \n",
       "\n",
       "   First Hearing Happened  Injury Day of Week  Time to Assembly  Time to C-2  \\\n",
       "0                     0.0            0.828434          0.003149     0.003149   \n",
       "1                     1.0            0.866971          0.017003     0.015743   \n",
       "2                     0.0            0.866971          0.001889     0.001889   \n",
       "3                     0.0            0.828434          0.013854     0.013854   \n",
       "4                     1.0            0.862290          0.036524     0.039673   \n",
       "\n",
       "   Wage/Dependents Ratio  Multiple Form Submissions  \\\n",
       "0               0.026275                        1.0   \n",
       "1               0.125715                        0.0   \n",
       "2               0.075486                        0.0   \n",
       "3               0.179504                        0.0   \n",
       "4               0.012821                        0.0   \n",
       "\n",
       "   Above County Wage Average  Accident_ymd  Assembly_ymd    C2_ymd  \n",
       "0                        0.0      0.743762      0.506893  0.506844  \n",
       "1                        1.0      0.980244      0.966033  0.962488  \n",
       "2                        0.0      0.499791      0.037614  0.037655  \n",
       "3                        0.0      0.738958      0.501776  0.501729  \n",
       "4                        0.0      0.973371      0.957648  0.957751  \n",
       "\n",
       "[5 rows x 31 columns]"
      ]
     },
     "execution_count": 345,
     "metadata": {},
     "output_type": "execute_result"
    }
   ],
   "source": [
    "X_train.head()"
   ]
  },
  {
   "cell_type": "code",
   "execution_count": 346,
   "id": "4c53f650-5b38-40ee-8b42-fd748ebdcc63",
   "metadata": {},
   "outputs": [
    {
     "data": {
      "text/html": [
       "<div>\n",
       "<style scoped>\n",
       "    .dataframe tbody tr th:only-of-type {\n",
       "        vertical-align: middle;\n",
       "    }\n",
       "\n",
       "    .dataframe tbody tr th {\n",
       "        vertical-align: top;\n",
       "    }\n",
       "\n",
       "    .dataframe thead th {\n",
       "        text-align: right;\n",
       "    }\n",
       "</style>\n",
       "<table border=\"1\" class=\"dataframe\">\n",
       "  <thead>\n",
       "    <tr style=\"text-align: right;\">\n",
       "      <th></th>\n",
       "      <th>Age at Injury</th>\n",
       "      <th>Alternative Dispute Resolution</th>\n",
       "      <th>Attorney/Representative</th>\n",
       "      <th>Average Weekly Wage</th>\n",
       "      <th>Birth Year</th>\n",
       "      <th>Carrier Name</th>\n",
       "      <th>Carrier Type</th>\n",
       "      <th>County of Injury</th>\n",
       "      <th>COVID-19 Indicator</th>\n",
       "      <th>District Name</th>\n",
       "      <th>...</th>\n",
       "      <th>First Hearing Happened</th>\n",
       "      <th>Injury Day of Week</th>\n",
       "      <th>Time to Assembly</th>\n",
       "      <th>Time to C-2</th>\n",
       "      <th>Wage/Dependents Ratio</th>\n",
       "      <th>Multiple Form Submissions</th>\n",
       "      <th>Above County Wage Average</th>\n",
       "      <th>Accident_ymd</th>\n",
       "      <th>Assembly_ymd</th>\n",
       "      <th>C2_ymd</th>\n",
       "    </tr>\n",
       "  </thead>\n",
       "  <tbody>\n",
       "    <tr>\n",
       "      <th>0</th>\n",
       "      <td>0.507246</td>\n",
       "      <td>0.0</td>\n",
       "      <td>1.0</td>\n",
       "      <td>0.665995</td>\n",
       "      <td>0.472973</td>\n",
       "      <td>0.568839</td>\n",
       "      <td>1.000000</td>\n",
       "      <td>1.000000</td>\n",
       "      <td>0.0</td>\n",
       "      <td>0.278565</td>\n",
       "      <td>...</td>\n",
       "      <td>0.0</td>\n",
       "      <td>0.866971</td>\n",
       "      <td>0.004408</td>\n",
       "      <td>0.004408</td>\n",
       "      <td>0.667751</td>\n",
       "      <td>0.0</td>\n",
       "      <td>1.0</td>\n",
       "      <td>0.736692</td>\n",
       "      <td>0.493391</td>\n",
       "      <td>0.493345</td>\n",
       "    </tr>\n",
       "    <tr>\n",
       "      <th>1</th>\n",
       "      <td>0.159420</td>\n",
       "      <td>0.0</td>\n",
       "      <td>0.0</td>\n",
       "      <td>0.275028</td>\n",
       "      <td>0.810811</td>\n",
       "      <td>0.568839</td>\n",
       "      <td>1.000000</td>\n",
       "      <td>1.000000</td>\n",
       "      <td>0.0</td>\n",
       "      <td>0.278565</td>\n",
       "      <td>...</td>\n",
       "      <td>0.0</td>\n",
       "      <td>0.995817</td>\n",
       "      <td>0.061083</td>\n",
       "      <td>0.061083</td>\n",
       "      <td>0.278835</td>\n",
       "      <td>0.0</td>\n",
       "      <td>0.0</td>\n",
       "      <td>0.980342</td>\n",
       "      <td>0.976124</td>\n",
       "      <td>0.975986</td>\n",
       "    </tr>\n",
       "    <tr>\n",
       "      <th>2</th>\n",
       "      <td>0.188406</td>\n",
       "      <td>0.0</td>\n",
       "      <td>1.0</td>\n",
       "      <td>0.257152</td>\n",
       "      <td>0.797297</td>\n",
       "      <td>0.424869</td>\n",
       "      <td>0.733607</td>\n",
       "      <td>0.813450</td>\n",
       "      <td>0.0</td>\n",
       "      <td>0.145343</td>\n",
       "      <td>...</td>\n",
       "      <td>1.0</td>\n",
       "      <td>1.000000</td>\n",
       "      <td>0.001889</td>\n",
       "      <td>0.001889</td>\n",
       "      <td>0.130102</td>\n",
       "      <td>0.0</td>\n",
       "      <td>0.0</td>\n",
       "      <td>0.989999</td>\n",
       "      <td>0.980340</td>\n",
       "      <td>0.980202</td>\n",
       "    </tr>\n",
       "    <tr>\n",
       "      <th>3</th>\n",
       "      <td>0.507246</td>\n",
       "      <td>0.0</td>\n",
       "      <td>0.0</td>\n",
       "      <td>0.443286</td>\n",
       "      <td>0.486486</td>\n",
       "      <td>0.463778</td>\n",
       "      <td>0.733607</td>\n",
       "      <td>0.553157</td>\n",
       "      <td>0.0</td>\n",
       "      <td>0.278565</td>\n",
       "      <td>...</td>\n",
       "      <td>1.0</td>\n",
       "      <td>0.879452</td>\n",
       "      <td>0.041562</td>\n",
       "      <td>0.041562</td>\n",
       "      <td>0.110916</td>\n",
       "      <td>0.0</td>\n",
       "      <td>0.0</td>\n",
       "      <td>0.973248</td>\n",
       "      <td>0.957791</td>\n",
       "      <td>0.957656</td>\n",
       "    </tr>\n",
       "    <tr>\n",
       "      <th>4</th>\n",
       "      <td>0.536232</td>\n",
       "      <td>0.0</td>\n",
       "      <td>1.0</td>\n",
       "      <td>0.260481</td>\n",
       "      <td>0.432432</td>\n",
       "      <td>0.527421</td>\n",
       "      <td>0.911625</td>\n",
       "      <td>0.548335</td>\n",
       "      <td>0.0</td>\n",
       "      <td>0.145343</td>\n",
       "      <td>...</td>\n",
       "      <td>1.0</td>\n",
       "      <td>0.879452</td>\n",
       "      <td>0.003778</td>\n",
       "      <td>0.003778</td>\n",
       "      <td>0.043354</td>\n",
       "      <td>1.0</td>\n",
       "      <td>0.0</td>\n",
       "      <td>0.490454</td>\n",
       "      <td>0.019802</td>\n",
       "      <td>0.019846</td>\n",
       "    </tr>\n",
       "  </tbody>\n",
       "</table>\n",
       "<p>5 rows × 31 columns</p>\n",
       "</div>"
      ],
      "text/plain": [
       "   Age at Injury  Alternative Dispute Resolution  Attorney/Representative  \\\n",
       "0       0.507246                             0.0                      1.0   \n",
       "1       0.159420                             0.0                      0.0   \n",
       "2       0.188406                             0.0                      1.0   \n",
       "3       0.507246                             0.0                      0.0   \n",
       "4       0.536232                             0.0                      1.0   \n",
       "\n",
       "   Average Weekly Wage  Birth Year  Carrier Name  Carrier Type  \\\n",
       "0             0.665995    0.472973      0.568839      1.000000   \n",
       "1             0.275028    0.810811      0.568839      1.000000   \n",
       "2             0.257152    0.797297      0.424869      0.733607   \n",
       "3             0.443286    0.486486      0.463778      0.733607   \n",
       "4             0.260481    0.432432      0.527421      0.911625   \n",
       "\n",
       "   County of Injury  COVID-19 Indicator  District Name  ...  \\\n",
       "0          1.000000                 0.0       0.278565  ...   \n",
       "1          1.000000                 0.0       0.278565  ...   \n",
       "2          0.813450                 0.0       0.145343  ...   \n",
       "3          0.553157                 0.0       0.278565  ...   \n",
       "4          0.548335                 0.0       0.145343  ...   \n",
       "\n",
       "   First Hearing Happened  Injury Day of Week  Time to Assembly  Time to C-2  \\\n",
       "0                     0.0            0.866971          0.004408     0.004408   \n",
       "1                     0.0            0.995817          0.061083     0.061083   \n",
       "2                     1.0            1.000000          0.001889     0.001889   \n",
       "3                     1.0            0.879452          0.041562     0.041562   \n",
       "4                     1.0            0.879452          0.003778     0.003778   \n",
       "\n",
       "   Wage/Dependents Ratio  Multiple Form Submissions  \\\n",
       "0               0.667751                        0.0   \n",
       "1               0.278835                        0.0   \n",
       "2               0.130102                        0.0   \n",
       "3               0.110916                        0.0   \n",
       "4               0.043354                        1.0   \n",
       "\n",
       "   Above County Wage Average  Accident_ymd  Assembly_ymd    C2_ymd  \n",
       "0                        1.0      0.736692      0.493391  0.493345  \n",
       "1                        0.0      0.980342      0.976124  0.975986  \n",
       "2                        0.0      0.989999      0.980340  0.980202  \n",
       "3                        0.0      0.973248      0.957791  0.957656  \n",
       "4                        0.0      0.490454      0.019802  0.019846  \n",
       "\n",
       "[5 rows x 31 columns]"
      ]
     },
     "execution_count": 346,
     "metadata": {},
     "output_type": "execute_result"
    }
   ],
   "source": [
    "X_val.head()"
   ]
  },
  {
   "cell_type": "code",
   "execution_count": 347,
   "id": "e61a6410-8362-4f61-9783-c66aee8cfc96",
   "metadata": {},
   "outputs": [
    {
     "data": {
      "text/html": [
       "<div>\n",
       "<style scoped>\n",
       "    .dataframe tbody tr th:only-of-type {\n",
       "        vertical-align: middle;\n",
       "    }\n",
       "\n",
       "    .dataframe tbody tr th {\n",
       "        vertical-align: top;\n",
       "    }\n",
       "\n",
       "    .dataframe thead th {\n",
       "        text-align: right;\n",
       "    }\n",
       "</style>\n",
       "<table border=\"1\" class=\"dataframe\">\n",
       "  <thead>\n",
       "    <tr style=\"text-align: right;\">\n",
       "      <th></th>\n",
       "      <th>Age at Injury</th>\n",
       "      <th>Alternative Dispute Resolution</th>\n",
       "      <th>Attorney/Representative</th>\n",
       "      <th>Average Weekly Wage</th>\n",
       "      <th>Birth Year</th>\n",
       "      <th>Carrier Name</th>\n",
       "      <th>Carrier Type</th>\n",
       "      <th>County of Injury</th>\n",
       "      <th>COVID-19 Indicator</th>\n",
       "      <th>District Name</th>\n",
       "      <th>...</th>\n",
       "      <th>First Hearing Happened</th>\n",
       "      <th>Injury Day of Week</th>\n",
       "      <th>Time to Assembly</th>\n",
       "      <th>Time to C-2</th>\n",
       "      <th>Wage/Dependents Ratio</th>\n",
       "      <th>Multiple Form Submissions</th>\n",
       "      <th>Above County Wage Average</th>\n",
       "      <th>Accident_ymd</th>\n",
       "      <th>Assembly_ymd</th>\n",
       "      <th>C2_ymd</th>\n",
       "    </tr>\n",
       "  </thead>\n",
       "  <tbody>\n",
       "    <tr>\n",
       "      <th>0</th>\n",
       "      <td>0.043478</td>\n",
       "      <td>0.0</td>\n",
       "      <td>0.0</td>\n",
       "      <td>0.436496</td>\n",
       "      <td>0.932432</td>\n",
       "      <td>0.430796</td>\n",
       "      <td>0.733607</td>\n",
       "      <td>0.857201</td>\n",
       "      <td>0.0</td>\n",
       "      <td>0.278565</td>\n",
       "      <td>...</td>\n",
       "      <td>0.0</td>\n",
       "      <td>0.995817</td>\n",
       "      <td>0.005668</td>\n",
       "      <td>0.005668</td>\n",
       "      <td>0.219304</td>\n",
       "      <td>0.0</td>\n",
       "      <td>0.0</td>\n",
       "      <td>1.000419</td>\n",
       "      <td>1.420816</td>\n",
       "      <td>1.420594</td>\n",
       "    </tr>\n",
       "    <tr>\n",
       "      <th>1</th>\n",
       "      <td>0.043478</td>\n",
       "      <td>0.0</td>\n",
       "      <td>0.0</td>\n",
       "      <td>0.340429</td>\n",
       "      <td>0.932432</td>\n",
       "      <td>0.487685</td>\n",
       "      <td>0.733607</td>\n",
       "      <td>0.989386</td>\n",
       "      <td>0.0</td>\n",
       "      <td>0.278565</td>\n",
       "      <td>...</td>\n",
       "      <td>0.0</td>\n",
       "      <td>0.000000</td>\n",
       "      <td>0.027078</td>\n",
       "      <td>0.027078</td>\n",
       "      <td>0.171521</td>\n",
       "      <td>0.0</td>\n",
       "      <td>0.0</td>\n",
       "      <td>0.997857</td>\n",
       "      <td>1.420816</td>\n",
       "      <td>1.420594</td>\n",
       "    </tr>\n",
       "    <tr>\n",
       "      <th>2</th>\n",
       "      <td>0.623188</td>\n",
       "      <td>0.0</td>\n",
       "      <td>0.0</td>\n",
       "      <td>0.378834</td>\n",
       "      <td>0.391892</td>\n",
       "      <td>0.482773</td>\n",
       "      <td>0.733607</td>\n",
       "      <td>0.597650</td>\n",
       "      <td>0.0</td>\n",
       "      <td>0.278565</td>\n",
       "      <td>...</td>\n",
       "      <td>0.0</td>\n",
       "      <td>1.000000</td>\n",
       "      <td>0.004408</td>\n",
       "      <td>0.003149</td>\n",
       "      <td>0.382096</td>\n",
       "      <td>0.0</td>\n",
       "      <td>0.0</td>\n",
       "      <td>1.000468</td>\n",
       "      <td>1.420816</td>\n",
       "      <td>1.000426</td>\n",
       "    </tr>\n",
       "    <tr>\n",
       "      <th>3</th>\n",
       "      <td>0.565217</td>\n",
       "      <td>0.0</td>\n",
       "      <td>0.0</td>\n",
       "      <td>0.436496</td>\n",
       "      <td>0.445946</td>\n",
       "      <td>0.428133</td>\n",
       "      <td>0.733607</td>\n",
       "      <td>0.989386</td>\n",
       "      <td>0.0</td>\n",
       "      <td>0.278565</td>\n",
       "      <td>...</td>\n",
       "      <td>0.0</td>\n",
       "      <td>0.862290</td>\n",
       "      <td>0.003149</td>\n",
       "      <td>0.003149</td>\n",
       "      <td>0.035843</td>\n",
       "      <td>0.0</td>\n",
       "      <td>0.0</td>\n",
       "      <td>1.000517</td>\n",
       "      <td>1.420816</td>\n",
       "      <td>1.420594</td>\n",
       "    </tr>\n",
       "    <tr>\n",
       "      <th>4</th>\n",
       "      <td>0.130435</td>\n",
       "      <td>0.0</td>\n",
       "      <td>0.0</td>\n",
       "      <td>0.512716</td>\n",
       "      <td>0.851351</td>\n",
       "      <td>0.275196</td>\n",
       "      <td>0.733607</td>\n",
       "      <td>1.000000</td>\n",
       "      <td>0.0</td>\n",
       "      <td>0.278565</td>\n",
       "      <td>...</td>\n",
       "      <td>0.0</td>\n",
       "      <td>0.866971</td>\n",
       "      <td>0.008186</td>\n",
       "      <td>0.006927</td>\n",
       "      <td>0.050764</td>\n",
       "      <td>0.0</td>\n",
       "      <td>1.0</td>\n",
       "      <td>1.000320</td>\n",
       "      <td>1.420816</td>\n",
       "      <td>1.000426</td>\n",
       "    </tr>\n",
       "  </tbody>\n",
       "</table>\n",
       "<p>5 rows × 31 columns</p>\n",
       "</div>"
      ],
      "text/plain": [
       "   Age at Injury  Alternative Dispute Resolution  Attorney/Representative  \\\n",
       "0       0.043478                             0.0                      0.0   \n",
       "1       0.043478                             0.0                      0.0   \n",
       "2       0.623188                             0.0                      0.0   \n",
       "3       0.565217                             0.0                      0.0   \n",
       "4       0.130435                             0.0                      0.0   \n",
       "\n",
       "   Average Weekly Wage  Birth Year  Carrier Name  Carrier Type  \\\n",
       "0             0.436496    0.932432      0.430796      0.733607   \n",
       "1             0.340429    0.932432      0.487685      0.733607   \n",
       "2             0.378834    0.391892      0.482773      0.733607   \n",
       "3             0.436496    0.445946      0.428133      0.733607   \n",
       "4             0.512716    0.851351      0.275196      0.733607   \n",
       "\n",
       "   County of Injury  COVID-19 Indicator  District Name  ...  \\\n",
       "0          0.857201                 0.0       0.278565  ...   \n",
       "1          0.989386                 0.0       0.278565  ...   \n",
       "2          0.597650                 0.0       0.278565  ...   \n",
       "3          0.989386                 0.0       0.278565  ...   \n",
       "4          1.000000                 0.0       0.278565  ...   \n",
       "\n",
       "   First Hearing Happened  Injury Day of Week  Time to Assembly  Time to C-2  \\\n",
       "0                     0.0            0.995817          0.005668     0.005668   \n",
       "1                     0.0            0.000000          0.027078     0.027078   \n",
       "2                     0.0            1.000000          0.004408     0.003149   \n",
       "3                     0.0            0.862290          0.003149     0.003149   \n",
       "4                     0.0            0.866971          0.008186     0.006927   \n",
       "\n",
       "   Wage/Dependents Ratio  Multiple Form Submissions  \\\n",
       "0               0.219304                        0.0   \n",
       "1               0.171521                        0.0   \n",
       "2               0.382096                        0.0   \n",
       "3               0.035843                        0.0   \n",
       "4               0.050764                        0.0   \n",
       "\n",
       "   Above County Wage Average  Accident_ymd  Assembly_ymd    C2_ymd  \n",
       "0                        0.0      1.000419      1.420816  1.420594  \n",
       "1                        0.0      0.997857      1.420816  1.420594  \n",
       "2                        0.0      1.000468      1.420816  1.000426  \n",
       "3                        0.0      1.000517      1.420816  1.420594  \n",
       "4                        1.0      1.000320      1.420816  1.000426  \n",
       "\n",
       "[5 rows x 31 columns]"
      ]
     },
     "execution_count": 347,
     "metadata": {},
     "output_type": "execute_result"
    }
   ],
   "source": [
    "df_test.head()"
   ]
  },
  {
   "cell_type": "code",
   "execution_count": 348,
   "id": "180e2571-48c2-4efa-97d6-77442b6208ef",
   "metadata": {},
   "outputs": [],
   "source": [
    "y_train = pd.DataFrame(y_train)\n",
    "y_val = pd.DataFrame(y_val)"
   ]
  },
  {
   "cell_type": "code",
   "execution_count": 349,
   "id": "0edf7d06-d672-4a92-9ee7-a29251d5a1ce",
   "metadata": {},
   "outputs": [],
   "source": [
    "#Save X_train to a CSV file\n",
    "X_train.to_csv('X_train_enc_scal.csv', index=False)\n",
    "\n",
    "#Save X_val to a CSV file\n",
    "X_val.to_csv('X_val_enc_scal.csv', index=False)\n",
    "\n",
    "#Save df_test to a CSV file\n",
    "df_test.to_csv('df_test_enc_scal.csv', index=False)\n",
    "\n",
    "#Save y_train to a CSV file\n",
    "y_train.to_csv('y_train_enc.csv', index=False)\n",
    "\n",
    "#Save y_val to a CSV file\n",
    "y_val.to_csv('y_val_enc.csv', index=False)"
   ]
  },
  {
   "cell_type": "code",
   "execution_count": 350,
   "id": "ae5e8ae7-f921-4222-94fb-adc5bf29acba",
   "metadata": {},
   "outputs": [
    {
     "name": "stdout",
     "output_type": "stream",
     "text": [
      "Scaler saved as 'scaler.pkl'\n",
      "Target Encoder saved as 'target_encoder.pkl'\n",
      "Label Encoder saved as 'label_encoder.pkl'\n"
     ]
    }
   ],
   "source": [
    "joblib.dump(scaler, 'scaler.pkl')\n",
    "print(\"Scaler saved as 'scaler.pkl'\")\n",
    "\n",
    "joblib.dump(target_encoder, 'target_encoder.pkl')\n",
    "print(\"Target Encoder saved as 'target_encoder.pkl'\")\n",
    "\n",
    "joblib.dump(label_encoder, 'label_encoder.pkl')\n",
    "print(\"Label Encoder saved as 'label_encoder.pkl'\")"
   ]
  }
 ],
 "metadata": {
  "kernelspec": {
   "display_name": "Python 3 (ipykernel)",
   "language": "python",
   "name": "python3"
  },
  "language_info": {
   "codemirror_mode": {
    "name": "ipython",
    "version": 3
   },
   "file_extension": ".py",
   "mimetype": "text/x-python",
   "name": "python",
   "nbconvert_exporter": "python",
   "pygments_lexer": "ipython3",
   "version": "3.11.5"
  }
 },
 "nbformat": 4,
 "nbformat_minor": 5
}
